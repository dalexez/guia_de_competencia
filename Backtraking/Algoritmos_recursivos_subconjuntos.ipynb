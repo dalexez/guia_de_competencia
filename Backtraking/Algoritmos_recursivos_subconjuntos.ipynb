{
 "cells": [
  {
   "cell_type": "markdown",
   "metadata": {},
   "source": [
    "# Una guía para competir"
   ]
  },
  {
   "cell_type": "markdown",
   "metadata": {},
   "source": [
    "Esta serie de notebooks está basada en el libro: \n",
    "* Guide to Competitive Programming: https://link.springer.com/book/10.1007/978-3-319-72547-5  \n"
   ]
  },
  {
   "cell_type": "markdown",
   "metadata": {},
   "source": [
    "El código originalmente se encuentra escrito en C++, decidí volverlo a escribir en python para poder practicar y también porque me da pereza aprender C++ para competir."
   ]
  },
  {
   "cell_type": "markdown",
   "metadata": {},
   "source": [
    "## Algoritmos recursivos"
   ]
  },
  {
   "cell_type": "markdown",
   "metadata": {},
   "source": [
    "\"Un algoritmo recursivo es un algoritmo que expresa la solución de un problema en términos de una llamada a sí mismo. La llamada a sí mismo se conoce como llamada recursiva o recurrente.\"  \n",
    "https://es.wikipedia.org/wiki/Recursi%C3%B3n_(ciencias_de_computaci%C3%B3n)"
   ]
  },
  {
   "cell_type": "markdown",
   "metadata": {},
   "source": [
    "### Subconjuntos"
   ]
  },
  {
   "cell_type": "markdown",
   "metadata": {},
   "source": [
    "El siguiente algoritmo está diseñado para generar subconjuntos de una sucesión:  \n",
    "* Sucesión: 1,2,3\n",
    "* Subconjuntos: ∅,{1},{2},{3},{1,2},{1,3},{2,3},{1,2,3}. \n",
    "    "
   ]
  },
  {
   "cell_type": "code",
   "execution_count": 39,
   "metadata": {},
   "outputs": [],
   "source": [
    "#variable global, útil para competencias\n",
    "#no recomendado para desarrollo\n",
    "subconjuntos = []\n",
    "\n",
    "#función recursiva\n",
    "def divide_sucesion(k,n,lista):\n",
    "    if(k==n+1):\n",
    "        #retorna\n",
    "        global subconjuntos\n",
    "        subconjuntos.append(lista.copy())\n",
    "    else:\n",
    "        lista.append(k)\n",
    "        divide_sucesion(k+1,n,lista)    \n",
    "        lista.pop(-1)\n",
    "        divide_sucesion(k+1,n,lista)     "
   ]
  },
  {
   "cell_type": "code",
   "execution_count": 40,
   "metadata": {},
   "outputs": [
    {
     "name": "stdout",
     "output_type": "stream",
     "text": [
      "[[1, 2, 3], [1, 2], [1, 3], [1], [2, 3], [2], [3], []]\n"
     ]
    }
   ],
   "source": [
    "divide_sucesion(1,3,[])\n",
    "print(subconjuntos)"
   ]
  },
  {
   "cell_type": "markdown",
   "metadata": {},
   "source": [
    "Ahora necesito explicar este código, porque yo tampoco lo entiendo del todo.  \n",
    "1. Inicializo una variable global para poder almacenar los subconjuntos, esto es perfectamente aceptable para competencias.\n",
    "```python\n",
    "subconjuntos = []\n",
    "```\n",
    "2. Luego, defino una función donde recibo: el número en el que me encuentro `k`, el número máximo de la sucesión `n` y una `lista` en la que iré almacenando un subconjunto a la vez.\n",
    "```python\n",
    "def divide_sucesion(k,n,lista):\n",
    "```\n",
    "3. Explicaré lo que ocurre en el `else` primero debido al orden de ejecución. Agrego el número en el que me encuentro al subconjunto que estoy tratando. Entonces, justo después de que agrego el número en el que me encuentro, vuelvo a llamar a la función para agregar al siguiente `k + 1`. Por ello, el primer subconjunto será `[1,2,3]`, de acuerdo al ejemplo.\n",
    "```python\n",
    "    else:\n",
    "        lista.append(k)\n",
    "        divide_sucesion(k+1,n,lista)          \n",
    "```\n",
    "4. Si seguimos la ejecución, ahora debemos saltar al `if`. En el código de arriba, llamo a la misma función con `k+1` y esto se puede volver un bucle infinito si no le pongo un límite. Entonces, si `k` es igual a `n+1`, significa que he superado el límite `n` y que el subconjunto que estoy tratando ha finalizado. Por eso, guardo una copia de la lista en `subconjuntos`. Es importante mencionar que `subconjuntos` es una variable global: `global subconjuntos`, para que python trabaje correctamente con ella. Además, también es importante sacarle copia a la lista `lista.copy()`, o si no, sólo se guardará un apuntador y eso hará que pierdas la información.\n",
    "```python\n",
    "    if(k==n+1):\n",
    "        #retorna\n",
    "        global subconjuntos\n",
    "        subconjuntos.append(lista.copy())\n",
    "```\n",
    "5. Finalmente, regreso a la ejecución del `else`. Pensemos que la función acaba de almacenar un subconjunto, entonces, retiro el último elemento para que sea un subconjunto diferente: `lista.pop(-1)`. Vuelvo a llamar a la función con `k+1` para que almacene el nuevo subconjunto.\n",
    "```python\n",
    "        lista.pop(-1)\n",
    "        divide_sucesion(k+1,n,lista) \n",
    "```"
   ]
  },
  {
   "cell_type": "code",
   "execution_count": 49,
   "metadata": {},
   "outputs": [
    {
     "name": "stdout",
     "output_type": "stream",
     "text": [
      "4\n",
      "1 2 3 4 \n",
      "1 2 3 \n",
      "1 2 4 \n",
      "1 2 \n",
      "1 3 4 \n",
      "1 3 \n",
      "1 4 \n",
      "1 \n",
      "2 3 4 \n",
      "2 3 \n",
      "2 4 \n",
      "2 \n",
      "3 4 \n",
      "3 \n",
      "4 \n",
      "\n"
     ]
    }
   ],
   "source": [
    "#ejecución con entrada y salida estándar\n",
    "\n",
    "#1\n",
    "subconjuntos = []\n",
    "\n",
    "#2\n",
    "def divide_sucesion(k,n,lista):\n",
    "    \n",
    "    #4\n",
    "    if(k==n+1):\n",
    "        #retorna\n",
    "        global subconjuntos\n",
    "        subconjuntos.append(lista.copy())\n",
    "    \n",
    "    #3\n",
    "    else:\n",
    "        lista.append(k)\n",
    "        divide_sucesion(k+1,n,lista)    \n",
    "        \n",
    "        #5\n",
    "        lista.pop(-1)\n",
    "        divide_sucesion(k+1,n,lista) \n",
    "        \n",
    "        \n",
    "n = int(input())\n",
    "divide_sucesion(1,n,[])\n",
    "for conjunto in subconjuntos:\n",
    "    for num in conjunto:\n",
    "        # using format() method \n",
    "        print('{} '.format(num),end='') \n",
    "    print(\"\\n\",end='')"
   ]
  },
  {
   "cell_type": "code",
   "execution_count": null,
   "metadata": {},
   "outputs": [],
   "source": []
  },
  {
   "cell_type": "code",
   "execution_count": null,
   "metadata": {},
   "outputs": [],
   "source": []
  }
 ],
 "metadata": {
  "kernelspec": {
   "display_name": "Python 3",
   "language": "python",
   "name": "python3"
  },
  "language_info": {
   "codemirror_mode": {
    "name": "ipython",
    "version": 3
   },
   "file_extension": ".py",
   "mimetype": "text/x-python",
   "name": "python",
   "nbconvert_exporter": "python",
   "pygments_lexer": "ipython3",
   "version": "3.6.5"
  }
 },
 "nbformat": 4,
 "nbformat_minor": 2
}
