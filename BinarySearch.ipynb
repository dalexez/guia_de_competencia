{
 "cells": [
  {
   "cell_type": "markdown",
   "metadata": {},
   "source": [
    "# Búsqueda binaria\n",
    "Este fue el primer algoritmo que aprendí que rompía mi forma de pensar. La búsqueda binaria consiste en encontrar un número dentro de una lista ordenada, dividiendo la lista en dos cada vez que realiza la búsqueda.\n"
   ]
  },
  {
   "cell_type": "markdown",
   "metadata": {},
   "source": [
    "Si busco un número `x = 10` en una lista `l=[3,10,2,5,7,8]`. Lo primero que tengo que hacer es ordenar la lista."
   ]
  },
  {
   "cell_type": "code",
   "execution_count": 10,
   "metadata": {},
   "outputs": [
    {
     "data": {
      "text/plain": [
       "[2, 3, 5, 7, 8, 10]"
      ]
     },
     "execution_count": 10,
     "metadata": {},
     "output_type": "execute_result"
    }
   ],
   "source": [
    "l=[3,10,2,5,7,8]\n",
    "l_ordenada = sorted(l)\n",
    "l_ordenada"
   ]
  },
  {
   "cell_type": "markdown",
   "metadata": {},
   "source": [
    "Ahora determino un centro para empezar mi búsqueda."
   ]
  },
  {
   "cell_type": "code",
   "execution_count": 11,
   "metadata": {},
   "outputs": [
    {
     "data": {
      "text/plain": [
       "7"
      ]
     },
     "execution_count": 11,
     "metadata": {},
     "output_type": "execute_result"
    }
   ],
   "source": [
    "centro = len(l)//2\n",
    "num_central = l_ordenada[centro]\n",
    "num_central"
   ]
  },
  {
   "cell_type": "markdown",
   "metadata": {},
   "source": [
    "Si mi centro es igual a `x` entonces el algoritmo se detiene. En este caso, mi centro es menor al número que estoy buscando, entonces descarto todos los números que están debajo: `[2,3,5]`"
   ]
  },
  {
   "cell_type": "code",
   "execution_count": 12,
   "metadata": {},
   "outputs": [
    {
     "data": {
      "text/plain": [
       "[7, 8, 10]"
      ]
     },
     "execution_count": 12,
     "metadata": {},
     "output_type": "execute_result"
    }
   ],
   "source": [
    "l_recortada = l_ordenada[centro:]\n",
    "l_recortada"
   ]
  },
  {
   "cell_type": "markdown",
   "metadata": {},
   "source": [
    "Obtengo un nuevo centro y repito el proceso."
   ]
  },
  {
   "cell_type": "code",
   "execution_count": 13,
   "metadata": {},
   "outputs": [
    {
     "data": {
      "text/plain": [
       "8"
      ]
     },
     "execution_count": 13,
     "metadata": {},
     "output_type": "execute_result"
    }
   ],
   "source": [
    "centro = len(l_recortada)//2\n",
    "num_central = l_recortada[centro]\n",
    "num_central"
   ]
  },
  {
   "cell_type": "code",
   "execution_count": 14,
   "metadata": {},
   "outputs": [
    {
     "data": {
      "text/plain": [
       "[8, 10]"
      ]
     },
     "execution_count": 14,
     "metadata": {},
     "output_type": "execute_result"
    }
   ],
   "source": [
    "l_recortada = l_recortada[centro:]\n",
    "l_recortada"
   ]
  },
  {
   "cell_type": "code",
   "execution_count": 15,
   "metadata": {},
   "outputs": [
    {
     "data": {
      "text/plain": [
       "10"
      ]
     },
     "execution_count": 15,
     "metadata": {},
     "output_type": "execute_result"
    }
   ],
   "source": [
    "centro = len(l_recortada)//2\n",
    "num_central = l_recortada[centro]\n",
    "num_central"
   ]
  },
  {
   "cell_type": "markdown",
   "metadata": {},
   "source": [
    "Finalmente, mi `num_central` es igual a `x`, la búsqueda se detiene y he resuelto el problema en 3 pasos. En un algoritmo poco eficiente, usando un `for`, me hubiese tomado 6 pasos. Esto no parece la gran cosa pero se nota cuando hablamso de grandes cantidades de números."
   ]
  },
  {
   "cell_type": "markdown",
   "metadata": {},
   "source": [
    "### Función de búsqueda binaria"
   ]
  },
  {
   "cell_type": "code",
   "execution_count": 6,
   "metadata": {},
   "outputs": [],
   "source": [
    "#mi función de búsqueda binaria retornará el índice donde se encuentra el número\n",
    "def binary_search(x,l):\n",
    "    a=0\n",
    "    b=len(l)-1\n",
    "    while(a<=b):\n",
    "        centro = (a+b)//2\n",
    "        if(l[centro]==x):\n",
    "            return centro\n",
    "        else:\n",
    "            if(l[centro]<x):\n",
    "                a = centro+1\n",
    "            else:\n",
    "                b = centro-1\n",
    "    return -1"
   ]
  },
  {
   "cell_type": "code",
   "execution_count": 9,
   "metadata": {},
   "outputs": [
    {
     "name": "stdout",
     "output_type": "stream",
     "text": [
      "5 10\n"
     ]
    }
   ],
   "source": [
    "l=[3,10,2,5,7,8]\n",
    "l_ordenada = sorted(l)\n",
    "indice = binary_search(10,l_ordenada)\n",
    "print(indice,l_ordenada[indice])"
   ]
  },
  {
   "cell_type": "code",
   "execution_count": 14,
   "metadata": {},
   "outputs": [
    {
     "name": "stdout",
     "output_type": "stream",
     "text": [
      "-1\n"
     ]
    }
   ],
   "source": [
    "#Si no hay x, se imrpime -1\n",
    "print(binary_search(4,l_ordenada))"
   ]
  },
  {
   "cell_type": "markdown",
   "metadata": {},
   "source": [
    "### Comparando con For"
   ]
  },
  {
   "cell_type": "markdown",
   "metadata": {},
   "source": [
    "Ahora voy a comparar búsqueda binaria con `for` en términos de cuántas veces preguntamos por `x`."
   ]
  },
  {
   "cell_type": "code",
   "execution_count": 22,
   "metadata": {},
   "outputs": [
    {
     "name": "stdout",
     "output_type": "stream",
     "text": [
      "Encontrado en el índice:  800\n",
      "Preguntas:  801\n"
     ]
    }
   ],
   "source": [
    "l = range(1000)\n",
    "x = 800\n",
    "preguntas = 0\n",
    "for i in range(len(l)):\n",
    "    preguntas+=1\n",
    "    if(x==i):\n",
    "        print(\"Encontrado en el índice: \",i)\n",
    "        break #el peor de los casos recorre toda la lista\n",
    "        \n",
    "\n",
    "print(\"Preguntas: \",preguntas)"
   ]
  },
  {
   "cell_type": "code",
   "execution_count": 24,
   "metadata": {},
   "outputs": [
    {
     "name": "stdout",
     "output_type": "stream",
     "text": [
      "Preguntas:  1000\n"
     ]
    }
   ],
   "source": [
    "l = range(1000)\n",
    "x = 100000\n",
    "preguntas = 0\n",
    "for i in range(len(l)):\n",
    "    preguntas+=1\n",
    "    if(x==i):\n",
    "        print(\"Encontrado en el índice: \",i)\n",
    "        break #el peor de los casos recorre toda la lista\n",
    "        \n",
    "\n",
    "print(\"Preguntas: \",preguntas)"
   ]
  },
  {
   "cell_type": "code",
   "execution_count": 36,
   "metadata": {},
   "outputs": [],
   "source": [
    "#mi función de búsqueda binaria retornará el índice donde se encuentra el número\n",
    "def binary_search(x,l):\n",
    "    contador=0\n",
    "    a=0\n",
    "    b=len(l)-1\n",
    "    while(a<=b):\n",
    "        contador+=1\n",
    "        centro = (a+b)//2\n",
    "        #print(centro)\n",
    "        if(l[centro]==x):\n",
    "            print(\"Preguntas: \",contador)\n",
    "            return centro\n",
    "        else:\n",
    "            if(l[centro]<x):\n",
    "                a = centro+1\n",
    "            else:\n",
    "                b = centro-1\n",
    "    print(\"Preguntas: \",contador)\n",
    "    return -1"
   ]
  },
  {
   "cell_type": "code",
   "execution_count": 37,
   "metadata": {},
   "outputs": [
    {
     "name": "stdout",
     "output_type": "stream",
     "text": [
      "Preguntas:  10\n",
      "Encontrado en el índice:  800\n"
     ]
    }
   ],
   "source": [
    "l = range(1000)\n",
    "x = 800\n",
    "i = binary_search(x,l)\n",
    "        \n",
    "print(\"Encontrado en el índice: \",i)"
   ]
  },
  {
   "cell_type": "code",
   "execution_count": 39,
   "metadata": {},
   "outputs": [
    {
     "name": "stdout",
     "output_type": "stream",
     "text": [
      "Preguntas:  10\n",
      "Encontrado en el índice:  -1\n"
     ]
    }
   ],
   "source": [
    "l = range(1000)\n",
    "x = 100000\n",
    "i = binary_search(x,l)\n",
    "print(\"Encontrado en el índice: \",i)"
   ]
  },
  {
   "cell_type": "markdown",
   "metadata": {},
   "source": [
    "En el for 801 y 1000 preguntas, en búsqueda binaria sólo 10 en ambos casos."
   ]
  },
  {
   "cell_type": "code",
   "execution_count": null,
   "metadata": {},
   "outputs": [],
   "source": []
  }
 ],
 "metadata": {
  "kernelspec": {
   "display_name": "Python 3",
   "language": "python",
   "name": "python3"
  },
  "language_info": {
   "codemirror_mode": {
    "name": "ipython",
    "version": 3
   },
   "file_extension": ".py",
   "mimetype": "text/x-python",
   "name": "python",
   "nbconvert_exporter": "python",
   "pygments_lexer": "ipython3",
   "version": "3.6.5"
  }
 },
 "nbformat": 4,
 "nbformat_minor": 2
}
