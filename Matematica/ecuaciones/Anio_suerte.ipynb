{
 "cells": [
  {
   "cell_type": "markdown",
   "metadata": {},
   "source": [
    "# Encontrar un año de la suerte"
   ]
  },
  {
   "cell_type": "markdown",
   "metadata": {},
   "source": [
    "En Codeforces existe un problema que te pide verificar si un año se puede obtener de la suma de otros dos. Este problema se puede generalizar de muchas formas, pero respeto el plantemiento original, lo importante es poder expresar la información en forma de una ecuación."
   ]
  },
  {
   "cell_type": "markdown",
   "metadata": {},
   "source": [
    "Un año de la suerte se define como tal si se puede obtener de la suma de los años 2020 y 2021. Por ejemplo, el año 4041 es un año de la suerte porque se obtiene al sumar $2020+2021$. Lo mismo para el caso de 6061, resultado de la suma: $2020+2020+2021$."
   ]
  },
  {
   "cell_type": "code",
   "execution_count": 2,
   "metadata": {},
   "outputs": [
    {
     "data": {
      "text/plain": [
       "4041"
      ]
     },
     "execution_count": 2,
     "metadata": {},
     "output_type": "execute_result"
    }
   ],
   "source": [
    "2020+2021"
   ]
  },
  {
   "cell_type": "code",
   "execution_count": 1,
   "metadata": {},
   "outputs": [
    {
     "data": {
      "text/plain": [
       "6061"
      ]
     },
     "execution_count": 1,
     "metadata": {},
     "output_type": "execute_result"
    }
   ],
   "source": [
    "2020+2020+2021"
   ]
  },
  {
   "cell_type": "markdown",
   "metadata": {},
   "source": [
    "## Ecuación"
   ]
  },
  {
   "cell_type": "markdown",
   "metadata": {},
   "source": [
    "El primer paso es encontrar la ecuación que representa el problema. Queremos saber si un año N es igual a la suma de múltiplos de 2020 o 2021. En el ejemplo de arriba, 2020 se suma dos veces, lo que se puede representar como $2\\times{2020}$. Con esto dicho, la ecuación se ve así:"
   ]
  },
  {
   "cell_type": "markdown",
   "metadata": {},
   "source": [
    "$N = 2020x + 2021y$"
   ]
  },
  {
   "cell_type": "markdown",
   "metadata": {},
   "source": [
    "Ya que el poblema nunca dice que ambos años deben aparecer, ambas variables pueden tomar los valores de 0."
   ]
  },
  {
   "cell_type": "markdown",
   "metadata": {},
   "source": [
    "## Iteración\n",
    "Ahora que tenemos la ecuación con dos incógnitas, simplemente debemos saber si existe una solución para determinar si el año se puede considerar de la suerte."
   ]
  },
  {
   "cell_type": "markdown",
   "metadata": {},
   "source": [
    "$c=ax+by$"
   ]
  },
  {
   "cell_type": "markdown",
   "metadata": {},
   "source": [
    "La ecuación de arriba es una generalización muy útil, pues ahora tenemos que despejar una de las incógnitas."
   ]
  },
  {
   "cell_type": "markdown",
   "metadata": {},
   "source": [
    "$y = \\frac{c-ax}{b}$"
   ]
  },
  {
   "cell_type": "markdown",
   "metadata": {},
   "source": [
    "Recordando que a,b y c son constantes; lo único que hay que hacer es iterar sobre la variable $x$ y encontrar un valor $y$ que sea entero."
   ]
  },
  {
   "cell_type": "code",
   "execution_count": 6,
   "metadata": {},
   "outputs": [],
   "source": [
    "def is_lucky_year(n):\n",
    "    a = 2020\n",
    "    b = 2021\n",
    "    for ax in range(0,n+1,a):\n",
    "        # división entera porque necesito un valor entero\n",
    "        y = (n-ax)//b\n",
    "        # verifico que la igualdad se cumpla, si no, no era un entero\n",
    "        if(ax+b*y==n):\n",
    "            return True\n",
    "    return False\n",
    "        "
   ]
  },
  {
   "cell_type": "code",
   "execution_count": 11,
   "metadata": {},
   "outputs": [
    {
     "name": "stdout",
     "output_type": "stream",
     "text": [
      "False\n",
      "True\n",
      "True\n",
      "True\n",
      "False\n",
      "True\n"
     ]
    }
   ],
   "source": [
    "print(is_lucky_year(1))\n",
    "print(is_lucky_year(4041))\n",
    "print(is_lucky_year(4042))\n",
    "print(is_lucky_year(8081))\n",
    "print(is_lucky_year(8079))\n",
    "print(is_lucky_year(1000000))"
   ]
  },
  {
   "cell_type": "code",
   "execution_count": 15,
   "metadata": {},
   "outputs": [
    {
     "name": "stdout",
     "output_type": "stream",
     "text": [
      "True\n"
     ]
    }
   ],
   "source": [
    "print(is_lucky_year(2020))"
   ]
  },
  {
   "cell_type": "code",
   "execution_count": 14,
   "metadata": {},
   "outputs": [
    {
     "name": "stdout",
     "output_type": "stream",
     "text": [
      "False\n"
     ]
    }
   ],
   "source": [
    "print(is_lucky_year(10000))"
   ]
  },
  {
   "cell_type": "markdown",
   "metadata": {},
   "source": [
    "El algoritmo es bastante sencillo y se puede aplicar en múltiples circunstancias."
   ]
  },
  {
   "cell_type": "code",
   "execution_count": null,
   "metadata": {},
   "outputs": [],
   "source": []
  }
 ],
 "metadata": {
  "kernelspec": {
   "display_name": "Python 3",
   "language": "python",
   "name": "python3"
  },
  "language_info": {
   "codemirror_mode": {
    "name": "ipython",
    "version": 3
   },
   "file_extension": ".py",
   "mimetype": "text/x-python",
   "name": "python",
   "nbconvert_exporter": "python",
   "pygments_lexer": "ipython3",
   "version": "3.8.5"
  }
 },
 "nbformat": 4,
 "nbformat_minor": 4
}
