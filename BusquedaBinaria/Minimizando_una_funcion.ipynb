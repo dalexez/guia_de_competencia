{
 "cells": [
  {
   "cell_type": "markdown",
   "metadata": {},
   "source": [
    "# Minimizando una función lineal\n",
    "Hoy te mostraré cómo usar binary_search para minimizar una función lineal."
   ]
  },
  {
   "cell_type": "markdown",
   "metadata": {},
   "source": [
    "## Una función lineal\n",
    "Es una función polinómica de primer grado, es decir, una función cuya representación en el plano cartesiano es una línea recta. ([Wikipedia](https://es.wikipedia.org/wiki/Funci%C3%B3n_lineal))"
   ]
  },
  {
   "cell_type": "markdown",
   "metadata": {},
   "source": [
    "Este es un ejemplo, tenemos una función que devuelve el doble del elemento ingresado."
   ]
  },
  {
   "cell_type": "code",
   "execution_count": 4,
   "metadata": {},
   "outputs": [],
   "source": [
    "def f(x):\n",
    "    return 2*x"
   ]
  },
  {
   "cell_type": "code",
   "execution_count": 10,
   "metadata": {},
   "outputs": [],
   "source": [
    "x=[]\n",
    "y=[]\n",
    "for i in range(10):\n",
    "    x.append(i)\n",
    "    y.append(f(i))"
   ]
  },
  {
   "cell_type": "code",
   "execution_count": 12,
   "metadata": {},
   "outputs": [
    {
     "data": {
      "text/plain": [
       "[<matplotlib.lines.Line2D at 0x23fd60b1da0>]"
      ]
     },
     "execution_count": 12,
     "metadata": {},
     "output_type": "execute_result"
    },
    {
     "data": {
      "image/png": "[encoded data removed]",
      "text/plain": [
       "<Figure size 432x288 with 1 Axes>"
      ]
     },
     "metadata": {
      "needs_background": "light"
     },
     "output_type": "display_data"
    }
   ],
   "source": [
    "from matplotlib import pyplot as plt\n",
    "import pandas as pd\n",
    "plt.plot(x,y)"
   ]
  },
  {
   "cell_type": "markdown",
   "metadata": {},
   "source": [
    "## Resolver un problema con binary_search"
   ]
  },
  {
   "cell_type": "markdown",
   "metadata": {},
   "source": [
    "El problema planteado en el libro es el siguiente:  \n",
    "Tines $N$ máquinas que tardan $p_{i}$ horas en realizar un trabajo. Si tienes $M$ trabajos por realizar, cuál es el tiempo mínimo en el que se terminarían todos los trabajos."
   ]
  },
  {
   "cell_type": "markdown",
   "metadata": {},
   "source": [
    "El secreo para resolver este problema es entender la función lineal que gobierna cuántas tareas puede cumplir cada máquina. Si tienes $3$ máquinas y cada máquina tarda $2$ horas en realizar un trabajo, entonces puedes realizar $3\\times{\\frac{1}{2} }$ trabajos en una hora. Entonces, dada una cantidad de horas, cuántos trabajos puedes lograr. Si hacemos la matemática para dos horas sería: $3\\times{\\frac{1}{2}}\\times{2}=3$, entonces podemos realizar 3 trabajos en dos horas. "
   ]
  },
  {
   "cell_type": "markdown",
   "metadata": {},
   "source": [
    "Ahora, podemos genelizar esta regla como:  \n",
    "$f(x)=N\\times{\\frac{1}{p_{i}}}\\times{x}$"
   ]
  },
  {
   "cell_type": "markdown",
   "metadata": {},
   "source": [
    "Donde:\n",
    "* $N$ es el número de máquinas disponibles\n",
    "* $p_{i}$ es el número de trabajos que la máquina realiza en una hora y\n",
    "* $x$ es el número de horas que les das a las máquinas para trabajar. \n"
   ]
  },
  {
   "cell_type": "code",
   "execution_count": 35,
   "metadata": {},
   "outputs": [],
   "source": [
    "def trabajos_logrados(N,p_i,x):\n",
    "    return N*1/p_i*x # medio trabajo no cuenta, por eso sólo tomo los trabajos completos\n",
    "    "
   ]
  },
  {
   "cell_type": "markdown",
   "metadata": {},
   "source": [
    "Si hacemos un plot de la función, veremos que es una función lineal."
   ]
  },
  {
   "cell_type": "code",
   "execution_count": 36,
   "metadata": {},
   "outputs": [
    {
     "name": "stdout",
     "output_type": "stream",
     "text": [
      "0.0\n",
      "1.5\n",
      "3.0\n",
      "4.5\n",
      "6.0\n",
      "7.5\n",
      "9.0\n",
      "10.5\n",
      "12.0\n",
      "13.5\n"
     ]
    },
    {
     "data": {
      "text/plain": [
       "[<matplotlib.lines.Line2D at 0x23fd7a07c50>]"
      ]
     },
     "execution_count": 36,
     "metadata": {},
     "output_type": "execute_result"
    },
    {
     "data": {
      "image/png": "[encoded data removed]",
      "text/plain": [
       "<Figure size 432x288 with 1 Axes>"
      ]
     },
     "metadata": {
      "needs_background": "light"
     },
     "output_type": "display_data"
    }
   ],
   "source": [
    "N = 3 #tengo tres máquinas\n",
    "p_i = 2 # cada máquina tarda dos horas en realizar un trabajo\n",
    "y = []\n",
    "x = []\n",
    "for i in range(10):\n",
    "    y.append(trabajos_logrados(N,p_i,i))\n",
    "    print(y[-1])\n",
    "    x.append(i)\n",
    "\n",
    "plt.plot(x,y,r'o')\n"
   ]
  },
  {
   "cell_type": "markdown",
   "metadata": {},
   "source": [
    "Esa fue una explicación simplificada, ahora voy a construir la función para resolver el problema. Cada máquina tiene un tiempo de procesamiento diferente."
   ]
  },
  {
   "cell_type": "code",
   "execution_count": 38,
   "metadata": {},
   "outputs": [],
   "source": [
    "def trabajos_logrados(p,x):\n",
    "    trabajos = 0\n",
    "    for p_i in p:\n",
    "        trabajos += 1/p_i*x\n",
    "    return trabajos"
   ]
  },
  {
   "cell_type": "markdown",
   "metadata": {},
   "source": [
    "Si comprobamos el planteamiento anterior la respuesta es la misma."
   ]
  },
  {
   "cell_type": "code",
   "execution_count": 39,
   "metadata": {},
   "outputs": [
    {
     "name": "stdout",
     "output_type": "stream",
     "text": [
      "0.0\n",
      "1.5\n",
      "3.0\n",
      "4.5\n",
      "6.0\n",
      "7.5\n",
      "9.0\n",
      "10.5\n",
      "12.0\n",
      "13.5\n"
     ]
    },
    {
     "data": {
      "text/plain": [
       "[<matplotlib.lines.Line2D at 0x23fd7885c18>]"
      ]
     },
     "execution_count": 39,
     "metadata": {},
     "output_type": "execute_result"
    },
    {
     "data": {
      "image/png": "[encoded data removed]",
      "text/plain": [
       "<Figure size 432x288 with 1 Axes>"
      ]
     },
     "metadata": {
      "needs_background": "light"
     },
     "output_type": "display_data"
    }
   ],
   "source": [
    "N = 3 #tengo tres máquinas\n",
    "p = [2,2,2] # cada máquina tarda dos horas en realizar un trabajo\n",
    "for i in range(10):\n",
    "    y.append(trabajos_logrados(p,i))\n",
    "    print(y[-1])\n",
    "    x.append(i)\n",
    "\n",
    "plt.plot(x,y,r'o')"
   ]
  },
  {
   "cell_type": "markdown",
   "metadata": {},
   "source": [
    "Este nuevo planteamiento se puede presentar como:  \n"
   ]
  },
  {
   "cell_type": "markdown",
   "metadata": {},
   "source": [
    "$\\sum_{i=1}^{N}{\\frac{1}{p_{i}}\\times{x}}$"
   ]
  },
  {
   "cell_type": "markdown",
   "metadata": {},
   "source": [
    "### Binary search cómo funciona\n",
    "Queremos saber cuál es el tiempo mínimo en el que todas las máquinas terminan los $M$ trabajos asignados. Lo que podemos hacer es probar con distintos valores de x hasta que encontremos el mínimo donde todo el trabajo está hecho. Ya que estamos trabajando con enteros, eso significa que la hora mínima es aquella que va después de una hora no posible."
   ]
  },
  {
   "cell_type": "markdown",
   "metadata": {},
   "source": [
    "Usemos el ejemplo que vamos manejando, 3 máquinas que tardan dos horas, tenemos que realizar 5 trabajos, ¿cuál es el tiempo mínimo? **La respuesta es 4 horas**. En 4 horas las máquinas pueden realizar 6 trabajos, mientras que en 3 horas sólo pueden realizar 3. "
   ]
  },
  {
   "cell_type": "code",
   "execution_count": 52,
   "metadata": {},
   "outputs": [],
   "source": [
    "#modifico mi función para que sólo tome en cuenta los trabajos completos\n",
    "def trabajos_logrados(p,x):\n",
    "    trabajos = 0\n",
    "    for p_i in p:\n",
    "        trabajos += int(1/p_i*x) #sólo los trabajos completos\n",
    "    return trabajos"
   ]
  },
  {
   "cell_type": "code",
   "execution_count": 53,
   "metadata": {},
   "outputs": [
    {
     "data": {
      "text/plain": [
       "3"
      ]
     },
     "execution_count": 53,
     "metadata": {},
     "output_type": "execute_result"
    }
   ],
   "source": [
    "#trabajos logrados en 3 horas\n",
    "p=[2,2,2]\n",
    "trabajos_logrados(p,3)"
   ]
  },
  {
   "cell_type": "code",
   "execution_count": 45,
   "metadata": {},
   "outputs": [
    {
     "data": {
      "text/plain": [
       "6"
      ]
     },
     "execution_count": 45,
     "metadata": {},
     "output_type": "execute_result"
    }
   ],
   "source": [
    "#trabajos logrados en 4 horas\n",
    "p=[2,2,2]\n",
    "trabajos_logrados(p,4)"
   ]
  },
  {
   "cell_type": "markdown",
   "metadata": {},
   "source": [
    "Entonces, la hora mínima es la x que va después de una hora no válida. Ahora estamos listos para resolver el problema. Tengo que elegir un rango para la búsqueda binaria, entre un número que sé que es falso (los trabajos no se cumplen), como 0, y un número que sé que es verdadero (una hora donde todos los trabajos se cumplen); para obtener ese número multiplicaré un $p_i$ por $M$ y así obtengo el tiempo que tarda una máquina en hacer todos los trabajos, lo cual es mi definción de verdadero, todos los trabajos se cumplen."
   ]
  },
  {
   "cell_type": "code",
   "execution_count": 75,
   "metadata": {},
   "outputs": [],
   "source": [
    "def hora_mínima(N,p,M):\n",
    "    a = 0 #sé que es falso\n",
    "    b = p[0] * M #sé que todos los trabajos se cumplen\n",
    "    l = range(a,b+1)\n",
    "    minimo = False #esto me dirá si encontré el mínimo\n",
    "    while(a<=b):\n",
    "        centro = (a+b)//2\n",
    "        x = l[centro] #hora elegida \n",
    "        #los trabajos logrados a la hora x son igual o mayores a los trabajos pedidos\n",
    "        if(trabajos_logrados(p,x)>=M):\n",
    "            if(es_minimo(p,x,M)):\n",
    "                return x\n",
    "            #si no es mínimo, el mínmo está más abajo\n",
    "            else:\n",
    "                b = centro-1\n",
    "        #si los trabajos logrados no son suficientes, el mínimo está más arriba\n",
    "        else:\n",
    "            a = centro+1\n",
    "                \n",
    "    \n",
    "    \n",
    "    "
   ]
  },
  {
   "cell_type": "code",
   "execution_count": 76,
   "metadata": {},
   "outputs": [],
   "source": [
    "def es_minimo(p,x,M):\n",
    "    if(trabajos_logrados(p,x-1)<M):\n",
    "        return True #la hora anterior no cumple, entonces es mínimo\n",
    "    else:\n",
    "        return False #la hora anterior sí cumple, entonces existe una hora mas pequeña\n",
    "        "
   ]
  },
  {
   "cell_type": "code",
   "execution_count": 77,
   "metadata": {},
   "outputs": [
    {
     "data": {
      "text/plain": [
       "4"
      ]
     },
     "execution_count": 77,
     "metadata": {},
     "output_type": "execute_result"
    }
   ],
   "source": [
    "N = 3 #tengo tres máquinas\n",
    "p = [2,2,2] # cada máquina tarda dos horas en realizar un trabajo\n",
    "M = 5 # trabajos a realizar\n",
    "hora_mínima(N,p,M)"
   ]
  },
  {
   "cell_type": "markdown",
   "metadata": {},
   "source": [
    "La respuesta fue 4 horas. Ahora, probaré el ejercicio del libro."
   ]
  },
  {
   "cell_type": "code",
   "execution_count": 78,
   "metadata": {},
   "outputs": [
    {
     "data": {
      "text/plain": [
       "9"
      ]
     },
     "execution_count": 78,
     "metadata": {},
     "output_type": "execute_result"
    }
   ],
   "source": [
    "N = 3 #tengo tres máquinas\n",
    "p = [2,3,7] # cada máquina tarda dos horas en realizar un trabajo\n",
    "M = 8 # trabajos a realizar\n",
    "hora_mínima(N,p,M)"
   ]
  },
  {
   "cell_type": "markdown",
   "metadata": {},
   "source": [
    "La respuesta fue 9 horas, tal y como lo indica el el libro, hemos usado búsqueda binaria para minimizar una función lineal."
   ]
  },
  {
   "cell_type": "markdown",
   "metadata": {},
   "source": [
    "Voy a modificar la funcón para saber cuántos centros comparó."
   ]
  },
  {
   "cell_type": "code",
   "execution_count": 73,
   "metadata": {},
   "outputs": [],
   "source": [
    "def hora_mínima(N,p,M):\n",
    "    a = 0 #sé que es falso\n",
    "    b = p[-1] * M #sé que todos los trabajos se cumplen\n",
    "    l = range(a,b+1)\n",
    "    print(\"Lista:\",l)\n",
    "    minimo = False #esto me dirá si encontré el mínimo\n",
    "    while(a<=b):\n",
    "        centro = (a+b)//2\n",
    "        print(\"Centro:\",centro)\n",
    "        x = l[centro] #hora elegida \n",
    "        #los trabajos logrados a la hora x son igual o mayores a los trabajos pedidos\n",
    "        if(trabajos_logrados(p,x)>=M):\n",
    "            if(es_minimo(p,x,M)):\n",
    "                return x\n",
    "            #si no es mínimo, el mínmo está más abajo\n",
    "            else:\n",
    "                b = centro-1\n",
    "        #si los trabajos logrados no son suficientes, el mínimo está más arriba\n",
    "        else:\n",
    "            a = centro+1"
   ]
  },
  {
   "cell_type": "code",
   "execution_count": 74,
   "metadata": {},
   "outputs": [
    {
     "name": "stdout",
     "output_type": "stream",
     "text": [
      "Lista: range(0, 57)\n",
      "Centro: 28\n",
      "Centro: 13\n",
      "Centro: 6\n",
      "Centro: 9\n"
     ]
    },
    {
     "data": {
      "text/plain": [
       "9"
      ]
     },
     "execution_count": 74,
     "metadata": {},
     "output_type": "execute_result"
    }
   ],
   "source": [
    "N = 3 #tengo tres máquinas\n",
    "p = [2,3,7] # cada máquina tarda dos horas en realizar un trabajo\n",
    "M = 8 # trabajos a realizar\n",
    "hora_mínima(N,p,M)"
   ]
  },
  {
   "cell_type": "markdown",
   "metadata": {},
   "source": [
    "Vemos que comparó 4 centros antes de llegar a la respuesta. Si quisiéramos usar fuerza bruta y probar todas las horas posibles, tendríamos que recorrer una lista de 57 elementos."
   ]
  },
  {
   "cell_type": "code",
   "execution_count": null,
   "metadata": {},
   "outputs": [],
   "source": []
  }
 ],
 "metadata": {
  "kernelspec": {
   "display_name": "Python 3",
   "language": "python",
   "name": "python3"
  },
  "language_info": {
   "codemirror_mode": {
    "name": "ipython",
    "version": 3
   },
   "file_extension": ".py",
   "mimetype": "text/x-python",
   "name": "python",
   "nbconvert_exporter": "python",
   "pygments_lexer": "ipython3",
   "version": "3.6.6"
  }
 },
 "nbformat": 4,
 "nbformat_minor": 4
}
