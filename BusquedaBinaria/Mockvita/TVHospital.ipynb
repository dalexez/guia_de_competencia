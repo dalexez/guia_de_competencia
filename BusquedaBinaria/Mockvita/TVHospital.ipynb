{
 "cells": [
  {
   "cell_type": "markdown",
   "metadata": {},
   "source": [
    "El problema consiste en encontrar el mínimo número de Televisores que permitan generar la ganacia esperada."
   ]
  },
  {
   "cell_type": "code",
   "execution_count": 3,
   "metadata": {},
   "outputs": [],
   "source": [
    "#Formula\n",
    "def clientes_hoy(mes, dia):\n",
    "    absoluto = dia-15\n",
    "    if(absoluto<0):\n",
    "        absoluto *= -1\n",
    "    return (6-mes)**2 + absoluto"
   ]
  },
  {
   "cell_type": "markdown",
   "metadata": {},
   "source": [
    "El primero de enero debe haber 39 clientes."
   ]
  },
  {
   "cell_type": "code",
   "execution_count": 29,
   "metadata": {},
   "outputs": [
    {
     "data": {
      "text/plain": [
       "39"
      ]
     },
     "execution_count": 29,
     "metadata": {},
     "output_type": "execute_result"
    }
   ],
   "source": [
    "clientes_hoy(1,1)"
   ]
  },
  {
   "cell_type": "markdown",
   "metadata": {},
   "source": [
    "Voy a usar un vector para los días de los meses."
   ]
  },
  {
   "cell_type": "code",
   "execution_count": 6,
   "metadata": {},
   "outputs": [],
   "source": [
    "dias_por_mes = [31,28,31,30,31,30,31,31,30,31,30,31]"
   ]
  },
  {
   "cell_type": "markdown",
   "metadata": {},
   "source": [
    "Necesito una función para saber la ganancia de un día dado un número de paciente, cuartos con TV y cuartos sin TV."
   ]
  },
  {
   "cell_type": "code",
   "execution_count": 68,
   "metadata": {},
   "outputs": [],
   "source": [
    "def ganacia_por_dia(num_pacientes, cctv, cstv):\n",
    "    #pondré el precio de los cuartos de forma global\n",
    "    global precio_cctv\n",
    "    global precio_cstv\n",
    "        \n",
    "    #pacientes sin televisión, siempre van a preferir sin televisor\n",
    "    pstv = min(num_pacientes,cstv)\n",
    "    pctv = min(num_pacientes-pstv,cctv)    \n",
    "        \n",
    "    #calcular las ganacias\n",
    "    return pctv*precio_cctv + pstv*precio_cstv\n",
    "        "
   ]
  },
  {
   "cell_type": "markdown",
   "metadata": {},
   "source": [
    "Ahora tengo que calcular la ganancia de un año."
   ]
  },
  {
   "cell_type": "code",
   "execution_count": 46,
   "metadata": {},
   "outputs": [],
   "source": [
    "def ganancia_anual(cctv, cstv):\n",
    "    global dias_por_mes\n",
    "    \n",
    "    ganancia = 0\n",
    "    for mes,num_dias in enumerate(dias_por_mes):\n",
    "        #se calcula la ganancía día a día\n",
    "        for dia in range(1,num_dias+1):\n",
    "            ganancia += ganacia_por_dia(clientes_hoy(mes+1,dia),cctv, cstv)\n",
    "    \n",
    "    return ganancia\n",
    "\n"
   ]
  },
  {
   "cell_type": "code",
   "execution_count": 75,
   "metadata": {},
   "outputs": [
    {
     "data": {
      "text/plain": [
       "7119500"
      ]
     },
     "execution_count": 75,
     "metadata": {},
     "output_type": "execute_result"
    }
   ],
   "source": [
    "precio_cctv = 1500\n",
    "precio_cstv = 1000\n",
    "ganancia_anual(14,6)"
   ]
  },
  {
   "cell_type": "code",
   "execution_count": 76,
   "metadata": {},
   "outputs": [
    {
     "data": {
      "text/plain": [
       "2500"
      ]
     },
     "execution_count": 76,
     "metadata": {},
     "output_type": "execute_result"
    }
   ],
   "source": [
    "ganacia_por_dia(10,1,1)"
   ]
  },
  {
   "cell_type": "markdown",
   "metadata": {},
   "source": [
    "El resultado es el mismo que en el ejemplo: $7119500$ con 14 cuartos con televisor."
   ]
  },
  {
   "cell_type": "markdown",
   "metadata": {},
   "source": [
    "Ahora que ya tengo el cálculo, vamos a usar búsqueda binaria."
   ]
  },
  {
   "cell_type": "code",
   "execution_count": 80,
   "metadata": {},
   "outputs": [],
   "source": [
    "meta = 7000000"
   ]
  },
  {
   "cell_type": "code",
   "execution_count": 79,
   "metadata": {},
   "outputs": [],
   "source": [
    "def minimo_televisores(meta,num_cuartos):\n",
    "    \n",
    "    #los límites de búsqueda binaria serán \n",
    "    #sin TV, todos con TV\n",
    "    a = 0\n",
    "    b = num_cuartos\n",
    "    \n",
    "    while(a<b):\n",
    "\n",
    "        centro = (a+b)//2+1\n",
    "        \n",
    "        #cuartos con TV\n",
    "        cctv = centro\n",
    "        cstv = num_cuartos - centro\n",
    "        \n",
    "        ganancia = ganancia_anual(cctv,cstv)\n",
    "        \n",
    "        #La ganancia fue igual o superior a la meta\n",
    "        if(ganancia>=meta):\n",
    "            #vamos a comprobar si es el mínimo\n",
    "            ganancia_menos_unTV = ganancia_anual(cctv-1,cstv+1)\n",
    "            if(ganancia_menos_unTV<meta):\n",
    "                #encontramos el mínimo, ya que no alcanza la meta\n",
    "                #si quitamos un TV\n",
    "                return cctv\n",
    "            else:\n",
    "                #si no, estamos muy arriba\n",
    "                b = centro-1\n",
    "            \n",
    "        else:\n",
    "            #si no, la meta está más arriba\n",
    "            a = centro +1\n",
    "            \n",
    "    #si no encontró el centro\n",
    "    return num_cuartos"
   ]
  },
  {
   "cell_type": "code",
   "execution_count": 81,
   "metadata": {},
   "outputs": [
    {
     "data": {
      "text/plain": [
       "14"
      ]
     },
     "execution_count": 81,
     "metadata": {},
     "output_type": "execute_result"
    }
   ],
   "source": [
    "minimo_televisores(meta,20)"
   ]
  },
  {
   "cell_type": "markdown",
   "metadata": {},
   "source": [
    "El ejemplo del problema se resolvió, voy a escribir la entrada y la salida y lo mandaré al juez."
   ]
  },
  {
   "cell_type": "code",
   "execution_count": 82,
   "metadata": {},
   "outputs": [
    {
     "name": "stdin",
     "output_type": "stream",
     "text": [
      " 20\n",
      " 1500 1000 \n",
      " 7000000\n"
     ]
    },
    {
     "name": "stdout",
     "output_type": "stream",
     "text": [
      "14\n"
     ]
    }
   ],
   "source": [
    "num_cuartos = int(input())\n",
    "precios = input().split()\n",
    "precio_cctv = int(precios[0])\n",
    "precio_cstv = int(precios[1])\n",
    "meta = int(input())\n",
    "print(minimo_televisores(meta,num_cuartos))"
   ]
  },
  {
   "cell_type": "code",
   "execution_count": 84,
   "metadata": {},
   "outputs": [
    {
     "name": "stdin",
     "output_type": "stream",
     "text": [
      " 10\n",
      " 1000 1500\n",
      " 10000000\n"
     ]
    },
    {
     "name": "stdout",
     "output_type": "stream",
     "text": [
      "10\n"
     ]
    }
   ],
   "source": [
    "num_cuartos = int(input())\n",
    "precios = input().split()\n",
    "precio_cctv = int(precios[0])\n",
    "precio_cstv = int(precios[1])\n",
    "meta = int(input())\n",
    "print(minimo_televisores(meta,num_cuartos))"
   ]
  },
  {
   "cell_type": "markdown",
   "metadata": {},
   "source": [
    "Parece que el problema está resuelto, copiaré el código a un entregable."
   ]
  },
  {
   "cell_type": "code",
   "execution_count": null,
   "metadata": {},
   "outputs": [],
   "source": []
  }
 ],
 "metadata": {
  "kernelspec": {
   "display_name": "Python 3",
   "language": "python",
   "name": "python3"
  },
  "language_info": {
   "codemirror_mode": {
    "name": "ipython",
    "version": 3
   },
   "file_extension": ".py",
   "mimetype": "text/x-python",
   "name": "python",
   "nbconvert_exporter": "python",
   "pygments_lexer": "ipython3",
   "version": "3.8.3"
  }
 },
 "nbformat": 4,
 "nbformat_minor": 4
}
