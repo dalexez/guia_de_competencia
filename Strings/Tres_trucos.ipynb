{
 "cells": [
  {
   "cell_type": "markdown",
   "metadata": {},
   "source": [
    "# 3 trucos en el manejo de Strings"
   ]
  },
  {
   "cell_type": "markdown",
   "metadata": {},
   "source": [
    "Escrito por Daniel Díaz."
   ]
  },
  {
   "cell_type": "markdown",
   "metadata": {},
   "source": [
    "## 1) Comparación de texto"
   ]
  },
  {
   "cell_type": "markdown",
   "metadata": {},
   "source": [
    "Al momento de comparar texto se suele utilizar el operador `==`, pero existen formas más eficientes de realizar estas comparaciones gracias a funciones de python ya integradas."
   ]
  },
  {
   "cell_type": "markdown",
   "metadata": {},
   "source": [
    "### Verificar un número de teléfono"
   ]
  },
  {
   "cell_type": "markdown",
   "metadata": {},
   "source": [
    "Si quisiera verificar que un número de teléfono es válido aquí, podría preguntar sobre su longitud, pero cada número de teléfono siempre empieza con $09$, así que esos dos valores deben estar ahí. Además, debo estar seguro de que sólo contiene números y no letras."
   ]
  },
  {
   "cell_type": "code",
   "execution_count": 4,
   "metadata": {},
   "outputs": [
    {
     "name": "stdin",
     "output_type": "stream",
     "text": [
      "Ingrese su número de teléfono 22\n"
     ]
    },
    {
     "name": "stdout",
     "output_type": "stream",
     "text": [
      "22\n",
      "Error\n"
     ]
    }
   ],
   "source": [
    "#extended version\n",
    "num = input('Ingrese su número de teléfono')\n",
    "print(num)\n",
    "\n",
    "numeros = '0123456789'\n",
    "\n",
    "if(len(num)==10\n",
    "  and num[0]=='0'\n",
    "  and num[1]=='9'):\n",
    "    is_valid = True\n",
    "    for i in range(2,10):\n",
    "        if(num[i] not in numeros):\n",
    "            is_valid=False\n",
    "            print('Error, se ingresaron caracteres extraños')\n",
    "            break\n",
    "    if(is_valid):\n",
    "        print('Correcto')\n",
    "else:\n",
    "    print('Error')\n",
    "    "
   ]
  },
  {
   "cell_type": "code",
   "execution_count": 8,
   "metadata": {},
   "outputs": [
    {
     "name": "stdin",
     "output_type": "stream",
     "text": [
      "Ingrese su número de teléfono 0987456321\n"
     ]
    },
    {
     "name": "stdout",
     "output_type": "stream",
     "text": [
      "0987456321\n",
      "Número de teléfono correcto\n"
     ]
    }
   ],
   "source": [
    "#best version\n",
    "num = input('Ingrese su número de teléfono')\n",
    "print(num)\n",
    "if(num.startswith('09') #inicio correcto\n",
    "   and num.isdecimal() #sólo números \n",
    "   and len(num)==10): #longitud correcta\n",
    "    print('Número de teléfono correcto')\n",
    "else:\n",
    "    print('Error, vuelve a intentarlo')"
   ]
  },
  {
   "cell_type": "markdown",
   "metadata": {},
   "source": [
    "## 2) Imprimir con justificación"
   ]
  },
  {
   "cell_type": "markdown",
   "metadata": {},
   "source": [
    "Si queremos agregar un formato a nuestra impresión podemos hacer uso de tres funciones muy útiles de python: `rjust`,`ljust` y `center`."
   ]
  },
  {
   "cell_type": "markdown",
   "metadata": {},
   "source": [
    "### Imprimir una factura"
   ]
  },
  {
   "cell_type": "code",
   "execution_count": 16,
   "metadata": {},
   "outputs": [],
   "source": [
    "compras = {'queso':2,\n",
    "          'hamburguesa':1,\n",
    "          'filete':3,\n",
    "          'lata de sopa':15}"
   ]
  },
  {
   "cell_type": "code",
   "execution_count": 17,
   "metadata": {},
   "outputs": [],
   "source": [
    "def imprimir_factura(compras,ancho_izquierda,ancho_derecha):\n",
    "    print('Factura del almacén XX'.center(ancho_derecha+ancho_izquierda,'*'))\n",
    "    for producto,cantidad in compras.items():\n",
    "        print(producto.ljust(ancho_izquierda,'.')+str(cantidad).rjust(ancho_derecha))"
   ]
  },
  {
   "cell_type": "code",
   "execution_count": 18,
   "metadata": {},
   "outputs": [
    {
     "name": "stdout",
     "output_type": "stream",
     "text": [
      "****Factura del almacén XX****\n",
      "queso....................    2\n",
      "hamburguesa..............    1\n",
      "filete...................    3\n",
      "lata de sopa.............   15\n"
     ]
    }
   ],
   "source": [
    "imprimir_factura(compras,25,5)"
   ]
  },
  {
   "cell_type": "markdown",
   "metadata": {},
   "source": [
    "## 3) Expresiones regulares "
   ]
  },
  {
   "cell_type": "code",
   "execution_count": 20,
   "metadata": {},
   "outputs": [],
   "source": [
    "import re"
   ]
  },
  {
   "cell_type": "markdown",
   "metadata": {},
   "source": [
    "Las expresiones regulares tienen una magia que me parece demasiado interesante e importante. Es increíble que no me hayan enseñado esto en la universidad."
   ]
  },
  {
   "cell_type": "markdown",
   "metadata": {},
   "source": [
    "### Extrayendo números telefónicos de textos."
   ]
  },
  {
   "cell_type": "markdown",
   "metadata": {},
   "source": [
    "En algunos textos, por facilidad de lectura, los números de teléfono se escriben dividiendo los 10 dígitos en grupos más pequeños. Por ejemplo: 099-877-7777.  \n",
    "Imaginemos que queremos extraer números de teléfono de una revista con un algoritmo que recorre las palabras, cómo podemos decirle que un string es un número de teléfono."
   ]
  },
  {
   "cell_type": "code",
   "execution_count": 28,
   "metadata": {},
   "outputs": [],
   "source": [
    "patron_numero = re.compile(r'\\d{3}-\\d{3}-\\d{4}')"
   ]
  },
  {
   "cell_type": "code",
   "execution_count": 4,
   "metadata": {},
   "outputs": [],
   "source": [
    "num_encontrado = patron_numero.search('Mi número es 099-877-7777')"
   ]
  },
  {
   "cell_type": "code",
   "execution_count": 30,
   "metadata": {},
   "outputs": [
    {
     "data": {
      "text/plain": [
       "'099-877-7777'"
      ]
     },
     "execution_count": 30,
     "metadata": {},
     "output_type": "execute_result"
    }
   ],
   "source": [
    "num_encontrado.group()"
   ]
  },
  {
   "cell_type": "markdown",
   "metadata": {},
   "source": [
    "Encontrar varios números de teléfono."
   ]
  },
  {
   "cell_type": "code",
   "execution_count": 29,
   "metadata": {},
   "outputs": [],
   "source": [
    "nums_encontrados = patron_numero.findall(\"\"\"Mi número es 099-877-7777 \n",
    "y el de ella es 098-895-7451\"\"\")"
   ]
  },
  {
   "cell_type": "code",
   "execution_count": 30,
   "metadata": {},
   "outputs": [
    {
     "data": {
      "text/plain": [
       "['099-877-7777', '098-895-7451']"
      ]
     },
     "execution_count": 30,
     "metadata": {},
     "output_type": "execute_result"
    }
   ],
   "source": [
    "nums_encontrados"
   ]
  },
  {
   "cell_type": "markdown",
   "metadata": {},
   "source": [
    "### Buscador de palabras"
   ]
  },
  {
   "cell_type": "markdown",
   "metadata": {},
   "source": [
    "Expresiones regulares también permite buscar una palbra de forma muy sencilla."
   ]
  },
  {
   "cell_type": "markdown",
   "metadata": {},
   "source": [
    "Supongamos que queremos saber si se menciona a un tema que nos interesa en un texto, pero este tema puede tener muchos nombres."
   ]
  },
  {
   "cell_type": "code",
   "execution_count": 36,
   "metadata": {},
   "outputs": [],
   "source": [
    "buscador = re.compile(r'inteligencia artificial|IA|AI')"
   ]
  },
  {
   "cell_type": "code",
   "execution_count": 44,
   "metadata": {},
   "outputs": [],
   "source": [
    "texto = 'La inteligencia artificial (IA) es la inteligencia llevada a cabo por máquinas.'"
   ]
  },
  {
   "cell_type": "code",
   "execution_count": 39,
   "metadata": {},
   "outputs": [],
   "source": [
    "match = buscador.search(texto)"
   ]
  },
  {
   "cell_type": "code",
   "execution_count": 40,
   "metadata": {},
   "outputs": [
    {
     "data": {
      "text/plain": [
       "'inteligencia artificial'"
      ]
     },
     "execution_count": 40,
     "metadata": {},
     "output_type": "execute_result"
    }
   ],
   "source": [
    "match.group()"
   ]
  },
  {
   "cell_type": "code",
   "execution_count": 45,
   "metadata": {},
   "outputs": [],
   "source": [
    "match = buscador.findall(texto)"
   ]
  },
  {
   "cell_type": "code",
   "execution_count": 47,
   "metadata": {},
   "outputs": [
    {
     "data": {
      "text/plain": [
       "['inteligencia artificial', 'IA']"
      ]
     },
     "execution_count": 47,
     "metadata": {},
     "output_type": "execute_result"
    }
   ],
   "source": [
    "match"
   ]
  },
  {
   "cell_type": "code",
   "execution_count": 41,
   "metadata": {},
   "outputs": [],
   "source": [
    "texto = 'La IA es la inteligencia llevada a cabo por máquinas.'"
   ]
  },
  {
   "cell_type": "code",
   "execution_count": 42,
   "metadata": {},
   "outputs": [
    {
     "data": {
      "text/plain": [
       "'IA'"
      ]
     },
     "execution_count": 42,
     "metadata": {},
     "output_type": "execute_result"
    }
   ],
   "source": [
    "match = buscador.search(texto)\n",
    "match.group()"
   ]
  },
  {
   "cell_type": "markdown",
   "metadata": {},
   "source": [
    "Ahora queremos saber si un artículo habla de inteligencia emocional o inteligencias múltuples."
   ]
  },
  {
   "cell_type": "code",
   "execution_count": 65,
   "metadata": {},
   "outputs": [],
   "source": [
    "buscador = re.compile(r'inteligencia(s)? (emocional(es)?|múltiples)')"
   ]
  },
  {
   "cell_type": "code",
   "execution_count": 66,
   "metadata": {},
   "outputs": [],
   "source": [
    "texto = 'Este artículo habla sobre inteligencia emocional'"
   ]
  },
  {
   "cell_type": "code",
   "execution_count": 67,
   "metadata": {},
   "outputs": [],
   "source": [
    "match = buscador.search(texto)"
   ]
  },
  {
   "cell_type": "code",
   "execution_count": 68,
   "metadata": {},
   "outputs": [
    {
     "data": {
      "text/plain": [
       "'inteligencia emocional'"
      ]
     },
     "execution_count": 68,
     "metadata": {},
     "output_type": "execute_result"
    }
   ],
   "source": [
    "match.group()"
   ]
  },
  {
   "cell_type": "code",
   "execution_count": 69,
   "metadata": {},
   "outputs": [],
   "source": [
    "texto = 'Este artículo habla sobre inteligencias múltiples'"
   ]
  },
  {
   "cell_type": "code",
   "execution_count": 70,
   "metadata": {},
   "outputs": [
    {
     "data": {
      "text/plain": [
       "'inteligencias múltiples'"
      ]
     },
     "execution_count": 70,
     "metadata": {},
     "output_type": "execute_result"
    }
   ],
   "source": [
    "match = buscador.search(texto)\n",
    "match.group()"
   ]
  },
  {
   "cell_type": "code",
   "execution_count": 71,
   "metadata": {},
   "outputs": [],
   "source": [
    "texto = 'Este artículo habla sobre inteligencias emocionales, aunque nadie use ese término'"
   ]
  },
  {
   "cell_type": "code",
   "execution_count": 72,
   "metadata": {},
   "outputs": [
    {
     "data": {
      "text/plain": [
       "'inteligencias emocionales'"
      ]
     },
     "execution_count": 72,
     "metadata": {},
     "output_type": "execute_result"
    }
   ],
   "source": [
    "match = buscador.search(texto)\n",
    "match.group()"
   ]
  },
  {
   "cell_type": "code",
   "execution_count": null,
   "metadata": {},
   "outputs": [],
   "source": []
  }
 ],
 "metadata": {
  "kernelspec": {
   "display_name": "Python 3",
   "language": "python",
   "name": "python3"
  },
  "language_info": {
   "codemirror_mode": {
    "name": "ipython",
    "version": 3
   },
   "file_extension": ".py",
   "mimetype": "text/x-python",
   "name": "python",
   "nbconvert_exporter": "python",
   "pygments_lexer": "ipython3",
   "version": "3.8.5"
  }
 },
 "nbformat": 4,
 "nbformat_minor": 4
}
