{
 "cells": [
  {
   "cell_type": "markdown",
   "metadata": {},
   "source": [
    "# Programación dinámica 2"
   ]
  },
  {
   "cell_type": "markdown",
   "metadata": {},
   "source": [
    "## Encontrando el número de soluciones\n",
    "Siguiendo el notebook anterior vamos a basarnos en el mismo problema del cambio, pero esta vez, queremos saber cuántas formas existen de dar el mismo cambio usando determinadas monedas."
   ]
  },
  {
   "cell_type": "code",
   "execution_count": 2,
   "metadata": {},
   "outputs": [],
   "source": [
    "monedas = [1,3,4]"
   ]
  },
  {
   "cell_type": "markdown",
   "metadata": {},
   "source": [
    "La solución es muy similar a la anterior, todo depende de con qué moneda empezamos.  \n",
    "Si queremos dar un cambio de 10, podemos empezar con una moneda de 1, entonces, ¿cuántas formas hay de dar un cambio de 9? El proceso se repite para 8, 7, 6... hasta llegar a 0."
   ]
  },
  {
   "cell_type": "code",
   "execution_count": 6,
   "metadata": {},
   "outputs": [],
   "source": [
    "#supondremos que el valor más alto de cambio es 100\n",
    "soluciones = [0] * 101"
   ]
  },
  {
   "cell_type": "markdown",
   "metadata": {},
   "source": [
    "Existe una sola forma de dar un cambio de cero."
   ]
  },
  {
   "cell_type": "code",
   "execution_count": 7,
   "metadata": {},
   "outputs": [],
   "source": [
    "soluciones[0] = 1"
   ]
  },
  {
   "cell_type": "markdown",
   "metadata": {},
   "source": [
    "Ahora utilizamos un for que llegue hasta el máximo: 100, y lo almacenamos en memoria. También vale la pena recordar que cada respuesta depende de la moneda con la que empiece la solución."
   ]
  },
  {
   "cell_type": "code",
   "execution_count": 11,
   "metadata": {},
   "outputs": [],
   "source": [
    "for i in range(1,100+1):\n",
    "    for moneda in monedas:\n",
    "        if(i-moneda>=0):\n",
    "            #se suman las formas de resolver\n",
    "            #valores más pequeños dependiendo\n",
    "            #de la moneda inicial: moneda\n",
    "            soluciones[i] += soluciones[i-moneda]"
   ]
  },
  {
   "cell_type": "markdown",
   "metadata": {},
   "source": [
    "Cabe mencionar que el orden sí importa, entonces es diferente dar un cambio de $3+1$ que $1+3$. Por eso 4 tiene cuatro formas de solucionarse:\n",
    "* 1 1 1 1\n",
    "* 1 3\n",
    "* 3 1\n",
    "* 4"
   ]
  },
  {
   "cell_type": "code",
   "execution_count": 10,
   "metadata": {},
   "outputs": [
    {
     "name": "stdout",
     "output_type": "stream",
     "text": [
      "0 : 1\n",
      "1 : 1\n",
      "2 : 1\n",
      "3 : 2\n",
      "4 : 4\n",
      "5 : 6\n",
      "6 : 9\n",
      "7 : 15\n",
      "8 : 25\n",
      "9 : 40\n",
      "10 : 64\n",
      "11 : 104\n",
      "12 : 169\n",
      "13 : 273\n",
      "14 : 441\n",
      "15 : 714\n",
      "16 : 1156\n",
      "17 : 1870\n",
      "18 : 3025\n",
      "19 : 4895\n",
      "20 : 7921\n",
      "21 : 12816\n",
      "22 : 20736\n",
      "23 : 33552\n",
      "24 : 54289\n",
      "25 : 87841\n",
      "26 : 142129\n",
      "27 : 229970\n",
      "28 : 372100\n",
      "29 : 602070\n",
      "30 : 974169\n",
      "31 : 1576239\n",
      "32 : 2550409\n",
      "33 : 4126648\n",
      "34 : 6677056\n",
      "35 : 10803704\n",
      "36 : 17480761\n",
      "37 : 28284465\n",
      "38 : 45765225\n",
      "39 : 74049690\n",
      "40 : 119814916\n",
      "41 : 193864606\n",
      "42 : 313679521\n",
      "43 : 507544127\n",
      "44 : 821223649\n",
      "45 : 1328767776\n",
      "46 : 2149991424\n",
      "47 : 3478759200\n",
      "48 : 5628750625\n",
      "49 : 9107509825\n",
      "50 : 14736260449\n",
      "51 : 23843770274\n",
      "52 : 38580030724\n",
      "53 : 62423800998\n",
      "54 : 101003831721\n",
      "55 : 163427632719\n",
      "56 : 264431464441\n",
      "57 : 427859097160\n",
      "58 : 692290561600\n",
      "59 : 1120149658760\n",
      "60 : 1812440220361\n",
      "61 : 2932589879121\n",
      "62 : 4745030099481\n",
      "63 : 7677619978602\n",
      "64 : 12422650078084\n",
      "65 : 20100270056686\n",
      "66 : 32522920134769\n",
      "67 : 52623190191455\n",
      "68 : 85146110326225\n",
      "69 : 137769300517680\n",
      "70 : 222915410843904\n",
      "71 : 360684711361584\n",
      "72 : 583600122205489\n",
      "73 : 944284833567073\n",
      "74 : 1527884955772561\n",
      "75 : 2472169789339634\n",
      "76 : 4000054745112196\n",
      "77 : 6472224534451830\n",
      "78 : 10472279279564025\n",
      "79 : 16944503814015855\n",
      "80 : 27416783093579881\n",
      "81 : 44361286907595736\n",
      "82 : 71778070001175616\n",
      "83 : 116139356908771352\n",
      "84 : 187917426909946969\n",
      "85 : 304056783818718321\n",
      "86 : 491974210728665289\n",
      "87 : 796030994547383610\n",
      "88 : 1288005205276048900\n",
      "89 : 2084036199823432510\n",
      "90 : 3372041405099481409\n",
      "91 : 5456077604922913919\n",
      "92 : 8828119010022395329\n",
      "93 : 14284196614945309248\n",
      "94 : 23112315624967704576\n",
      "95 : 37396512239913013824\n",
      "96 : 60508827864880718401\n",
      "97 : 97905340104793732225\n",
      "98 : 158414167969674450625\n",
      "99 : 256319508074468182850\n",
      "100 : 414733676044142633476\n"
     ]
    }
   ],
   "source": [
    "for i, solucion in enumerate(soluciones):\n",
    "    print(i,\":\",solucion)"
   ]
  },
  {
   "cell_type": "code",
   "execution_count": null,
   "metadata": {},
   "outputs": [],
   "source": []
  }
 ],
 "metadata": {
  "kernelspec": {
   "display_name": "Python 3",
   "language": "python",
   "name": "python3"
  },
  "language_info": {
   "codemirror_mode": {
    "name": "ipython",
    "version": 3
   },
   "file_extension": ".py",
   "mimetype": "text/x-python",
   "name": "python",
   "nbconvert_exporter": "python",
   "pygments_lexer": "ipython3",
   "version": "3.6.5"
  }
 },
 "nbformat": 4,
 "nbformat_minor": 2
}
