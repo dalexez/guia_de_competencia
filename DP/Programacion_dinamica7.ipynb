{
 "cells": [
  {
   "cell_type": "markdown",
   "metadata": {},
   "source": [
    "# Sumas posibles en un arreglo"
   ]
  },
  {
   "cell_type": "markdown",
   "metadata": {},
   "source": [
    "El siguiente problema se trata de encontrar todas los resultados que se pueden obtener sumando los valores de un array dado.  "
   ]
  },
  {
   "cell_type": "code",
   "execution_count": 1,
   "metadata": {},
   "outputs": [],
   "source": [
    "array = [1,3,3,5]"
   ]
  },
  {
   "cell_type": "markdown",
   "metadata": {},
   "source": [
    "Los resultados posibles van desde 0 hasta 12, excepto por 2 y 10. Es decir, sumando los elmentos del array dado, se obtienen los resultados: 0, 1, 3, 4, 5, 6, 7, 8, 9, 11, 12."
   ]
  },
  {
   "cell_type": "markdown",
   "metadata": {},
   "source": [
    "* 12 se obtiene sumando todos los elementos\n",
    "* 0 se obtiene al no seleccionar ningún elemento\n",
    "* 7 se obtiene al sumar 3+3+1\n",
    "* 1 se obtiene al tomar el primer elemento"
   ]
  },
  {
   "cell_type": "markdown",
   "metadata": {},
   "source": [
    "## Fuerza bruta"
   ]
  },
  {
   "cell_type": "markdown",
   "metadata": {},
   "source": [
    "Antes de pasar a la solución dinámica, quiero que observemos la complejidad de una solución de fuerza bruta. Es importante analizar por qué esta solución no es válida. Ya que de lo contrario no estaríamos razonando, sólo copiando."
   ]
  },
  {
   "cell_type": "markdown",
   "metadata": {},
   "source": [
    "1. El algoritmo debería probar sumar el primer número a todos los demás. \n",
    "2. Luego, el segundo número a todos los demás. \n",
    "3. Luego, debe haber una segunda vuelta, pero esta vez, sumando los dos primeros elementos a todos los demas.  \n",
    "4. El proceso se repite con el tercer elemento, se debe sumar solo a todos los demas, después se debe tomar la suma de los tres primeros elementos y se suma al cuarto, al quinto, y así."
   ]
  },
  {
   "cell_type": "code",
   "execution_count": 8,
   "metadata": {},
   "outputs": [],
   "source": [
    "array = [1,3,3,5]\n",
    "#debemos encontrar todas las sumas posibles\n",
    "sumas_posibles = [0]*(sum(array)+1) #array de len = suma de todos los elementos+1\n",
    "sumas_posibles[0] = 1 #no se elige ningún elemento\n",
    "\n",
    "#tomamos el primer elemento\n",
    "for i in range(len(array)):\n",
    "    sumas_posibles[array[i]] = 1 #se elige un solo elemento\n",
    "    for j in range(i+1,len(array)):\n",
    "        # se suman dos elementos\n",
    "        suma = array[i]+array[j]\n",
    "        sumas_posibles[suma]=1\n",
    "        \n",
    "        # suman todos los elementos entre el primero y el segundo\n",
    "        suma = sum(array[i:j+1])\n",
    "        \n",
    "        #la suma anterior se suma a otros números del array\n",
    "        for k in range(j+1,len(array)):\n",
    "            suma2= suma + array[k]\n",
    "            sumas_posibles[suma2]=1\n",
    "            \n",
    "solucion = []\n",
    "for i in range(len(sumas_posibles)):\n",
    "    if(sumas_posibles[i]==1):\n",
    "        solucion.append(i)\n",
    "        "
   ]
  },
  {
   "cell_type": "code",
   "execution_count": 9,
   "metadata": {},
   "outputs": [
    {
     "data": {
      "text/plain": [
       "[0, 1, 3, 4, 5, 6, 7, 8, 9, 11, 12]"
      ]
     },
     "execution_count": 9,
     "metadata": {},
     "output_type": "execute_result"
    }
   ],
   "source": [
    "solucion"
   ]
  },
  {
   "cell_type": "markdown",
   "metadata": {},
   "source": [
    "La respuesta es correcta.  \n",
    "Veamos un poco más en profundidad cómo funciona.  \n",
    "¿Cómo encuentra la suma 7?\n",
    "`array = [1,3,3,5]`  \n",
    "Se necesita sumar 1+3+3, en el algoritmo existe un punto donde esto ocurrirá: `suma = sum(array[i:j+1])`. Esta instrucción sumará 1+3, luego, el for inferior sumará el otro 3.  \n",
    "Si seguimos esa ejecución, el algoritmo también sumará 1+3+5 = 9 en el ciclo siguiente."
   ]
  },
  {
   "cell_type": "markdown",
   "metadata": {},
   "source": [
    "La complejidad del algoritmo es de $O(N^3)$. Y sinceramente no creo que el algoritmo funcione en todos los casos. Sin embargo, ya con una complejidad tan grande no vale la pena seguir buscando."
   ]
  },
  {
   "cell_type": "markdown",
   "metadata": {},
   "source": [
    "## Progamación dinámica"
   ]
  },
  {
   "cell_type": "markdown",
   "metadata": {},
   "source": [
    "Debemos identificar el problema que se repite una y otra vez.  \n",
    "Se puede decir que los resultados posibles abarcan de 0, no elegir elementos, a la suma de todos los elementos del array."
   ]
  },
  {
   "cell_type": "markdown",
   "metadata": {},
   "source": [
    "En nuestro ejemplo, todas las posiblidades van desde 0 hasta 12. \n",
    "Podemos declarar una f(x), donde x se mueve en este rango."
   ]
  },
  {
   "cell_type": "code",
   "execution_count": 11,
   "metadata": {},
   "outputs": [],
   "source": [
    "x = range(0,sum(array))"
   ]
  },
  {
   "cell_type": "code",
   "execution_count": 12,
   "metadata": {},
   "outputs": [
    {
     "data": {
      "text/plain": [
       "range(0, 12)"
      ]
     },
     "execution_count": 12,
     "metadata": {},
     "output_type": "execute_result"
    }
   ],
   "source": [
    "x"
   ]
  },
  {
   "cell_type": "markdown",
   "metadata": {},
   "source": [
    "Ahora, f(x) arroja verdadero si x se puede obtener mediante la suma de los elementos del array: `array = [1,3,3,5]`, o falso si la suma no se puede obtener con los elementos del array."
   ]
  },
  {
   "cell_type": "markdown",
   "metadata": {},
   "source": [
    "Por ejemplo:\n",
    "* f(0) = 1, ya que es posible obtener x con la suma de los elmentos. En este caso, no se suma ningún elemento.\n",
    "* f(1) = 1, se puede obtenere seleccionando el primer elemento.\n",
    "* f(2) = 0, ya que no se puede obtener x sumando nignún elemento del array.\n",
    "* f(7) = 1, se obtiene sumando $1+3+3$.\n"
   ]
  },
  {
   "cell_type": "markdown",
   "metadata": {},
   "source": [
    "Finalmente, la clave para reducir la complejidad es agregar un segundo parámetro que indique la ubicación dentro del array. $f(x,k)$ donde k indica en qué elemento del array estamos."
   ]
  },
  {
   "cell_type": "markdown",
   "metadata": {},
   "source": [
    "Entonces, la pregunta que hacemos es ¿se puede obtener este número sumando los elementos que hay en el array hasta k?"
   ]
  },
  {
   "cell_type": "code",
   "execution_count": 29,
   "metadata": {},
   "outputs": [],
   "source": [
    "#array original\n",
    "array = [1,3,3,5]\n",
    "\n",
    "k_max = len(array)\n",
    "x_max = sum(array)\n",
    "f_xk = []\n",
    "for i in range(x_max+1):\n",
    "    f_xk.append([False]*(k_max+1))\n",
    "#array que toma en cuenta no tomar ningún valor\n",
    "array = [0] + array\n",
    "#se puede obtener una suma de cero con cero elementos\n",
    "f_xk[0][0] = True\n",
    "\n",
    "for x in range(0,x_max+1):\n",
    "    for k in range(1,k_max+1): \n",
    "        # se puede obtener esta suma con el valor anterior\n",
    "        # o, si resto el valor actual, se obtiene esa suma con el valor anterior\n",
    "        f_xk[x][k] = f_xk[x-array[k]][k-1] or f_xk[x][k-1] "
   ]
  },
  {
   "cell_type": "code",
   "execution_count": 30,
   "metadata": {},
   "outputs": [
    {
     "data": {
      "text/plain": [
       "[[True, True, True, True, True],\n",
       " [False, True, True, True, True],\n",
       " [False, False, False, False, False],\n",
       " [False, False, True, True, True],\n",
       " [False, False, True, True, True],\n",
       " [False, False, False, False, True],\n",
       " [False, False, False, True, True],\n",
       " [False, False, False, True, True],\n",
       " [False, False, False, False, True],\n",
       " [False, False, False, False, True],\n",
       " [False, False, False, False, False],\n",
       " [False, False, False, False, True],\n",
       " [False, False, False, False, True]]"
      ]
     },
     "execution_count": 30,
     "metadata": {},
     "output_type": "execute_result"
    }
   ],
   "source": [
    "f_xk"
   ]
  },
  {
   "cell_type": "markdown",
   "metadata": {},
   "source": [
    "En la matriz de arriba podemos ver que a partir del primer valor que dice True se puede obtener la suma correspondiente. Si vemos la fila 10, recordando que se enumeran de 0 a 12, la fila 10 está llena de False ya que no se puede obtener esa suma.  \n",
    "Sin embargo, la fila 11 sí tiene un True al final, lo que significa que hay que tomar en cuenta todos los elementos, no sumar todos los elementos, sólo tenerlos en cuenta. Ya que si a 11 le restamos 5, se produce 6. Ese 6 se puede obtener sumando elementos anteriores y eso es lo que importa."
   ]
  },
  {
   "cell_type": "code",
   "execution_count": 32,
   "metadata": {},
   "outputs": [],
   "source": [
    "solucion = []\n",
    "for i in range(len(f_xk)):\n",
    "    if(True in f_xk[i]):\n",
    "        solucion.append(i)"
   ]
  },
  {
   "cell_type": "code",
   "execution_count": 34,
   "metadata": {},
   "outputs": [
    {
     "data": {
      "text/plain": [
       "[0, 1, 3, 4, 5, 6, 7, 8, 9, 11, 12]"
      ]
     },
     "execution_count": 34,
     "metadata": {},
     "output_type": "execute_result"
    }
   ],
   "source": [
    "solucion"
   ]
  },
  {
   "cell_type": "markdown",
   "metadata": {},
   "source": [
    "Se obtuvo la misma respuesta que en el algoritmo anterior, pero esta vez con una complejidad $O(N^2)$ y no cúbica."
   ]
  },
  {
   "cell_type": "code",
   "execution_count": 51,
   "metadata": {},
   "outputs": [],
   "source": [
    "#array original\n",
    "array = [1,3,3,10,11]\n",
    "\n",
    "k_max = len(array)\n",
    "x_max = sum(array)\n",
    "f_xk = []\n",
    "for i in range(x_max+1):\n",
    "    f_xk.append([False]*(k_max+1))\n",
    "#array que toma en cuenta no tomar ningún valor\n",
    "array = [0] + array\n",
    "#se puede obtener una suma de cero con cero elementos\n",
    "f_xk[0][0] = True\n",
    "\n",
    "for x in range(0,x_max+1):\n",
    "    for k in range(1,k_max+1): \n",
    "        # se puede obtener esta suma con el valor anterior\n",
    "        # o, si resto el valor actual, se obtiene esa suma con el valor anterior\n",
    "        f_xk[x][k] = f_xk[x-array[k]][k-1] or f_xk[x][k-1] \n",
    "        \n",
    "solucion_pd = []\n",
    "for i in range(len(f_xk)):\n",
    "    if(True in f_xk[i]):\n",
    "        solucion_pd.append(i)"
   ]
  },
  {
   "cell_type": "code",
   "execution_count": 52,
   "metadata": {},
   "outputs": [
    {
     "data": {
      "text/plain": [
       "[0, 1, 3, 4, 6, 7, 10, 11, 12, 13, 14, 15, 16, 17, 18, 21, 22, 24, 25, 27, 28]"
      ]
     },
     "execution_count": 52,
     "metadata": {},
     "output_type": "execute_result"
    }
   ],
   "source": [
    "solucion_pd"
   ]
  },
  {
   "cell_type": "code",
   "execution_count": 53,
   "metadata": {},
   "outputs": [],
   "source": [
    "array = [1,3,3,10,11]\n",
    "#debemos encontrar todas las sumas posibles\n",
    "sumas_posibles = [0]*(sum(array)+1) #array de len = suma de todos los elementos+1\n",
    "sumas_posibles[0] = 1 #no se elige ningún elemento\n",
    "\n",
    "#tomamos el primer elemento\n",
    "for i in range(len(array)):\n",
    "    sumas_posibles[array[i]] = 1 #se elige un solo elemento\n",
    "    for j in range(i+1,len(array)):\n",
    "        # se suman dos elementos\n",
    "        suma = array[i]+array[j]\n",
    "        sumas_posibles[suma]=1\n",
    "        \n",
    "        # suman todos los elementos entre el primero y el segundo\n",
    "        suma = sum(array[i:j+1])\n",
    "        \n",
    "        #la suma anterior se suma a otros números del array\n",
    "        for k in range(j+1,len(array)):\n",
    "            suma2= suma + array[k]\n",
    "            sumas_posibles[suma2]=1\n",
    "            \n",
    "solucion_lenta = []\n",
    "for i in range(len(sumas_posibles)):\n",
    "    if(sumas_posibles[i]==1):\n",
    "        solucion_lenta.append(i)"
   ]
  },
  {
   "cell_type": "code",
   "execution_count": 54,
   "metadata": {},
   "outputs": [
    {
     "data": {
      "text/plain": [
       "[0, 1, 3, 4, 6, 7, 10, 11, 12, 13, 14, 15, 16, 17, 18, 21, 24, 27, 28]"
      ]
     },
     "execution_count": 54,
     "metadata": {},
     "output_type": "execute_result"
    }
   ],
   "source": [
    "solucion_lenta"
   ]
  },
  {
   "cell_type": "markdown",
   "metadata": {},
   "source": [
    "En este momento acabo de ver la solución lenta y en este caso falla porque necesita sumar 1 10 11 para llegar a 22 y el algoritmo sólo toma rangos de izquierda a derecha. En este caso tendría que sumar 11 10 y llegar hasta el 1 en sentido inverso.  \n",
    "Esto demuestra la complejidad del problema y lo poco efectiva que puede ser una respuesta de fuerza bruta."
   ]
  },
  {
   "cell_type": "code",
   "execution_count": null,
   "metadata": {},
   "outputs": [],
   "source": []
  }
 ],
 "metadata": {
  "kernelspec": {
   "display_name": "Python 3",
   "language": "python",
   "name": "python3"
  },
  "language_info": {
   "codemirror_mode": {
    "name": "ipython",
    "version": 3
   },
   "file_extension": ".py",
   "mimetype": "text/x-python",
   "name": "python",
   "nbconvert_exporter": "python",
   "pygments_lexer": "ipython3",
   "version": "3.8.3"
  }
 },
 "nbformat": 4,
 "nbformat_minor": 4
}
