{
 "cells": [
  {
   "cell_type": "markdown",
   "metadata": {},
   "source": [
    "# La subsecuencia más larga"
   ]
  },
  {
   "cell_type": "markdown",
   "metadata": {},
   "source": [
    "Este problema tiene una respuesta eficiente usando programación dinámica. Además, los autores plantearon el reto de reducir la complejidad del algoritmo a $O(n \\times{\\log {n}})$"
   ]
  },
  {
   "cell_type": "markdown",
   "metadata": {},
   "source": [
    "## El problema\n",
    "Dado un array con varios valores, debemos encontrar el subarray incremental más largo."
   ]
  },
  {
   "cell_type": "code",
   "execution_count": 2,
   "metadata": {},
   "outputs": [
    {
     "name": "stdout",
     "output_type": "stream",
     "text": [
      "Array [6, 2, 5, 1, 7, 4, 8, 3]\n",
      "Respuesta [2, 5, 7, 8]\n"
     ]
    }
   ],
   "source": [
    "array = [6,2,5,1,7,4,8,3]\n",
    "print(\"Array\", array)\n",
    "print(\"Respuesta\", [2,5,7,8])"
   ]
  },
  {
   "cell_type": "markdown",
   "metadata": {},
   "source": [
    "Si observamos el array de izquierda a derecha observaremos que no importa que entre el 5 y el 7 exista un número que se interponga, lo único que importa es encontrar un número que sea más grande. Después del 7 viene el 8 y ya no existen números mayores."
   ]
  },
  {
   "cell_type": "markdown",
   "metadata": {},
   "source": [
    "## Programación dinámica\n",
    "La programación dinámica surge cuando observamos que cada respuesta depende de la anterior.\n",
    "\n",
    "Si queremos construir un subarray incremental, cada elemento que se agrega depende del elemento anterior, el elemento anterior tiene que ser menor al actual de forma obligatoria."
   ]
  },
  {
   "cell_type": "code",
   "execution_count": 7,
   "metadata": {},
   "outputs": [],
   "source": [
    "array = [6,2,5,1,7,4,8,3]"
   ]
  },
  {
   "cell_type": "markdown",
   "metadata": {},
   "source": [
    "$f(0) = \\{6\\}$  \n",
    "$f(1) = \\{2\\}$  \n",
    "$f(2) = \\{2,5\\}$  \n",
    "$f(3) = \\{1\\}$  \n",
    "$f(4) = \\{2,5,7\\}$  \n",
    "$f(5) = \\{1,4\\}$  \n",
    "$f(6) = \\{2,5,7,8\\}$  \n",
    "$f(7) = \\{1,3\\}$"
   ]
  },
  {
   "cell_type": "markdown",
   "metadata": {},
   "source": [
    "$f(2)$ depende de $f(1)$, ya que es el único conjunto que termina en un elemento menor a $5$."
   ]
  },
  {
   "cell_type": "markdown",
   "metadata": {},
   "source": [
    "### Solución de complejidad $O(N^{2})$\n",
    "Esta es la solución que se proporciona en el libro."
   ]
  },
  {
   "cell_type": "code",
   "execution_count": 39,
   "metadata": {},
   "outputs": [],
   "source": [
    "def max_incremental_subarray(array):\n",
    "    #aquí guardaré los subconjuntos incrementales\n",
    "    #f(0) siempre será el primer elemento \n",
    "    f_arrays = [[array[0]]]\n",
    "    #voy a guardar el índice del subarray más largo\n",
    "    max_indx = 0\n",
    "    max_long = 0\n",
    "    #voy a recorrer toda la lista para encontrar los subarrays\n",
    "    for i in range(1,len(array)):\n",
    "        #en principio, el úncio elemento del subarray es\n",
    "        #el elemento actual\n",
    "        subarray = [array[i]]\n",
    "        #voy a buscar en las f(j) inferiores a i\n",
    "        #si encuentro un elmento final menor\n",
    "        for j in range(i):\n",
    "            if(f_arrays[j][-1]<array[i]):\n",
    "                if(len(subarray)<=len(f_arrays[j])):\n",
    "                    subarray = f_arrays[j]+[array[i]]\n",
    "            \n",
    "        #compruebo si este subconjunto es el de mayor longitud       \n",
    "        long_sub = len(subarray)\n",
    "        if(long_sub > max_long):\n",
    "            max_long = long_sub \n",
    "            max_indx = i\n",
    "        f_arrays.append(subarray)\n",
    "        \n",
    "    return f_arrays[max_indx]"
   ]
  },
  {
   "cell_type": "code",
   "execution_count": 40,
   "metadata": {},
   "outputs": [
    {
     "name": "stdout",
     "output_type": "stream",
     "text": [
      "Subarray más largo\n",
      "[2, 5, 7, 8]\n",
      "#############################\n"
     ]
    }
   ],
   "source": [
    "print(\"Subarray más largo\")\n",
    "print(max_incremental_subarray(array))\n",
    "print('#############################')"
   ]
  },
  {
   "cell_type": "markdown",
   "metadata": {},
   "source": [
    "También podemos revisar las $f(j)$ para ver que los resultados son los mismos:"
   ]
  },
  {
   "cell_type": "code",
   "execution_count": 24,
   "metadata": {},
   "outputs": [],
   "source": [
    "def max_incremental_subarray(array):\n",
    "    #aquí guardaré los subconjuntos incrementales\n",
    "    #f(0) siempre será el primer elemento \n",
    "    f_arrays = [[array[0]]]\n",
    "    #voy a guardar el índice del subarray más largo\n",
    "    max_indx = 0\n",
    "    max_long = 0\n",
    "    #voy a recorrer toda la lista para encontrar los subarrays\n",
    "    for i in range(1,len(array)):\n",
    "        #en principio, el úncio elemento del subarray es\n",
    "        #el elemento actual\n",
    "        subarray = [array[i]]\n",
    "        #voy a buscar en las f(j) inferiores a i\n",
    "        #si encuentro un elmento final menor\n",
    "        for j in range(i):\n",
    "            if(f_arrays[j][-1]<array[i]):\n",
    "                if(len(subarray)<=len(f_arrays[j])):\n",
    "                    subarray = f_arrays[j]+[array[i]]\n",
    "            \n",
    "        #compruebo si este subconjunto es el de mayor longitud       \n",
    "        long_sub = len(subarray)\n",
    "        if(long_sub > max_long):\n",
    "            max_long = long_sub \n",
    "            max_indx = i\n",
    "        f_arrays.append(subarray)\n",
    "    # en este caso retorna toda la matriz\n",
    "    return f_arrays"
   ]
  },
  {
   "cell_type": "code",
   "execution_count": 26,
   "metadata": {},
   "outputs": [
    {
     "name": "stdout",
     "output_type": "stream",
     "text": [
      "[[6], [2], [2, 5], [1], [2, 5, 7], [2, 4], [2, 5, 7, 8], [2, 3]]\n"
     ]
    }
   ],
   "source": [
    "f_arrays = max_incremental_subarray(array)\n",
    "print(f_arrays)"
   ]
  },
  {
   "cell_type": "code",
   "execution_count": 34,
   "metadata": {},
   "outputs": [
    {
     "name": "stdout",
     "output_type": "stream",
     "text": [
      "f(0)=[6]\n",
      "f(1)=[2]\n",
      "f(2)=[2, 5]\n",
      "f(3)=[1]\n",
      "f(4)=[2, 5, 7]\n",
      "f(5)=[2, 4]\n",
      "f(6)=[2, 5, 7, 8]\n",
      "f(7)=[2, 3]\n"
     ]
    }
   ],
   "source": [
    "for i,subarray in enumerate(f_arrays):\n",
    "    print('f({})={}'.format(i,subarray))"
   ]
  },
  {
   "cell_type": "markdown",
   "metadata": {},
   "source": [
    "$f(0) = \\{6\\}$  \n",
    "$f(1) = \\{2\\}$  \n",
    "$f(2) = \\{2,5\\}$  \n",
    "$f(3) = \\{1\\}$  \n",
    "$f(4) = \\{2,5,7\\}$  \n",
    "$f(5) = \\{1,4\\}$  \n",
    "$f(6) = \\{2,5,7,8\\}$  \n",
    "$f(7) = \\{1,3\\}$"
   ]
  },
  {
   "cell_type": "markdown",
   "metadata": {},
   "source": [
    "### Solución de complejidad $O(n \\log{n})$"
   ]
  },
  {
   "cell_type": "markdown",
   "metadata": {},
   "source": [
    "En el algoritmo anterior se utilizaba un for anidado, eso produce la complejidad al cuadrado. Entonces, lo que hay que hacer es elminar el for interno."
   ]
  },
  {
   "cell_type": "code",
   "execution_count": 41,
   "metadata": {},
   "outputs": [],
   "source": [
    "def max_incremental_subarray(array):\n",
    "    #aquí guardaré los subconjuntos incrementales\n",
    "    #f(0) siempre será el primer elemento \n",
    "    f_arrays = [[array[0]]]\n",
    "    #voy a guardar el índice del subarray más largo\n",
    "    max_indx = 0\n",
    "    max_long = 0\n",
    "    #voy a recorrer toda la lista para encontrar los subarrays\n",
    "    for i in range(1,len(array)):\n",
    "        #en principio, el úncio elemento del subarray es\n",
    "        #el elemento actual\n",
    "        subarray = [array[i]]\n",
    "        \n",
    "        ###################################################\n",
    "        ####################################################\n",
    "        #ESTA PARTE DEBE CAMBIAR \n",
    "        for j in range(i):\n",
    "            if(f_arrays[j][-1]<array[i]):\n",
    "                if(len(subarray)<=len(f_arrays[j])):\n",
    "                    subarray = f_arrays[j]+[array[i]]\n",
    "        #####################################################\n",
    "        ####################################################\n",
    "        \n",
    "        #compruebo si este subconjunto es el de mayor longitud       \n",
    "        long_sub = len(subarray)\n",
    "        if(long_sub > max_long):\n",
    "            max_long = long_sub \n",
    "            max_indx = i\n",
    "        f_arrays.append(subarray)\n",
    "    # en este caso retorna toda la matriz\n",
    "    return f_arrays"
   ]
  },
  {
   "cell_type": "markdown",
   "metadata": {},
   "source": [
    "#### Proceso de pensamiento\n",
    "* Bien, si quiero producir complejidad logarítmica, entonces debo pensar en ordenamiento o en búsqueda binaria.  \n",
    "* Ya que f_arrays no está ordenado no puedo pensar en búsqueda binaria.  \n",
    "* Entonces debe ser un algoritmo de ordenamiento. En ese caso, podría ordenar la matriz f_arrays de acuerdo a su longitud. Sin embargo, también debo tomar en cuenta que necesito un elemento que sea menor al actual.\n"
   ]
  },
  {
   "cell_type": "markdown",
   "metadata": {},
   "source": [
    "Tras realizar estos análisis considero que voy a necesitar algo de tiempo para llegar a la respuesta. Así que lo dejaré para el siguiente notebook."
   ]
  },
  {
   "cell_type": "code",
   "execution_count": null,
   "metadata": {},
   "outputs": [],
   "source": []
  }
 ],
 "metadata": {
  "kernelspec": {
   "display_name": "Python 3",
   "language": "python",
   "name": "python3"
  },
  "language_info": {
   "codemirror_mode": {
    "name": "ipython",
    "version": 3
   },
   "file_extension": ".py",
   "mimetype": "text/x-python",
   "name": "python",
   "nbconvert_exporter": "python",
   "pygments_lexer": "ipython3",
   "version": "3.6.5"
  }
 },
 "nbformat": 4,
 "nbformat_minor": 2
}
