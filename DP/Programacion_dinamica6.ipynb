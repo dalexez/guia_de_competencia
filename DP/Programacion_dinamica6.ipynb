{
 "cells": [
  {
   "cell_type": "markdown",
   "metadata": {},
   "source": [
    "# Suma máxima en una matriz"
   ]
  },
  {
   "cell_type": "markdown",
   "metadata": {},
   "source": [
    "Este problema consiste en encontrar la suma máxima dentro de una matriz, siguiendo una secuencia determinada.  \n",
    "La secuencia debe empezar en la esquina superior izquierda y termina en la esquina inferior derecha. Sólo puedes avanzar hacia la derecha o hacia abajo."
   ]
  },
  {
   "cell_type": "markdown",
   "metadata": {},
   "source": [
    "$$\\begin{bmatrix}\n",
    "3&7&9&2&7 \\\\\n",
    "9&8&3&5&5 \\\\\n",
    "1&7&9&8&5 \\\\\n",
    "3&8&6&4&10 \\\\\n",
    "6&3&9&7&8 \\\\\n",
    "\\end{bmatrix}$$"
   ]
  },
  {
   "cell_type": "markdown",
   "metadata": {},
   "source": [
    "Secuencia de la suma máxima:\n",
    "$$\\begin{bmatrix}\n",
    "(3)&7&9&2&7 \\\\\n",
    "(9)&(8)&3&5&5 \\\\\n",
    "1&(7)&(9)&(8)&(5) \\\\\n",
    "3&8&6&4&(10) \\\\\n",
    "6&3&9&7&(8) \\\\\n",
    "\\end{bmatrix}$$\n"
   ]
  },
  {
   "cell_type": "code",
   "execution_count": 9,
   "metadata": {},
   "outputs": [
    {
     "name": "stdout",
     "output_type": "stream",
     "text": [
      "67\n"
     ]
    }
   ],
   "source": [
    "suma_maxima = 3+9+8+7+9+8+5+10+8\n",
    "print(suma_maxima)"
   ]
  },
  {
   "cell_type": "markdown",
   "metadata": {},
   "source": [
    "## Programación Dinámica"
   ]
  },
  {
   "cell_type": "markdown",
   "metadata": {},
   "source": [
    "Este problema se puede plantear como sum(y,x) (Recordemos que para programación, primero se colocaría el índice y, que indica la fila en la que se está trabjando; luego x, que indica la columna).\n",
    "* Sum representa la secuencia con la suma máxima en el punto (x,y). \n",
    "* Cada secuencia siempre empieza con la esquina superior izquierda (0,0).\n",
    "* La suma máxima en cada punto depende si viene de (y-1,x) o (y,x-1).\n",
    "* Al llegar a la esquina inferior derecha, sum(n,n) debe tener la mejor respuesta."
   ]
  },
  {
   "cell_type": "markdown",
   "metadata": {},
   "source": [
    "La solución recursiva es:  \n",
    "sum(y,x) = max(sum(y-1,x), sum(y,x-1)) + valor(y,x)\n",
    "    "
   ]
  },
  {
   "cell_type": "code",
   "execution_count": 60,
   "metadata": {},
   "outputs": [],
   "source": [
    "def max_sum_in_matrix(matrix):\n",
    "    #la matriz es de n x n\n",
    "    n = len(matrix)\n",
    "    \n",
    "    # saco una copia de la matriz para almacenar el resultado de sum()\n",
    "    sum_yx = []\n",
    "    for y in range(n):\n",
    "        sum_yx.append(matrix[y].copy())\n",
    "      \n",
    "    \n",
    "    #la primera fila sólo puede venir de (y,x-1), es decir de casiilas de la misma fila\n",
    "       # la esquina superior debe ser igual\n",
    "    for x in range(1,n):\n",
    "        sum_yx[0][x] = sum_yx[0][x-1] + matrix[0][x]\n",
    "        \n",
    "    #la primera columna sólo puede venir de (y-1,x), es decir, casillas de la misma columna\n",
    "    for y in range(1,n):\n",
    "        sum_yx[y][0] = sum_yx[y-1][0] + matrix[y][0]\n",
    "        \n",
    "    # a partir de la segunda fila se puede buscar \n",
    "    # tanto en (y,x-1) como en (y-1,x)\n",
    "    for y in range(1,n):\n",
    "        for x in range(1,n):\n",
    "            sum_yx[y][x] = max(sum_yx[y][x-1],sum_yx[y-1][x]) + matrix[y][x]\n",
    "    \n",
    "    #retorno la matriz de soluciones sólo para poder analizarla\n",
    "    return sum_yx[n-1][n-1], sum_yx\n",
    "\n",
    "    \n",
    "            \n",
    "            "
   ]
  },
  {
   "cell_type": "code",
   "execution_count": 61,
   "metadata": {},
   "outputs": [],
   "source": [
    "matrix = [[3,7,9,2,7],\n",
    "          [9,8,3,5,5],\n",
    "         [1,7,9,8,5],\n",
    "         [3,8,6,4,10],\n",
    "         [6,3,9,7,8]]"
   ]
  },
  {
   "cell_type": "code",
   "execution_count": 62,
   "metadata": {},
   "outputs": [],
   "source": [
    "max_sum, sum_matrix = max_sum_in_matrix(matrix)"
   ]
  },
  {
   "cell_type": "code",
   "execution_count": 67,
   "metadata": {},
   "outputs": [],
   "source": [
    "import numpy as np\n",
    "sum_matrix = np.matrix(sum_matrix)"
   ]
  },
  {
   "cell_type": "markdown",
   "metadata": {},
   "source": [
    "Podemos observar que la respuesta se encuentra en la parte inferior derecha. Todas las celdas contienen la suma máxima que se puede obtener."
   ]
  },
  {
   "cell_type": "code",
   "execution_count": 64,
   "metadata": {},
   "outputs": [
    {
     "data": {
      "text/plain": [
       "matrix([[ 3, 10, 19, 21, 28],\n",
       "        [12, 20, 23, 28, 33],\n",
       "        [13, 27, 36, 44, 49],\n",
       "        [16, 35, 42, 48, 59],\n",
       "        [22, 38, 51, 58, 67]])"
      ]
     },
     "execution_count": 64,
     "metadata": {},
     "output_type": "execute_result"
    }
   ],
   "source": [
    "sum_matrix"
   ]
  },
  {
   "cell_type": "code",
   "execution_count": 68,
   "metadata": {},
   "outputs": [
    {
     "data": {
      "text/plain": [
       "[[3, 7, 9, 2, 7],\n",
       " [9, 8, 3, 5, 5],\n",
       " [1, 7, 9, 8, 5],\n",
       " [3, 8, 6, 4, 10],\n",
       " [6, 3, 9, 7, 8]]"
      ]
     },
     "execution_count": 68,
     "metadata": {},
     "output_type": "execute_result"
    }
   ],
   "source": [
    "matrix"
   ]
  },
  {
   "cell_type": "markdown",
   "metadata": {},
   "source": [
    "La respuesta: 67, se obtuvo correctamente."
   ]
  },
  {
   "cell_type": "code",
   "execution_count": 69,
   "metadata": {},
   "outputs": [
    {
     "data": {
      "text/plain": [
       "67"
      ]
     },
     "execution_count": 69,
     "metadata": {},
     "output_type": "execute_result"
    }
   ],
   "source": [
    "max_sum"
   ]
  },
  {
   "cell_type": "code",
   "execution_count": 70,
   "metadata": {},
   "outputs": [],
   "source": [
    "matrix=[[1,2,3],[4,5,6],[7,8,9]]"
   ]
  },
  {
   "cell_type": "code",
   "execution_count": 71,
   "metadata": {},
   "outputs": [],
   "source": [
    "max_sum, sum_matrix = max_sum_in_matrix(matrix)"
   ]
  },
  {
   "cell_type": "code",
   "execution_count": 73,
   "metadata": {},
   "outputs": [
    {
     "data": {
      "text/plain": [
       "matrix([[ 1,  3,  6],\n",
       "        [ 5, 10, 16],\n",
       "        [12, 20, 29]])"
      ]
     },
     "execution_count": 73,
     "metadata": {},
     "output_type": "execute_result"
    }
   ],
   "source": [
    "np.matrix(sum_matrix)"
   ]
  },
  {
   "cell_type": "code",
   "execution_count": 78,
   "metadata": {},
   "outputs": [
    {
     "data": {
      "text/plain": [
       "matrix([[10, 10,  3],\n",
       "        [ 4, 10,  6],\n",
       "        [ 7, 10, 10]])"
      ]
     },
     "execution_count": 78,
     "metadata": {},
     "output_type": "execute_result"
    }
   ],
   "source": [
    "np.matrix(matrix)"
   ]
  },
  {
   "cell_type": "markdown",
   "metadata": {},
   "source": [
    "Aquí voy a marcar un claro camino ganador."
   ]
  },
  {
   "cell_type": "code",
   "execution_count": 80,
   "metadata": {},
   "outputs": [],
   "source": [
    "matrix=[[10,10,3,1],\n",
    "        [4,10,6,2],\n",
    "        [7,10,10,3],\n",
    "        [8,7,10,10]]"
   ]
  },
  {
   "cell_type": "code",
   "execution_count": 81,
   "metadata": {},
   "outputs": [],
   "source": [
    "max_sum, sum_matrix = max_sum_in_matrix(matrix)"
   ]
  },
  {
   "cell_type": "code",
   "execution_count": 82,
   "metadata": {},
   "outputs": [
    {
     "data": {
      "text/plain": [
       "matrix([[10, 20, 23, 24],\n",
       "        [14, 30, 36, 38],\n",
       "        [21, 40, 50, 53],\n",
       "        [29, 47, 60, 70]])"
      ]
     },
     "execution_count": 82,
     "metadata": {},
     "output_type": "execute_result"
    }
   ],
   "source": [
    "np.matrix(sum_matrix)"
   ]
  },
  {
   "cell_type": "code",
   "execution_count": 84,
   "metadata": {},
   "outputs": [
    {
     "data": {
      "text/plain": [
       "matrix([[10, 10,  3,  1],\n",
       "        [ 4, 10,  6,  2],\n",
       "        [ 7, 10, 10,  3],\n",
       "        [ 8,  7, 10, 10]])"
      ]
     },
     "execution_count": 84,
     "metadata": {},
     "output_type": "execute_result"
    }
   ],
   "source": [
    "np.matrix(matrix)"
   ]
  },
  {
   "cell_type": "markdown",
   "metadata": {},
   "source": [
    "Cabe señalar que el algoritmo tiene una complejidad de $O(n^2)$ debido al for anidado."
   ]
  },
  {
   "cell_type": "code",
   "execution_count": 85,
   "metadata": {},
   "outputs": [],
   "source": [
    "matrix = [[3,7,9,100,7],\n",
    "          [9,8,3,5,5],\n",
    "         [1,7,9,8,5],\n",
    "         [3,8,6,4,10],\n",
    "         [6,3,9,7,8]]"
   ]
  },
  {
   "cell_type": "code",
   "execution_count": 86,
   "metadata": {},
   "outputs": [],
   "source": [
    "max_sum, sum_matrix = max_sum_in_matrix(matrix)"
   ]
  },
  {
   "cell_type": "code",
   "execution_count": 87,
   "metadata": {},
   "outputs": [
    {
     "data": {
      "text/plain": [
       "matrix([[  3,  10,  19, 119, 126],\n",
       "        [ 12,  20,  23, 124, 131],\n",
       "        [ 13,  27,  36, 132, 137],\n",
       "        [ 16,  35,  42, 136, 147],\n",
       "        [ 22,  38,  51, 143, 155]])"
      ]
     },
     "execution_count": 87,
     "metadata": {},
     "output_type": "execute_result"
    }
   ],
   "source": [
    "np.matrix(sum_matrix)"
   ]
  },
  {
   "cell_type": "code",
   "execution_count": 88,
   "metadata": {},
   "outputs": [
    {
     "data": {
      "text/plain": [
       "matrix([[  3,   7,   9, 100,   7],\n",
       "        [  9,   8,   3,   5,   5],\n",
       "        [  1,   7,   9,   8,   5],\n",
       "        [  3,   8,   6,   4,  10],\n",
       "        [  6,   3,   9,   7,   8]])"
      ]
     },
     "execution_count": 88,
     "metadata": {},
     "output_type": "execute_result"
    }
   ],
   "source": [
    "np.matrix(matrix)"
   ]
  },
  {
   "cell_type": "markdown",
   "metadata": {},
   "source": [
    "Este último ejemplo lo considero útil, pues empecé a pensar que lo que debía hacer era empezar por la esquina izquierda y elegir el número más grande: 9. Luego, a partir de ahí, elegir. el más grande: 8.  \n",
    "* 3,9,8,..."
   ]
  },
  {
   "cell_type": "markdown",
   "metadata": {},
   "source": [
    "Sin embargo, al colocar ese 100, se debe elegir tomar el número más pequeño: 7, para poder llegar al 100, a la respuesta correcta."
   ]
  },
  {
   "cell_type": "markdown",
   "metadata": {},
   "source": [
    "$$\\begin{bmatrix}\n",
    "(3)&(7)&(9)&(100)&7 \\\\\n",
    "9&8&3&(5)&5 \\\\\n",
    "1&7&9&(8)&(5) \\\\\n",
    "3&8&6&4&(10) \\\\\n",
    "6&3&9&7&(8) \\\\\n",
    "\\end{bmatrix}$$\n"
   ]
  },
  {
   "cell_type": "code",
   "execution_count": null,
   "metadata": {},
   "outputs": [],
   "source": []
  },
  {
   "cell_type": "code",
   "execution_count": null,
   "metadata": {},
   "outputs": [],
   "source": []
  },
  {
   "cell_type": "code",
   "execution_count": null,
   "metadata": {},
   "outputs": [],
   "source": []
  }
 ],
 "metadata": {
  "kernelspec": {
   "display_name": "Python 3",
   "language": "python",
   "name": "python3"
  },
  "language_info": {
   "codemirror_mode": {
    "name": "ipython",
    "version": 3
   },
   "file_extension": ".py",
   "mimetype": "text/x-python",
   "name": "python",
   "nbconvert_exporter": "python",
   "pygments_lexer": "ipython3",
   "version": "3.8.3"
  }
 },
 "nbformat": 4,
 "nbformat_minor": 4
}
