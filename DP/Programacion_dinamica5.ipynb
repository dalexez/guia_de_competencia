{
 "cells": [
  {
   "cell_type": "markdown",
   "metadata": {},
   "source": [
    "# La subsecuencia más larga $O(n \\log{n})$"
   ]
  },
  {
   "cell_type": "markdown",
   "metadata": {},
   "source": [
    "Esta respuesta está basanda en el artículo de [GeeksforGeeks](https://www.geeksforgeeks.org/longest-monotonically-increasing-subsequence-size-n-log-n/)."
   ]
  },
  {
   "cell_type": "markdown",
   "metadata": {},
   "source": [
    "Acabo de leer la aplicación y creo que ya puedo resolverlo sin necesidad de ver el código. La respuesta no difiere tanto de mi intento anterior, excepto por un punto fundamental: eliminar listas de la misma longitud.  \n"
   ]
  },
  {
   "cell_type": "markdown",
   "metadata": {},
   "source": [
    "Este paso convierte todo en algo mucho más sencillo, de tal forma que las listas están ordenadas de acuerdo a su longitud y a su número final."
   ]
  },
  {
   "cell_type": "markdown",
   "metadata": {},
   "source": [
    "Modificaré mi algoritmo anterior un poco, el ordenamiento sigue siendo importante para usar búsqueda binaria. Se ordenará de acuerdo al elemento final. Luego, utilizaré búsqueda binaria para encontrar la lista donde pueda agregar el elemento actual al final. \n",
    "* El elemento final de las lista más largas debe ser mayor al elemento final de las listas más cortas.\n",
    "* Si el elmento actual no es mayor a ningún elemento final, se debe crear un nuevo camino para otra posible solución."
   ]
  },
  {
   "cell_type": "code",
   "execution_count": 44,
   "metadata": {},
   "outputs": [],
   "source": [
    "def max_incremental_subarray(array):\n",
    "    #aquí guardaré los subconjuntos incrementales\n",
    "    #f(0) siempre será el primer elemento \n",
    "    #agrego un número lo bastante grande como para que sea ignorado siempre\n",
    "    #sirve de límite para el último elemento\n",
    "    #en una competencia se sabrá el número más grande del array\n",
    "    #entonces sólo debo establecer un número más grande que el límite\n",
    "    f_arrays = [[array[0]],[100000000000000000000]]\n",
    "    \n",
    "    #voy a recorrer toda la lista para encontrar los subarrays\n",
    "    for i in range(1,len(array)):\n",
    "        #en principio, el úncio elemento del subarray es\n",
    "        #el elemento actual\n",
    "        subarray = [array[i]]\n",
    "        #me dirá si empieza una nueva lista\n",
    "        nuevo = True\n",
    "              \n",
    "        ###############################3    \n",
    "        ##Búsqueda binaria\n",
    "        ###############################\n",
    "        a = 0 \n",
    "        b = len(f_arrays)-1\n",
    "        l = range(a,b)\n",
    "        \n",
    "        while(a<=b):\n",
    "            centro = (a+b)//2\n",
    "            x = l[centro] #indice del subarray elegido\n",
    "            #si el siguiente subarray tiene un número final mayor\n",
    "            #entonces estoy en el array posible más largo\n",
    "            if(f_arrays[x][-1]<subarray[0]):\n",
    "                if(f_arrays[x+1][-1]>subarray[0]):\n",
    "                    f_arrays.append(f_arrays[x]+subarray)\n",
    "                    nuevo = False\n",
    "                    #rompo el while\n",
    "                    a=b+100\n",
    "                    #nuevo paso\n",
    "                    #debo eliminar las listas del mismo tamaño\n",
    "                    if(len(f_arrays[x+1])==len(f_arrays[-1])):\n",
    "                        f_arrays.pop(x+1)\n",
    "                else:\n",
    "                    a = centro+1\n",
    "    \n",
    "            else:\n",
    "                b = centro-1                \n",
    "        \n",
    "        if(nuevo):\n",
    "            f_arrays.append(subarray)\n",
    "            #es importante borrar la lista con un elemento\n",
    "            #si encontramos un elemento más bajo \n",
    "            #que pueda generar algo mejor\n",
    "            if(len(f_arrays[0])==1):\n",
    "                f_arrays.pop(0)\n",
    "                \n",
    "        #Ordeno la lista de acuerdo al número final\n",
    "        f_arrays = sorted(f_arrays, key=lambda x:x[-1])\n",
    "        print(f_arrays)\n",
    "        \n",
    "        \n",
    "        \n",
    "    return f_arrays[-2]"
   ]
  },
  {
   "cell_type": "code",
   "execution_count": 36,
   "metadata": {},
   "outputs": [
    {
     "name": "stdout",
     "output_type": "stream",
     "text": [
      "Array [6, 2, 5, 1, 7, 4, 8, 3]\n",
      "Respuesta [2, 5, 7, 8]\n"
     ]
    }
   ],
   "source": [
    "array = [6,2,5,1,7,4,8,3]\n",
    "print(\"Array\", array)\n",
    "print(\"Respuesta\", [2,5,7,8])"
   ]
  },
  {
   "cell_type": "code",
   "execution_count": 37,
   "metadata": {},
   "outputs": [
    {
     "name": "stdout",
     "output_type": "stream",
     "text": [
      "Subarray más largo\n",
      "[[2], [100000000000000000000]]\n",
      "[[2], [2, 5], [100000000000000000000]]\n",
      "[[1], [2, 5], [100000000000000000000]]\n",
      "[[1], [2, 5], [2, 5, 7], [100000000000000000000]]\n",
      "[[1], [1, 4], [2, 5, 7], [100000000000000000000]]\n",
      "[[1], [1, 4], [2, 5, 7], [2, 5, 7, 8], [100000000000000000000]]\n",
      "[[1], [1, 3], [2, 5, 7], [2, 5, 7, 8], [100000000000000000000]]\n",
      "[2, 5, 7, 8]\n",
      "#############################\n"
     ]
    }
   ],
   "source": [
    "print(\"Subarray más largo\")\n",
    "print(max_incremental_subarray(array))\n",
    "print('#############################')"
   ]
  },
  {
   "cell_type": "markdown",
   "metadata": {},
   "source": [
    "Hice muy pocas modificaciones a mi algoritmo anterior. Eso me hace sentir bien, pues parece que no estaba lejos de la respuesta.  \n",
    "Como dije, el secreto era eliminar las listas de la misma longitud. Ahora voy a explicar por qué:"
   ]
  },
  {
   "cell_type": "code",
   "execution_count": 38,
   "metadata": {},
   "outputs": [],
   "source": [
    "sublista1 = [1,3]\n",
    "sublista2 = [1,3,5]"
   ]
  },
  {
   "cell_type": "markdown",
   "metadata": {},
   "source": [
    "Teniendo ambas listas, imaginemos que ingresa el número 4.  \n",
    "De acuerdo al algoritmo, buscaríamos una lista donde pueda entrar el 4, es decir, la siguiente lista termina en un número mayor a 4."
   ]
  },
  {
   "cell_type": "code",
   "execution_count": 39,
   "metadata": {},
   "outputs": [],
   "source": [
    "sublista1 = [1,3]\n",
    "sublista2 = [1,3,5] #----> se debe eliminar\n",
    "sublista3 = [1,3,4]"
   ]
  },
  {
   "cell_type": "markdown",
   "metadata": {},
   "source": [
    "Ahora ambas listas tienen la misma longitud. Se elimina la que ya existía, ya que, por definición del algoritmo, la nueva lista termina en un elemento menor a la ya existente."
   ]
  },
  {
   "cell_type": "markdown",
   "metadata": {},
   "source": [
    "Eliminar las listas de la misma longitud es importante, porque la nueva lista tiene más potencial de ser una lista con más elmentos. Imaginemos que el siguiente elemento es un 5.  \n",
    "Se puede agregar a dos de las listas."
   ]
  },
  {
   "cell_type": "code",
   "execution_count": 40,
   "metadata": {},
   "outputs": [],
   "source": [
    "sublista1 = [1,3,5]\n",
    "sublista2 = [1,3,5] #----> no se puede agregar\n",
    "sublista3 = [1,3,4,5]"
   ]
  },
  {
   "cell_type": "markdown",
   "metadata": {},
   "source": [
    "Entonces, no vale la pena conservar esa lista."
   ]
  },
  {
   "cell_type": "markdown",
   "metadata": {},
   "source": [
    "## Comparación de algoritmos"
   ]
  },
  {
   "cell_type": "markdown",
   "metadata": {},
   "source": [
    "Ahora haré algunas pruebas de validación y luego una de tiempo."
   ]
  },
  {
   "cell_type": "code",
   "execution_count": 45,
   "metadata": {},
   "outputs": [],
   "source": [
    "####################\n",
    "# ALGORITMO O(n2)\n",
    "####################\n",
    "def max_incremental_subarray_o2(array):\n",
    "    #aquí guardaré los subconjuntos incrementales\n",
    "    #f(0) siempre será el primer elemento \n",
    "    f_arrays = [[array[0]]]\n",
    "    #voy a guardar el índice del subarray más largo\n",
    "    max_indx = 0\n",
    "    max_long = 0\n",
    "    #voy a recorrer toda la lista para encontrar los subarrays\n",
    "    for i in range(1,len(array)):\n",
    "        #en principio, el úncio elemento del subarray es\n",
    "        #el elemento actual\n",
    "        subarray = [array[i]]\n",
    "        #voy a buscar en las f(j) inferiores a i\n",
    "        #si encuentro un elmento final menor\n",
    "        for j in range(i):\n",
    "            if(f_arrays[j][-1]<array[i]):\n",
    "                if(len(subarray)<=len(f_arrays[j])):\n",
    "                    subarray = f_arrays[j]+[array[i]]\n",
    "            \n",
    "        #compruebo si este subconjunto es el de mayor longitud       \n",
    "        long_sub = len(subarray)\n",
    "        if(long_sub > max_long):\n",
    "            max_long = long_sub \n",
    "            max_indx = i\n",
    "        f_arrays.append(subarray)\n",
    "        \n",
    "    return f_arrays[max_indx]"
   ]
  },
  {
   "cell_type": "code",
   "execution_count": 46,
   "metadata": {},
   "outputs": [],
   "source": [
    "################33\n",
    "#ALGORITMO n LOG(N)\n",
    "###############\n",
    "def max_incremental_subarray_log(array):\n",
    "    #aquí guardaré los subconjuntos incrementales\n",
    "    #f(0) siempre será el primer elemento \n",
    "    #agrego un número lo bastante grande como para que sea ignorado siempre\n",
    "    #sirve de límite para el último elemento\n",
    "    #en una competencia se sabrá el número más grande del array\n",
    "    #entonces sólo debo establecer un número más grande que el límite\n",
    "    f_arrays = [[array[0]],[100000000000000000000]]\n",
    "    \n",
    "    #voy a recorrer toda la lista para encontrar los subarrays\n",
    "    for i in range(1,len(array)):\n",
    "        #en principio, el úncio elemento del subarray es\n",
    "        #el elemento actual\n",
    "        subarray = [array[i]]\n",
    "        #me dirá si empieza una nueva lista\n",
    "        nuevo = True\n",
    "              \n",
    "        ###############################3    \n",
    "        ##Búsqueda binaria\n",
    "        ###############################\n",
    "        a = 0 \n",
    "        b = len(f_arrays)-1\n",
    "        l = range(a,b)\n",
    "        \n",
    "        while(a<=b):\n",
    "            centro = (a+b)//2\n",
    "            x = l[centro] #indice del subarray elegido\n",
    "            #si el siguiente subarray tiene un número final mayor\n",
    "            #entonces estoy en el array posible más largo\n",
    "            if(f_arrays[x][-1]<subarray[0]):\n",
    "                if(f_arrays[x+1][-1]>subarray[0]):\n",
    "                    f_arrays.append(f_arrays[x]+subarray)\n",
    "                    nuevo = False\n",
    "                    #rompo el while\n",
    "                    a=b+100\n",
    "                    #nuevo paso\n",
    "                    #debo eliminar las listas del mismo tamaño\n",
    "                    if(len(f_arrays[x+1])==len(f_arrays[-1])):\n",
    "                        f_arrays.pop(x+1)\n",
    "                else:\n",
    "                    a = centro+1\n",
    "    \n",
    "            else:\n",
    "                b = centro-1                \n",
    "        \n",
    "        if(nuevo):\n",
    "            f_arrays.append(subarray)\n",
    "            #es importante borrar la lista con un elemento\n",
    "            #si encontramos un elemento más bajo \n",
    "            #que pueda generar algo mejor\n",
    "            if(len(f_arrays[0])==1):\n",
    "                f_arrays.pop(0)\n",
    "                \n",
    "        #Ordeno la lista de acuerdo al número final\n",
    "        f_arrays = sorted(f_arrays, key=lambda x:x[-1])      \n",
    "        \n",
    "        \n",
    "    return f_arrays[-2]"
   ]
  },
  {
   "cell_type": "code",
   "execution_count": 55,
   "metadata": {},
   "outputs": [
    {
     "name": "stdout",
     "output_type": "stream",
     "text": [
      "[23 50  7 19 48 23 82  2 47 42]\n"
     ]
    }
   ],
   "source": [
    "import numpy as np\n",
    "lista=np.random.randint(1,100,10)\n",
    "print(lista)"
   ]
  },
  {
   "cell_type": "code",
   "execution_count": 56,
   "metadata": {},
   "outputs": [
    {
     "data": {
      "text/plain": [
       "[7, 19, 48, 82]"
      ]
     },
     "execution_count": 56,
     "metadata": {},
     "output_type": "execute_result"
    }
   ],
   "source": [
    "max_incremental_subarray_o2(lista)"
   ]
  },
  {
   "cell_type": "code",
   "execution_count": 57,
   "metadata": {},
   "outputs": [
    {
     "data": {
      "text/plain": [
       "[7, 19, 23, 42]"
      ]
     },
     "execution_count": 57,
     "metadata": {},
     "output_type": "execute_result"
    }
   ],
   "source": [
    "max_incremental_subarray_log(lista)"
   ]
  },
  {
   "cell_type": "code",
   "execution_count": 59,
   "metadata": {},
   "outputs": [
    {
     "name": "stdout",
     "output_type": "stream",
     "text": [
      "[88 31 57 72 82 25 63 67 91 81]\n",
      "[31, 57, 72, 82, 91]\n",
      "[31, 57, 63, 67, 81]\n",
      "\n",
      "[27 59 31 85 94 82 15 89 38 15]\n",
      "[27, 59, 85, 94]\n",
      "[27, 31, 82, 89]\n",
      "\n",
      "[53 89  4 19 31 44  1 41 73 65]\n",
      "[4, 19, 31, 44, 73]\n",
      "[4, 19, 31, 41, 65]\n",
      "\n",
      "[12 14 65 74 31  1 37 13  2 10]\n",
      "[12, 14, 65, 74]\n",
      "[12, 14, 31, 37]\n",
      "\n",
      "[56 77 18 33 65 93 90 15  7 54]\n",
      "[18, 33, 65, 93]\n",
      "[18, 33, 65, 90]\n",
      "\n",
      "[78 41 56 15 29  5 49 70 27  8]\n",
      "[15, 29, 49, 70]\n",
      "[15, 29, 49, 70]\n",
      "\n",
      "[27 25 61 98 40 48 86 88 44 31]\n",
      "[27, 40, 48, 86, 88]\n",
      "[25, 40, 48, 86, 88]\n",
      "\n",
      "[87 64 82 10 90 76  5 72 51 19]\n",
      "[64, 82, 90]\n",
      "[64, 82, 90]\n",
      "\n",
      "[35 40 88 83  1  2 61  1  2 45]\n",
      "[35, 40, 88]\n",
      "[1, 2, 61]\n",
      "\n",
      "[34 23 17 30 52 78 49 44 80 54]\n",
      "[23, 30, 52, 78, 80]\n",
      "[17, 30, 52, 78, 80]\n",
      "\n"
     ]
    }
   ],
   "source": [
    "for i in range(10):\n",
    "    lista=np.random.randint(1,100,10)\n",
    "    print(lista)\n",
    "    print(max_incremental_subarray_o2(lista))\n",
    "    print(max_incremental_subarray_log(lista))\n",
    "    print()"
   ]
  },
  {
   "cell_type": "markdown",
   "metadata": {},
   "source": [
    "Es curioso que los algoritmos dan respuestas distintas. El primero se queda con la primera mejor opción que encuentra, el segundo modifica las listas con el potencial de ser mejores.  \n",
    "Sin embargo, la longitud de ambas listas es la misma, así que los algoritmos funcionan bien."
   ]
  },
  {
   "cell_type": "code",
   "execution_count": 60,
   "metadata": {},
   "outputs": [
    {
     "name": "stdout",
     "output_type": "stream",
     "text": [
      "[1, 2, 3, 4, 5, 6, 7, 8, 9]\n",
      "[1, 2, 3, 4, 5, 6, 7, 8, 9]\n"
     ]
    }
   ],
   "source": [
    "lista=[1,2,3,4,5,6,7,8,9]\n",
    "print(max_incremental_subarray_log(lista))\n",
    "print(max_incremental_subarray_o2(lista))"
   ]
  },
  {
   "cell_type": "code",
   "execution_count": 61,
   "metadata": {},
   "outputs": [
    {
     "name": "stdout",
     "output_type": "stream",
     "text": [
      "[1]\n",
      "[1]\n"
     ]
    }
   ],
   "source": [
    "lista=[1,1,1,1,1,1,1,1]\n",
    "print(max_incremental_subarray_log(lista))\n",
    "print(max_incremental_subarray_o2(lista))"
   ]
  },
  {
   "cell_type": "code",
   "execution_count": 67,
   "metadata": {},
   "outputs": [],
   "source": [
    "lista = np.arange(1,1001)"
   ]
  },
  {
   "cell_type": "code",
   "execution_count": 68,
   "metadata": {},
   "outputs": [
    {
     "data": {
      "text/plain": [
       "1000"
      ]
     },
     "execution_count": 68,
     "metadata": {},
     "output_type": "execute_result"
    }
   ],
   "source": [
    "len(lista)"
   ]
  },
  {
   "cell_type": "code",
   "execution_count": 71,
   "metadata": {},
   "outputs": [
    {
     "name": "stdout",
     "output_type": "stream",
     "text": [
      "1000\n",
      "1000\n"
     ]
    }
   ],
   "source": [
    "print(len(max_incremental_subarray_log(lista)))\n",
    "print(len(max_incremental_subarray_o2(lista)))"
   ]
  },
  {
   "cell_type": "markdown",
   "metadata": {},
   "source": [
    "Ahora voy a hacer las pruebas de tiempo"
   ]
  },
  {
   "cell_type": "code",
   "execution_count": 73,
   "metadata": {},
   "outputs": [],
   "source": [
    "import time"
   ]
  },
  {
   "cell_type": "code",
   "execution_count": 76,
   "metadata": {},
   "outputs": [
    {
     "name": "stdout",
     "output_type": "stream",
     "text": [
      "Tiempo de ejecución: 0.16648483276367188\n"
     ]
    }
   ],
   "source": [
    "start = time.time()\n",
    "max_incremental_subarray_log(lista)\n",
    "end = time.time()\n",
    "print(\"Tiempo de ejecución:\",end - start)"
   ]
  },
  {
   "cell_type": "code",
   "execution_count": 77,
   "metadata": {},
   "outputs": [
    {
     "name": "stdout",
     "output_type": "stream",
     "text": [
      "Tiempo de ejecución: 1.4843838214874268\n"
     ]
    }
   ],
   "source": [
    "start = time.time()\n",
    "max_incremental_subarray_o2(lista)\n",
    "end = time.time()\n",
    "print(\"Tiempo de ejecución:\",end - start)"
   ]
  },
  {
   "cell_type": "code",
   "execution_count": 102,
   "metadata": {},
   "outputs": [
    {
     "name": "stdout",
     "output_type": "stream",
     "text": [
      "longitud de la lista\n",
      "1000\n",
      "Tiempo de ejecución nlog(n): 0.15059304237365723\n",
      "Tiempo de ejecución o2 0.9909086227416992\n",
      "\n",
      "longitud de la lista\n",
      "1100\n",
      "Tiempo de ejecución nlog(n): 0.6009197235107422\n",
      "Tiempo de ejecución o2 1.2363364696502686\n",
      "\n",
      "longitud de la lista\n",
      "1200\n",
      "Tiempo de ejecución nlog(n): 0.13814687728881836\n",
      "Tiempo de ejecución o2 1.4960925579071045\n",
      "\n",
      "longitud de la lista\n",
      "1300\n",
      "Tiempo de ejecución nlog(n): 0.15554046630859375\n",
      "Tiempo de ejecución o2 1.8223145008087158\n",
      "\n",
      "longitud de la lista\n",
      "1400\n",
      "Tiempo de ejecución nlog(n): 0.18355059623718262\n",
      "Tiempo de ejecución o2 2.241605520248413\n",
      "\n",
      "longitud de la lista\n",
      "1500\n",
      "Tiempo de ejecución nlog(n): 0.21793818473815918\n",
      "Tiempo de ejecución o2 2.647033452987671\n",
      "\n",
      "longitud de la lista\n",
      "1600\n",
      "Tiempo de ejecución nlog(n): 0.2563197612762451\n",
      "Tiempo de ejecución o2 3.2153220176696777\n",
      "\n",
      "longitud de la lista\n",
      "1700\n",
      "Tiempo de ejecución nlog(n): 0.2612032890319824\n",
      "Tiempo de ejecución o2 3.737203359603882\n",
      "\n",
      "longitud de la lista\n",
      "1800\n",
      "Tiempo de ejecución nlog(n): 0.2882552146911621\n",
      "Tiempo de ejecución o2 4.381029367446899\n",
      "\n",
      "longitud de la lista\n",
      "1900\n",
      "Tiempo de ejecución nlog(n): 0.34303998947143555\n",
      "Tiempo de ejecución o2 5.1419899463653564\n",
      "\n",
      "longitud de la lista\n",
      "2000\n",
      "Tiempo de ejecución nlog(n): 0.37210869789123535\n",
      "Tiempo de ejecución o2 5.869099378585815\n",
      "\n"
     ]
    }
   ],
   "source": [
    "last_num = 1000\n",
    "for i in range(11):\n",
    "    print(\"longitud de la lista\")\n",
    "    print(last_num)\n",
    "    lista = np.arange(last_num)\n",
    "    \n",
    "    start = time.time()\n",
    "    max_incremental_subarray_log(lista)\n",
    "    end = time.time()\n",
    "    print(\"Tiempo de ejecución nlog(n):\",end - start)\n",
    "    \n",
    "    start = time.time()\n",
    "    max_incremental_subarray_o2(lista)\n",
    "    end = time.time()\n",
    "    print(\"Tiempo de ejecución o2\",end - start)\n",
    "    last_num+=100\n",
    "    \n",
    "    print()"
   ]
  },
  {
   "cell_type": "markdown",
   "metadata": {},
   "source": [
    "Tuve que detener la ejecución porque la complejidad $O(N^2)$ tarda demasiado."
   ]
  },
  {
   "cell_type": "code",
   "execution_count": 104,
   "metadata": {},
   "outputs": [],
   "source": [
    "lista = np.arange(1000)\n",
    "tiempo_nlog = 0\n",
    "tiempo_o2 = 0"
   ]
  },
  {
   "cell_type": "code",
   "execution_count": 108,
   "metadata": {},
   "outputs": [],
   "source": [
    "for i in range(10):\n",
    "    start = time.time()\n",
    "    max_incremental_subarray_log(lista)\n",
    "    end = time.time()\n",
    "    tiempo_nlog += end - start\n",
    "    \n",
    "    start = time.time()\n",
    "    max_incremental_subarray_o2(lista)\n",
    "    end = time.time()\n",
    "    tiempo_o2 += end - start"
   ]
  },
  {
   "cell_type": "code",
   "execution_count": 109,
   "metadata": {},
   "outputs": [
    {
     "name": "stdout",
     "output_type": "stream",
     "text": [
      "Tiempo promedio nlog(n):  0.21974802017211914\n"
     ]
    }
   ],
   "source": [
    "print(\"Tiempo promedio nlog(n): \",tiempo_nlog/10)"
   ]
  },
  {
   "cell_type": "code",
   "execution_count": 110,
   "metadata": {},
   "outputs": [
    {
     "name": "stdout",
     "output_type": "stream",
     "text": [
      "Tiempo promedio o2:  1.9354854345321655\n"
     ]
    }
   ],
   "source": [
    "print(\"Tiempo promedio o2: \",tiempo_o2/10)"
   ]
  },
  {
   "cell_type": "markdown",
   "metadata": {},
   "source": [
    "El tiempo promedio demuestra la eficiencia del segundo algoritmo. Sobre todo en números más grandes, como se muestra arriba.  \n"
   ]
  },
  {
   "cell_type": "code",
   "execution_count": null,
   "metadata": {},
   "outputs": [],
   "source": []
  }
 ],
 "metadata": {
  "kernelspec": {
   "display_name": "Python 3",
   "language": "python",
   "name": "python3"
  },
  "language_info": {
   "codemirror_mode": {
    "name": "ipython",
    "version": 3
   },
   "file_extension": ".py",
   "mimetype": "text/x-python",
   "name": "python",
   "nbconvert_exporter": "python",
   "pygments_lexer": "ipython3",
   "version": "3.6.5"
  }
 },
 "nbformat": 4,
 "nbformat_minor": 2
}
