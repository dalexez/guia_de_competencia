{
 "cells": [
  {
   "cell_type": "markdown",
   "metadata": {},
   "source": [
    "# La subsecuencia más larga (Error)"
   ]
  },
  {
   "cell_type": "markdown",
   "metadata": {},
   "source": [
    "Continuando con el problema del notebook anterior, hoy voy a intentar reducir la complejidad del problema utilizando dos algoritmos de complejidad $O(\\log{N}$)"
   ]
  },
  {
   "cell_type": "markdown",
   "metadata": {},
   "source": [
    "Finalmente haré unas pruebas de velocidad para comprobar el funcionamiento."
   ]
  },
  {
   "cell_type": "code",
   "execution_count": 2,
   "metadata": {},
   "outputs": [
    {
     "name": "stdout",
     "output_type": "stream",
     "text": [
      "Array [6, 2, 5, 1, 7, 4, 8, 3]\n",
      "Respuesta [2, 5, 7, 8]\n"
     ]
    }
   ],
   "source": [
    "array = [6,2,5,1,7,4,8,3]\n",
    "print(\"Array\", array)\n",
    "print(\"Respuesta\", [2,5,7,8])"
   ]
  },
  {
   "cell_type": "markdown",
   "metadata": {},
   "source": [
    "## Solución modificada\n",
    "En lugar del for anidado, primero [**ordenaré**](https://github.com/danielTeniente/guia_de_competencia/blob/master/Tema%204%20-%20Ordenar%20listas/Ordenar_listas.ipynb) la matriz f_arrays de acuerdo a al número final de los subarrays y luego de acuerdo a su longitud. Lo que quiero hacer es encontrar la lista más larga donde pueda ingresar el elemento actual.  \n",
    "Finalmente, usaré [**búsqueda binaria**](https://github.com/danielTeniente/guia_de_competencia/blob/master/Tema%205%20-%20Busqueda%20binaria/BinarySearch.ipynb) para encontrar esa lista lo más rápido posible."
   ]
  },
  {
   "cell_type": "code",
   "execution_count": 34,
   "metadata": {},
   "outputs": [],
   "source": [
    "def max_incremental_subarray(array):\n",
    "    #aquí guardaré los subconjuntos incrementales\n",
    "    #f(0) siempre será el primer elemento \n",
    "    #agrego un número lo bastante grande como para que sea ignorado siempre\n",
    "    #sirve de límite para el último elemento\n",
    "    #en una competencia se sabrá el número más grande del array\n",
    "    #entonces sólo debo establecer un número más grande que el límite\n",
    "    f_arrays = [[array[0]],[100000000000000000000]]\n",
    "    #voy a guardar el índice del subarray más largo\n",
    "    max_indx = 0\n",
    "    max_long = 0\n",
    "    #voy a recorrer toda la lista para encontrar los subarrays\n",
    "    for i in range(1,len(array)):\n",
    "        #en principio, el úncio elemento del subarray es\n",
    "        #el elemento actual\n",
    "        subarray = [array[i]]\n",
    "\n",
    "        #Ordeno la lista de acuerdo a dos criterios\n",
    "        f_arrays = sorted(f_arrays, key=lambda x: (x[-1],len(x)))\n",
    "        \n",
    "        print(f_arrays)\n",
    "        \n",
    "        ###############################3    \n",
    "        ##Búsqueda binaria\n",
    "        ###############################\n",
    "        a = 0 #sé que es falso\n",
    "        b = len(f_arrays)-1\n",
    "        l = range(a,b)\n",
    "        #me dirá si el subarray empieza una nueva secuencia ascendente\n",
    "        nuevo = True\n",
    "        \n",
    "        print(f_arrays)\n",
    "        while(a<=b):\n",
    "            \n",
    "            centro = (a+b)//2\n",
    "            x = l[centro] #indice del subarray elegido\n",
    "            #si el siguiente subarray tiene un número final mayor\n",
    "            #entonces estoy en el array posible más largo\n",
    "            if(f_arrays[x][-1]<subarray[0]):\n",
    "                if(f_arrays[x+1][-1]>subarray[0]):\n",
    "                    f_arrays.append(f_arrays[x]+subarray)\n",
    "                    nuevo = False\n",
    "                    #rompo el while\n",
    "                    a=b+100\n",
    "                else:\n",
    "                    a = centro+1\n",
    "    \n",
    "            else:\n",
    "                b = centro-1                \n",
    "        \n",
    "        if(nuevo):\n",
    "            f_arrays.append(subarray)\n",
    "        \n",
    "        \n",
    "    return max(f_arrays, key=lambda x:len(x))"
   ]
  },
  {
   "cell_type": "code",
   "execution_count": 24,
   "metadata": {},
   "outputs": [],
   "source": [
    "f_arrays = [[2,5,6],[1,2,3,4,4,4,5],[5,5,5]]\n",
    "sorted_array = sorted(f_arrays, key=lambda x: (x[-1],len(x)))\n"
   ]
  },
  {
   "cell_type": "code",
   "execution_count": 25,
   "metadata": {},
   "outputs": [
    {
     "data": {
      "text/plain": [
       "[[5, 5, 5], [1, 2, 3, 4, 4, 4, 5], [2, 5, 6]]"
      ]
     },
     "execution_count": 25,
     "metadata": {},
     "output_type": "execute_result"
    }
   ],
   "source": [
    "sorted_array"
   ]
  },
  {
   "cell_type": "code",
   "execution_count": 35,
   "metadata": {},
   "outputs": [
    {
     "name": "stdout",
     "output_type": "stream",
     "text": [
      "Subarray más largo\n",
      "[[6], [100000000000000000000]]\n",
      "[[6], [100000000000000000000]]\n",
      "[[2], [6], [100000000000000000000]]\n",
      "[[2], [6], [100000000000000000000]]\n",
      "[[2], [2, 5], [6], [100000000000000000000]]\n",
      "[[2], [2, 5], [6], [100000000000000000000]]\n",
      "[[1], [2], [2, 5], [6], [100000000000000000000]]\n",
      "[[1], [2], [2, 5], [6], [100000000000000000000]]\n",
      "[[1], [2], [2, 5], [6], [6, 7], [100000000000000000000]]\n",
      "[[1], [2], [2, 5], [6], [6, 7], [100000000000000000000]]\n",
      "[[1], [2], [2, 4], [2, 5], [6], [6, 7], [100000000000000000000]]\n",
      "[[1], [2], [2, 4], [2, 5], [6], [6, 7], [100000000000000000000]]\n",
      "[[1], [2], [2, 4], [2, 5], [6], [6, 7], [6, 7, 8], [100000000000000000000]]\n",
      "[[1], [2], [2, 4], [2, 5], [6], [6, 7], [6, 7, 8], [100000000000000000000]]\n",
      "[6, 7, 8]\n",
      "#############################\n"
     ]
    }
   ],
   "source": [
    "print(\"Subarray más largo\")\n",
    "print(max_incremental_subarray(array))\n",
    "print('#############################')"
   ]
  },
  {
   "cell_type": "markdown",
   "metadata": {},
   "source": [
    "Aquí ocurrió un error terrible, asumí que encontrar el número final más grande era garantía de encontrar la mejor subsecuencia. Eso no es cierto.  \n",
    "\n",
    "Podemos ver que en lugar de agregar el 7 a la secuencia [2,5], agregó el número a la secuencia [6,], este algoritmo ilustra la falla de pensamiento que puede ocurrirle a cualquiera de nosotros."
   ]
  },
  {
   "cell_type": "markdown",
   "metadata": {},
   "source": [
    "Por ello dejaré este fracaso en el manual, ahora que ya he demostrado mis intentos buscaré la respuesta para explicarla en el siguiente notebook."
   ]
  },
  {
   "cell_type": "code",
   "execution_count": null,
   "metadata": {},
   "outputs": [],
   "source": []
  }
 ],
 "metadata": {
  "kernelspec": {
   "display_name": "Python 3",
   "language": "python",
   "name": "python3"
  },
  "language_info": {
   "codemirror_mode": {
    "name": "ipython",
    "version": 3
   },
   "file_extension": ".py",
   "mimetype": "text/x-python",
   "name": "python",
   "nbconvert_exporter": "python",
   "pygments_lexer": "ipython3",
   "version": "3.6.5"
  }
 },
 "nbformat": 4,
 "nbformat_minor": 2
}
