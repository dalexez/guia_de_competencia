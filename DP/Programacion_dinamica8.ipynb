{
 "cells": [
  {
   "cell_type": "markdown",
   "metadata": {},
   "source": [
    "# Viajes del asensor"
   ]
  },
  {
   "cell_type": "markdown",
   "metadata": {},
   "source": [
    "El siguiente problema consiste en encontrar el número mínimo de viajes que debe realizar un ascensor para llevar a N personas al último piso. El ascensor sólo soporta un peso `Wmax` y la entrada consiste en una lista de personas $\\{w_0,w_1,...,w_n\\}$ que representa el peso de cada persona."
   ]
  },
  {
   "cell_type": "markdown",
   "metadata": {},
   "source": [
    "## Permutaciones\n",
    "El problema se puede resolver encontrando todas las formas de combinar el peso de casa pasajero con el peso de los demás. Esta aproximación tendría una complejidad de $O(n!n)$. Pero la función factorial crece a una velocidad increíble."
   ]
  },
  {
   "cell_type": "markdown",
   "metadata": {},
   "source": [
    "## Subconjuntos\n",
    "Existe otra forma de atacar el problema que consiste en probar todos los subconjuntos de la lista de pasajeros. Esto se diferencia a la aproximación anterior en el hecho de que los subconjuntos se prueban una sola vez. Si permutamos a través de todas las posibilidades, van a haber subconjuntos repetidos."
   ]
  },
  {
   "cell_type": "markdown",
   "metadata": {},
   "source": [
    "$pasajeros = \\{1,2,3,4\\}$  \n",
    "\n",
    "Permutación del pasajero 1:\n",
    "* 1\n",
    "* 1 2\n",
    "* 1 3\n",
    "* 1 2 3\n",
    "* ...  \n",
    "\n",
    "Permutación del pasajero 2:\n",
    "* 2\n",
    "* 2 1\n",
    "* 2 3\n",
    "* 2 1 3\n",
    "  \n",
    "El subconjunto $\\{1,2,3\\}$ sólo se registraría una vez y este punto de vista maneja una complejidad de $O(n^2n)$"
   ]
  },
  {
   "cell_type": "code",
   "execution_count": 1,
   "metadata": {},
   "outputs": [],
   "source": [
    "import matplotlib.pyplot as plt"
   ]
  },
  {
   "cell_type": "markdown",
   "metadata": {},
   "source": [
    "Quiero mostrar el crecimiento de ambos puntos de vista para mostrar la diferencia de rendimiento. Voy a declarar ambas funciones de complejidad."
   ]
  },
  {
   "cell_type": "code",
   "execution_count": 9,
   "metadata": {},
   "outputs": [],
   "source": [
    "def permutaciones_aprox(x):\n",
    "    y = 1\n",
    "    for i in range(1,x):\n",
    "        y *= x\n",
    "    return y*x"
   ]
  },
  {
   "cell_type": "code",
   "execution_count": 10,
   "metadata": {},
   "outputs": [],
   "source": [
    "def subconjuntos_aprox(x):\n",
    "    return x**2*x"
   ]
  },
  {
   "cell_type": "code",
   "execution_count": 21,
   "metadata": {},
   "outputs": [
    {
     "data": {
      "text/plain": [
       "[<matplotlib.lines.Line2D at 0x1aa46277610>]"
      ]
     },
     "execution_count": 21,
     "metadata": {},
     "output_type": "execute_result"
    },
    {
     "data": {
      "image/png": "[encoded data removed]",
      "text/plain": [
       "<Figure size 432x288 with 1 Axes>"
      ]
     },
     "metadata": {
      "needs_background": "light"
     },
     "output_type": "display_data"
    }
   ],
   "source": [
    "n = range(5)\n",
    "#Y mayúscula para referirme al vector\n",
    "Y_permutaciones = []\n",
    "Y_subconjuntos = []\n",
    "for x in n:\n",
    "    Y_permutaciones.append(permutaciones_aprox(x))\n",
    "    Y_subconjuntos.append(subconjuntos_aprox(x))\n",
    "plt.plot(Y_permutaciones,'red')\n",
    "plt.plot(Y_subconjuntos,'green')"
   ]
  },
  {
   "cell_type": "markdown",
   "metadata": {},
   "source": [
    "En rojo se puede ver el crecimiento explosivo de la función factorial en comparación a la función exponencial."
   ]
  },
  {
   "cell_type": "markdown",
   "metadata": {},
   "source": [
    "## Entendiendo la solución\n",
    "Esta aproximación es un tanto confusa, así que voy a tratar de ser lo más claro posible. Vamos a manejar un \"vector\" binario de longitud n. En realidad no es un vector, será un número entero, para evitar desperdiciar espacio. Pero visualizar el vector binario será muy importante."
   ]
  },
  {
   "cell_type": "markdown",
   "metadata": {},
   "source": [
    "Si tenemos 4 pasajeros tendríamos un vector `[0,0,0,0]`, si usamos un `for` que vaya desde 0 a 15 vamos a iterar sobre distintos subconjuntos. \n",
    "* 1 = `[0,0,0,1]`\n",
    "* 5 = `[0,1,0,1]`\n",
    "* 6 = `[0,1,1,0]`\n",
    "* 15 = `[1,1,1,1]`"
   ]
  },
  {
   "cell_type": "markdown",
   "metadata": {},
   "source": [
    "Cada 1 va a representar al pasajero que subirá en cada ocasión. Sumamos el peso de cada pasajero y vemos si no superan el máximo soportado por el ascensor."
   ]
  },
  {
   "cell_type": "markdown",
   "metadata": {},
   "source": [
    "### Programación dinámica\n",
    "Los pasos para que aplicar un enfoque de programación dinámica son: memoria y recursivida. Las soluciones pequeñas deben ayudar a llegar a grandes soluciones.  \n",
    "En este caso vamos a utilizar un punto de vista donde por cada pasajero, vamos a ver cuál es el número mínimo de viajes que se necesita para llevar todos los pasajeros que están antes de él. Almacenando también el peso del último viaje. De esta forma veremos si el pasajero actual puede subirse al ascensor junto con el peso anterior, o debe realizar un nuevo viaje."
   ]
  },
  {
   "cell_type": "code",
   "execution_count": null,
   "metadata": {},
   "outputs": [],
   "source": []
  }
 ],
 "metadata": {
  "kernelspec": {
   "display_name": "Python 3",
   "language": "python",
   "name": "python3"
  },
  "language_info": {
   "codemirror_mode": {
    "name": "ipython",
    "version": 3
   },
   "file_extension": ".py",
   "mimetype": "text/x-python",
   "name": "python",
   "nbconvert_exporter": "python",
   "pygments_lexer": "ipython3",
   "version": "3.8.5"
  }
 },
 "nbformat": 4,
 "nbformat_minor": 4
}
