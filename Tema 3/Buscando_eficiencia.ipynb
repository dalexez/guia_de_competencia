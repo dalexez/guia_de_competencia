{
 "cells": [
  {
   "cell_type": "markdown",
   "metadata": {},
   "source": [
    "# Buscando Eficiencia"
   ]
  },
  {
   "cell_type": "markdown",
   "metadata": {},
   "source": [
    "Este ejemplo, del libro de competencias, ilustra cómo es posible reducir la complejidad de un algoritmo con el método adecuado. Muchas veces, es cuestión de seguir pensando el problema hasta llegar a una solución eficiente."
   ]
  },
  {
   "cell_type": "markdown",
   "metadata": {},
   "source": [
    "## La suma máxima de una sublista"
   ]
  },
  {
   "cell_type": "markdown",
   "metadata": {},
   "source": [
    "El problema consiste en que, dada una lista de números enteros positivos y negativos, encuentres la suma máxima de una sublista de elementos consecutivos. "
   ]
  },
  {
   "cell_type": "markdown",
   "metadata": {},
   "source": [
    "### Ejemplo:\n",
    "* Lista: -1,2,4-3,5,2,-5,2\n",
    "* Sublista: 2,4,-3,5,2 = 10"
   ]
  },
  {
   "cell_type": "markdown",
   "metadata": {},
   "source": [
    "La sublista del ejemplo es la que obtiene el valor máximo $10$. Si agremas el primer elemento obtienes $9$, y si agregas el siguiente elemento obtienes $5$."
   ]
  },
  {
   "cell_type": "markdown",
   "metadata": {},
   "source": [
    "* Sublista: -1,2,4,-3,5,2 = 9\n",
    "* Sublista: 2,4,-3,5,2,-5 = 5     "
   ]
  },
  {
   "cell_type": "markdown",
   "metadata": {},
   "source": [
    "Entonces, cómo puedes programar un código eficiente para encontrar esta suma."
   ]
  },
  {
   "cell_type": "markdown",
   "metadata": {},
   "source": [
    "### Respuesta intuitiva de fuerza bruta\n",
    "La respuesta más natural sería escribir un algoritmo que genere todas las sublistas posibles de números consecutivos y que comparase la suma de cada sublista para extraer la mayor."
   ]
  },
  {
   "cell_type": "code",
   "execution_count": 48,
   "metadata": {},
   "outputs": [
    {
     "name": "stdout",
     "output_type": "stream",
     "text": [
      "10\n"
     ]
    }
   ],
   "source": [
    "lista = [-1,2,4-3,5,2,-5,2]\n",
    "maximo = 0\n",
    "#i controla el primer elemento \n",
    "for i in range(len(lista)):\n",
    "    #j controla el elemento donde la lista termina\n",
    "    for j in range(i+1,len(lista)):\n",
    "        suma = 0\n",
    "        #se suman los elementos de las sublistas\n",
    "        for k in range(i,j+1):\n",
    "            suma+=lista[k]\n",
    "        #se alamcena la suma máxima\n",
    "        if(maximo<suma):\n",
    "            maximo = suma\n",
    "print(maximo)"
   ]
  },
  {
   "cell_type": "markdown",
   "metadata": {},
   "source": [
    "Este algoritmo contiene 3 ciclos for, por lo cual, su complejidad sería $O(N ^ {3})$. Esto significa que es un algoritmo extremadamente lento. Veamos qué pasa si incremento el número de elementos de la lista."
   ]
  },
  {
   "cell_type": "code",
   "execution_count": 49,
   "metadata": {},
   "outputs": [],
   "source": [
    "lista = [1]*1000 #lista de 1000 elementos"
   ]
  },
  {
   "cell_type": "code",
   "execution_count": 50,
   "metadata": {},
   "outputs": [
    {
     "name": "stdout",
     "output_type": "stream",
     "text": [
      "1000\n"
     ]
    }
   ],
   "source": [
    "maximo = 0\n",
    "#i controla el primer elemento \n",
    "for i in range(len(lista)):\n",
    "    #j controla el elemento donde la lista termina\n",
    "    for j in range(i+1,len(lista)):\n",
    "        suma = 0\n",
    "        #se suman los elementos de las sublistas\n",
    "        for k in range(i,j+1):\n",
    "            suma+=lista[k]\n",
    "        #se alamcena la suma máxima\n",
    "        if(maximo<suma):\n",
    "            maximo = suma\n",
    "print(maximo)\n"
   ]
  },
  {
   "cell_type": "markdown",
   "metadata": {},
   "source": [
    "Con 1000 elementos el algoritmo ya tarda demasiado tiempo en darme la respuesta correcta. Si hacemos los cálculos sabremos que $1000 ^ 3 = 10  ^ 9$. Esto ya lo expliqué en el [grupo de Facebook](https://www.facebook.com/groups/1560758880752426/), pero como regla general, un algoritmo de competencia nunca debe sobrepasar una complejidad de $10 ^ 8$."
   ]
  },
  {
   "cell_type": "markdown",
   "metadata": {},
   "source": [
    "### Respuesta eficiente\n",
    "La forma más eficiente de resolver este problema es considerando el aspecto fundamental del problema. La solución que buscamos es la suma máxima. No la sublista que tiene la suma máxima."
   ]
  },
  {
   "cell_type": "markdown",
   "metadata": {},
   "source": [
    "Entonces, declaramos una variable que constantemente esté sumando los elementos de la lista. Si queremos mantener la suma máxima, entonces tenemos que darnos cuenta de cuándo un elemento negativo resta demasiado. En ese caso, la sublista debe volver a comenzar, limpiamos la variable de la suma y volvemos a empezar. Sin embargo, queremos mantener la suma máxima, así que tenemos otra variable donde se almacenará la suma máxima en cada ocasión."
   ]
  },
  {
   "cell_type": "code",
   "execution_count": 52,
   "metadata": {},
   "outputs": [
    {
     "name": "stdout",
     "output_type": "stream",
     "text": [
      "1000\n"
     ]
    }
   ],
   "source": [
    "suma = 0\n",
    "maximo = 0\n",
    "for i in range(len(lista)):\n",
    "    suma += lista[i]\n",
    "    if(suma<lista[i]):\n",
    "        suma = lista[i]\n",
    "    if(maximo<suma):\n",
    "        maximo = suma\n",
    "print(maximo)"
   ]
  },
  {
   "cell_type": "code",
   "execution_count": 54,
   "metadata": {},
   "outputs": [
    {
     "name": "stdout",
     "output_type": "stream",
     "text": [
      "10\n"
     ]
    }
   ],
   "source": [
    "lista = [-1,2,4-3,5,2,-5,2]\n",
    "suma = 0\n",
    "maximo = 0\n",
    "for i in range(len(lista)):\n",
    "    suma += lista[i] #suma constantemente los elementos de las sublistas\n",
    "    if(suma<lista[i]):\n",
    "        suma = lista[i] #se crea una nueva sublista\n",
    "    if(maximo<suma):\n",
    "        maximo = suma #se almacena la suma máxima\n",
    "print(maximo)"
   ]
  },
  {
   "cell_type": "code",
   "execution_count": null,
   "metadata": {},
   "outputs": [],
   "source": []
  }
 ],
 "metadata": {
  "kernelspec": {
   "display_name": "Python 3",
   "language": "python",
   "name": "python3"
  },
  "language_info": {
   "codemirror_mode": {
    "name": "ipython",
    "version": 3
   },
   "file_extension": ".py",
   "mimetype": "text/x-python",
   "name": "python",
   "nbconvert_exporter": "python",
   "pygments_lexer": "ipython3",
   "version": "3.6.5"
  }
 },
 "nbformat": 4,
 "nbformat_minor": 2
}
