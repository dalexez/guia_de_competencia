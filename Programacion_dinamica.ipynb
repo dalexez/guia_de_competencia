{
 "cells": [
  {
   "cell_type": "markdown",
   "metadata": {},
   "source": [
    "# Programación dinámica"
   ]
  },
  {
   "cell_type": "markdown",
   "metadata": {},
   "source": [
    "Sé, desde hace un largo tiempo, que la programación dinámica es un tema importante para las competencias de programación. Sin embargo, nunca llegué a entender el tema y hoy voy a tratar de profundizar en él a medida que explico la solución ofrecida en el libro."
   ]
  },
  {
   "cell_type": "markdown",
   "metadata": {},
   "source": [
    "## Claves de la programación dinámica:\n",
    "Al parecer hay dos claves para encontrar y elaborar un algoritmo de programación dinámica.\n",
    "* Subproblemas / recursividad\n",
    "* Memoria\n"
   ]
  },
  {
   "cell_type": "markdown",
   "metadata": {},
   "source": [
    "Al momento de resolver un problema debes preguntarte si puedes encontrar la solución a través de resolver un problema más pequeño repetidas veces. Para ser sincero, esto me recuerda mucho a la solución [Greedy](https://es.wikipedia.org/wiki/Algoritmo_voraz), en este tipo de soluciones tomas una decisión eficaz una y otra vez esperando que esto resuelva el problema. Curiosamente hoy trataremos un problema que falla al aplicar soluciones Greedy."
   ]
  },
  {
   "cell_type": "markdown",
   "metadata": {},
   "source": [
    "Como ya dije, nunca interioricé programación dinámica, pero creo que puedo explicar la solución de este problema."
   ]
  },
  {
   "cell_type": "markdown",
   "metadata": {},
   "source": [
    "### Dar un cambio con el mínimo número de monedas\n",
    "El problema consiste en dar un cambio usando el mínimo número de monedas. Si usamos las monedas clásicas del dolar: [1, 5, 10, 25, 50], es relativamente fácil obtener una solución usando Greedy."
   ]
  },
  {
   "cell_type": "code",
   "execution_count": 11,
   "metadata": {},
   "outputs": [
    {
     "name": "stdout",
     "output_type": "stream",
     "text": [
      "[50, 25, 5]\n"
     ]
    }
   ],
   "source": [
    "monedas = [1,5,10,25,50]\n",
    "cambio = 80\n",
    "min_monedas = []\n",
    "while(cambio>0):\n",
    "    for i in range(len(monedas)-1,-1,-1):\n",
    "        if(monedas[i]<=cambio):\n",
    "            min_monedas.append(monedas[i])\n",
    "            cambio -= monedas[i]\n",
    "            break\n",
    "print(min_monedas)"
   ]
  },
  {
   "cell_type": "code",
   "execution_count": 13,
   "metadata": {},
   "outputs": [
    {
     "name": "stdout",
     "output_type": "stream",
     "text": [
      "[25, 10, 10]\n"
     ]
    }
   ],
   "source": [
    "monedas = [1,5,10,25,50]\n",
    "cambio = 45\n",
    "min_monedas = []\n",
    "while(cambio>0):\n",
    "    for i in range(len(monedas)-1,-1,-1):\n",
    "        if(monedas[i]<=cambio):\n",
    "            min_monedas.append(monedas[i])\n",
    "            cambio -= monedas[i]\n",
    "            break\n",
    "print(min_monedas)"
   ]
  },
  {
   "cell_type": "markdown",
   "metadata": {},
   "source": [
    "En los ejemplos de arriba podemos ver que la solución Greedy funciona. Simplemente usamos la moneda más grande que podamos tomar, una y otra vez. En el primer ejemplo queremos un cambio de 80 centavos. Entonces, ponemos una moneda de 50, nos sobra 30, ponemos una moneda de 25 y una de 5. La respuesta es: $50,25,5$."
   ]
  },
  {
   "cell_type": "markdown",
   "metadata": {},
   "source": [
    "Tomamos la decisión de elegir la moneda más grande una y otra vez, eso caracteriza a Greedy. Sin embargo, esta solución falla si usamos otras monedas."
   ]
  },
  {
   "cell_type": "code",
   "execution_count": 14,
   "metadata": {},
   "outputs": [
    {
     "name": "stdout",
     "output_type": "stream",
     "text": [
      "[4, 1, 1]\n"
     ]
    }
   ],
   "source": [
    "monedas = [1,3,4]\n",
    "cambio = 6\n",
    "min_monedas = []\n",
    "while(cambio>0):\n",
    "    for i in range(len(monedas)-1,-1,-1):\n",
    "        if(monedas[i]<=cambio):\n",
    "            min_monedas.append(monedas[i])\n",
    "            cambio -= monedas[i]\n",
    "            break\n",
    "print(min_monedas)"
   ]
  },
  {
   "cell_type": "markdown",
   "metadata": {},
   "source": [
    "Greedy me dice que el mínimo número de monedas es 3: $4,1,1$. Esto está mal, la respuesta correcta es: $3,3$. Entonces, cómo podemos hacer para encontrar el mínimo número de monedas."
   ]
  },
  {
   "cell_type": "markdown",
   "metadata": {},
   "source": [
    "### Resolviendo subproblemas\n",
    "El análisis que se lleva en el libro es el siguiente, primero identificamos el problemas con una función: $f(x)$. Para esta función analizamos las soluciones de valores pequeños.\n",
    "* monedas = [1,3,4]\n",
    "* f(0) = 0\n",
    "* f(1) = 1 [1]\n",
    "* f(2) = 2 [1,1]\n",
    "* f(3) = 1 [3]\n",
    "* f(4) = 1 [4]\n",
    "* f(5) = 2 [1,4]\n",
    "* f(6) = 2 [3,3]\n",
    "* f(7) = 2 [3,4]\n",
    "* f(8) = 2 [4,4]"
   ]
  },
  {
   "cell_type": "markdown",
   "metadata": {},
   "source": [
    "Aquí la cosa se pone más imaginativa, porque el libro nos dice que deberíamos ser capaces de encontrar un patrón de recursividad al ver estas respuestas. De alguna forma, la solución de $f(x)$ depende de soluciones anteriores. Por ejemplo, $f(7)$ depende de $f(4)$. EL libro hace un gran salto y nos dice que el secreto está en que cada solución depende de la primera moneda que elijas."
   ]
  },
  {
   "cell_type": "markdown",
   "metadata": {},
   "source": [
    "En $f(7)$, si eliges empezar con una moneda de $3$, debes obtener la solución de $1+f(7-3)$. Quitas $3$ del cambio por  la moneda que ya elegiste y sumas $1$ por la misma razón, ya estás usando una moneda.  \n",
    "$f(7)=1+f(4) = 1+1=2$"
   ]
  },
  {
   "cell_type": "markdown",
   "metadata": {},
   "source": [
    "Entonces, acabamoos de encontrar un subporblema que puede resolverse de forma recursiva. Debemos resolver $f(x) = 1+f(x-m)$. La función se llama a sí misma, pero con un valor inferior de acuerdo a la moneda con la que decidamos empezar."
   ]
  },
  {
   "cell_type": "markdown",
   "metadata": {},
   "source": [
    "### Ganando eficiencia con memoria\n",
    "Ahora que ya encontramos la solución recursiva, debemos hacer que el algoritmo sea más eficiente. En un concurso de programación hay miles de casos de prueba. Si debes resolver una función recursiva una y otra vez, el algoritmo es muy lento. Así que, para evitar ejecutar la misma acción una y otra vez, almacenamos los valores de las funciones menores que ya hemos resuelto. El primer valor a almacenar sería $f(0)=0$, porque necestias cero monedas para un cambio de 0. Para 1 sería: $f(1)=f(0)+1=0+1=1$. Y cada vez que resolvemos estos problemas vamos almacenando las respuestas para no tener que volver a calcularlas."
   ]
  },
  {
   "cell_type": "code",
   "execution_count": 3,
   "metadata": {},
   "outputs": [
    {
     "name": "stdout",
     "output_type": "stream",
     "text": [
      "[1, 3, 4]\n",
      "3\n",
      "6\n",
      "2\n",
      "3 3 \n",
      "10\n",
      "3\n",
      "3 3 4 \n",
      "7\n",
      "2\n",
      "3 4 \n"
     ]
    }
   ],
   "source": [
    "# solcuión de programación dinámica\n",
    "\n",
    "#asumo que las monedas se dan al inicio del problema\n",
    "monedas = input().split()\n",
    "for i,moneda in enumerate(monedas):\n",
    "    monedas[i] = int(moneda)\n",
    "    \n",
    "print(monedas)\n",
    "\n",
    "#número de casos de prueba\n",
    "T = int(input())\n",
    "print(T) #para que permanezca en el notebook\n",
    "\n",
    "#aquí es importante leer las restricciones del problema\n",
    "#cuál es el valor máximo que puede tomar el cambio\n",
    "#en este caso asumiré que el valor máximo del cambio es 100\n",
    "cambio_maximo = 100\n",
    "\n",
    "#creo una lista llena de 101 para la memoria\n",
    "memoria = [cambio_maximo+1]*(cambio_maximo+1)\n",
    "\n",
    "#Debo almacenar la primera moneda de la solución\n",
    "primera_moneda = [cambio_maximo+1] * (cambio_maximo+1)\n",
    "\n",
    "#genero todas las posibles respuestas hasta f(cambio_máximo)\n",
    "memoria[0] = 0\n",
    "primera_moneda[0] = 0\n",
    "for cambio in range(1,cambio_maximo+1):\n",
    "    for moneda in monedas:\n",
    "        #memoria[cambio] = 101 al empezar\n",
    "        if(cambio-moneda>=0 and (memoria[cambio-moneda]+1<memoria[cambio])):\n",
    "            #aquí esta la solución de subproblemas\n",
    "            memoria[cambio] = memoria[cambio-moneda]+1\n",
    "            primera_moneda[cambio] = moneda\n",
    "\n",
    "#casos de prueba\n",
    "for i in range(T):\n",
    "    cambio = int(input())\n",
    "    print(cambio)\n",
    "    #simplemente debo imrpimir el valor ya calculado\n",
    "    print(memoria[cambio])\n",
    "    \n",
    "    #la primera moneda de cada solución se va restando\n",
    "    while(cambio>0):\n",
    "        print(primera_moneda[cambio],end=' ')\n",
    "        cambio -=  primera_moneda[cambio]\n",
    "    print()\n",
    "    \n",
    "    "
   ]
  },
  {
   "cell_type": "markdown",
   "metadata": {},
   "source": [
    "Usando las monedas [1, 3, 4] este algoritmo es capaz de retornar el número mínimo para $f(6)= 2$ [3, 3], $f(10) = 3$ [3, 3, 4] y $f(7)=2$ [3, 4]"
   ]
  },
  {
   "cell_type": "markdown",
   "metadata": {},
   "source": [
    "Como te abrás dado cuenta, la complejidad de este algoritmo es de $O(N \\times{M})$ siendo N el cambio máximo y M el número de monedas disponibles."
   ]
  },
  {
   "cell_type": "markdown",
   "metadata": {},
   "source": [
    "El secreto de la eficiencia de este algoritmo está en la memoria, ya que por sí solo, $O(N \\times{M})$ no es muy eficiente. Espero que a medida que avancemos en el libro encontremos mejores ejemplos para programción dinámica."
   ]
  },
  {
   "cell_type": "markdown",
   "metadata": {},
   "source": [
    "### La primera moneda\n",
    "Un último asunto que necesito explicar es por qué almaceno la primera moneda. Si tengo la primera moneda entonces puedo repetir el algoritmo $1+f(cambio-moneda)$.  \n",
    "La primera moneda para resolver $f(10)$ es 3, entonces almaceno esa moneda y le resto al cambio. La primera moneda para resolver $f(7)$ es 3, este 3 ya debería estar almacenado y le resto 3 al cambio. Finalmente, la primera y única moneda para resolver f(4) es 4. Así logro imprimir los valores de las monedas usadas para obtener 10 [3, 3, 4]."
   ]
  },
  {
   "cell_type": "code",
   "execution_count": null,
   "metadata": {},
   "outputs": [],
   "source": []
  }
 ],
 "metadata": {
  "kernelspec": {
   "display_name": "Python 3",
   "language": "python",
   "name": "python3"
  },
  "language_info": {
   "codemirror_mode": {
    "name": "ipython",
    "version": 3
   },
   "file_extension": ".py",
   "mimetype": "text/x-python",
   "name": "python",
   "nbconvert_exporter": "python",
   "pygments_lexer": "ipython3",
   "version": "3.6.5"
  }
 },
 "nbformat": 4,
 "nbformat_minor": 2
}
