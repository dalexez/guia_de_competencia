{
 "cells": [
  {
   "cell_type": "markdown",
   "metadata": {},
   "source": [
    "# Una guía para competir"
   ]
  },
  {
   "cell_type": "markdown",
   "metadata": {},
   "source": [
    "Esta serie de notebooks está basada en el libro: \n",
    "* Guide to Competitive Programming: https://link.springer.com/book/10.1007/978-3-319-72547-5  \n"
   ]
  },
  {
   "cell_type": "markdown",
   "metadata": {},
   "source": [
    "El código originalmente se encuentra escrito en C++, decidí volverlo a escribir en python para poder practicar y también porque me da pereza aprender C++ para competir."
   ]
  },
  {
   "cell_type": "markdown",
   "metadata": {},
   "source": [
    "## Algoritmos recursivos"
   ]
  },
  {
   "cell_type": "markdown",
   "metadata": {},
   "source": [
    "\"Un algoritmo recursivo es un algoritmo que expresa la solución de un problema en términos de una llamada a sí mismo. La llamada a sí mismo se conoce como llamada recursiva o recurrente.\"  \n",
    "https://es.wikipedia.org/wiki/Recursi%C3%B3n_(ciencias_de_computaci%C3%B3n)"
   ]
  },
  {
   "cell_type": "markdown",
   "metadata": {},
   "source": [
    "### Permutaciones"
   ]
  },
  {
   "cell_type": "markdown",
   "metadata": {},
   "source": [
    "El siguiente algoritmo obtiene todos las formas posibles de ordenar un conjunto:\n",
    "* Conjunto: a,b,c\n",
    "* Permutaciones: (a,b,c), (a,c,b), (b,a,c), (b,c,a), (c,a,b), (c,b,a). \n",
    "    "
   ]
  },
  {
   "cell_type": "code",
   "execution_count": 17,
   "metadata": {},
   "outputs": [],
   "source": [
    "#variable global, útil para competencias\n",
    "#no recomendado para desarrollo\n",
    "permutaciones = []\n",
    "\n",
    "#listas que recibirá la función\n",
    "conjunto = ['a','b','c']\n",
    "n = len(conjunto)\n",
    "#Array booleano\n",
    "banderas = [False]*n\n",
    "\n",
    "#función recursiva\n",
    "def encontrar_permutacion(n,lista,conjunto,banderas):\n",
    "    if(len(lista)==n):\n",
    "        #retorna\n",
    "        global permutaciones\n",
    "        permutaciones.append(lista.copy())\n",
    "    else:\n",
    "        for i in range(n):\n",
    "            if(banderas[i]):\n",
    "                continue\n",
    "            banderas[i] = True\n",
    "            lista.append(conjunto[i])\n",
    "            encontrar_permutacion(n,lista,conjunto,banderas)\n",
    "            banderas[i] = False\n",
    "            lista.pop(-1)\n",
    "            "
   ]
  },
  {
   "cell_type": "code",
   "execution_count": 18,
   "metadata": {},
   "outputs": [
    {
     "name": "stdout",
     "output_type": "stream",
     "text": [
      "[['a', 'b', 'c'], ['a', 'c', 'b'], ['b', 'a', 'c'], ['b', 'c', 'a'], ['c', 'a', 'b'], ['c', 'b', 'a']]\n"
     ]
    }
   ],
   "source": [
    "encontrar_permutacion(n,[],conjunto,banderas)\n",
    "print(permutaciones)"
   ]
  },
  {
   "cell_type": "markdown",
   "metadata": {},
   "source": [
    "Ahora explicaré el código para poder tener un mayor entendimiento, tanto ustedes como yo.  \n",
    "1. Lo primero que hago es declarar una varibale global, como en el ejercicio anterior, donde colocaré las permutaciones. Esto se utiliza para mayor facilidad.\n",
    "```python\n",
    "####################\n",
    "permutaciones = []\n",
    "###################\n",
    "``` \n",
    "2. Luego, defino algunas variables que enviaré a la función, esto debido a que hacer todas esas variables globles implicaría escribir `global` demasiadas veces como para que valga la pena.\n",
    "```python\n",
    "################################\n",
    "#listas que recibirá la función\n",
    "conjunto = ['a','b','c']\n",
    "n = len(conjunto) #longitud del conjunto\n",
    "#Array booleano\n",
    "banderas = [False]*n\n",
    "###################################33\n",
    "``` \n",
    "3. La función, además, recibirá el parámetro `lista`. Este parámetro me permitirá almacenar cada permutación.\n",
    "```python\n",
    "def encontrar_permutacion(n,lista,conjunto,banderas):\n",
    "```\n",
    "4. Primero, explicaré lo que ocurre en el `else`, debido al orden de ejecución. Espero que puedan seguir mi explicación. Lo primero que se ejecuta es la comprobación de las banderas. Las banderas nos indican si el elemento del conjunto se encuentra o no dentro de la `lista` : `if(banderas[i])`. Si el elemento no se encuentra, entonces lo agregamos: `lista.append(conjunto[i])`. Finalmente, volvemos a llamar a la función: `encontrar_permutacion(n,lista,conjunto,banderas)`.\n",
    "```python\n",
    "    else:\n",
    "        for i in range(n):\n",
    "            if(banderas[i]):\n",
    "                continue\n",
    "            banderas[i] = True\n",
    "            lista.append(conjunto[i])\n",
    "            encontrar_permutacion(n,lista,conjunto,banderas)\n",
    "            banderas[i] = False\n",
    "            lista.pop(-1)        \n",
    "```\n",
    "5. Llegará un momento donde todos los elementos del conjunto se habrán añadido a la `lista`. Entonces pasamos al `if`. En esta parte del código simplemente agregamos la permutación ya completada.\n",
    "```python\n",
    "    if(len(lista)==n):\n",
    "        #retorna\n",
    "        global permutaciones\n",
    "        permutaciones.append(lista.copy())\n",
    "```\n",
    "6. La última parte del `else` es importante, porque cuando una permutación ha terminado, se elimina el último elemento agregado: `lista.pop(-1)`. Si seguimos la secuencia a,b,c; después de agregar la letra \"c\" debemos eliminarla y seguir con la ejecución. Cuando regrese a la ejecución de \"b\", se elimnará esta letra. Sin embargo, gracias a `for i in range(n):`, la letra \"c\" volverá a ser agregada después de \"a\", consiguiendo la siguiente permutación: ['a', 'c', 'b'].\n",
    "```python\n",
    "    else:\n",
    "        for i in range(n):\n",
    "            if(banderas[i]):\n",
    "                continue\n",
    "            banderas[i] = True\n",
    "            lista.append(conjunto[i])\n",
    "            encontrar_permutacion(n,lista,conjunto,banderas)\n",
    "            banderas[i] = False\n",
    "            lista.pop(-1)\n",
    "```"
   ]
  },
  {
   "cell_type": "markdown",
   "metadata": {},
   "source": [
    "Consideraría que si tienes dificultades para entender esta ejecución sólo debes realizar una prubea de escritorio para darte cuenta."
   ]
  },
  {
   "cell_type": "markdown",
   "metadata": {},
   "source": [
    "Por cierto, en el libro se obtenía subconjuntos de una sucesión, pero lo modifiqué un poco para que crease subconjuntos de cualquier tipo de dato."
   ]
  },
  {
   "cell_type": "code",
   "execution_count": 20,
   "metadata": {},
   "outputs": [
    {
     "name": "stdout",
     "output_type": "stream",
     "text": [
      "[[3, 4, 5], [3, 5, 4], [4, 3, 5], [4, 5, 3], [5, 3, 4], [5, 4, 3]]\n"
     ]
    }
   ],
   "source": [
    "permutaciones = []\n",
    "conjunto = [3,4,5]\n",
    "n = len(conjunto)\n",
    "banderas = [False]*n\n",
    "encontrar_permutacion(n,[],conjunto,banderas)\n",
    "print(permutaciones)"
   ]
  },
  {
   "cell_type": "code",
   "execution_count": 22,
   "metadata": {},
   "outputs": [
    {
     "name": "stdout",
     "output_type": "stream",
     "text": [
      "[['hola', 'mundo'], ['mundo', 'hola']]\n"
     ]
    }
   ],
   "source": [
    "permutaciones = []\n",
    "conjunto = [\"hola\",\"mundo\"]\n",
    "n = len(conjunto)\n",
    "banderas = [False]*n\n",
    "encontrar_permutacion(n,[],conjunto,banderas)\n",
    "print(permutaciones)"
   ]
  },
  {
   "cell_type": "code",
   "execution_count": 27,
   "metadata": {},
   "outputs": [
    {
     "name": "stdout",
     "output_type": "stream",
     "text": [
      "[['h', 'o', 'l', 'a'], ['h', 'o', 'a', 'l'], ['h', 'l', 'o', 'a'], ['h', 'l', 'a', 'o'], ['h', 'a', 'o', 'l'], ['h', 'a', 'l', 'o'], ['o', 'h', 'l', 'a'], ['o', 'h', 'a', 'l'], ['o', 'l', 'h', 'a'], ['o', 'l', 'a', 'h'], ['o', 'a', 'h', 'l'], ['o', 'a', 'l', 'h'], ['l', 'h', 'o', 'a'], ['l', 'h', 'a', 'o'], ['l', 'o', 'h', 'a'], ['l', 'o', 'a', 'h'], ['l', 'a', 'h', 'o'], ['l', 'a', 'o', 'h'], ['a', 'h', 'o', 'l'], ['a', 'h', 'l', 'o'], ['a', 'o', 'h', 'l'], ['a', 'o', 'l', 'h'], ['a', 'l', 'h', 'o'], ['a', 'l', 'o', 'h']]\n",
      "Total: 24\n"
     ]
    }
   ],
   "source": [
    "permutaciones = []\n",
    "conjunto = ['h','o','l','a']\n",
    "n = len(conjunto)\n",
    "banderas = [False]*n\n",
    "encontrar_permutacion(n,[],conjunto,banderas)\n",
    "print(permutaciones)\n",
    "print(\"Total:\",len(permutaciones))"
   ]
  },
  {
   "cell_type": "code",
   "execution_count": null,
   "metadata": {},
   "outputs": [],
   "source": []
  }
 ],
 "metadata": {
  "kernelspec": {
   "display_name": "Python 3",
   "language": "python",
   "name": "python3"
  },
  "language_info": {
   "codemirror_mode": {
    "name": "ipython",
    "version": 3
   },
   "file_extension": ".py",
   "mimetype": "text/x-python",
   "name": "python",
   "nbconvert_exporter": "python",
   "pygments_lexer": "ipython3",
   "version": "3.6.5"
  }
 },
 "nbformat": 4,
 "nbformat_minor": 2
}
