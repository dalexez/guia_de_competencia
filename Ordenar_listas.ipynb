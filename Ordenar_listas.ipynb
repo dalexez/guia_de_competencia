{
 "cells": [
  {
   "cell_type": "markdown",
   "metadata": {},
   "source": [
    "# Ordenar listas para resolver problemas más fácilmente"
   ]
  },
  {
   "cell_type": "markdown",
   "metadata": {},
   "source": [
    "## La complejidad de ordenar una lista\n",
    "Durante los primeros semestres, todos, o casi todos, tuvimos que ordenar una lista de números como deber. La opción más fácil para ordenar una lista es utilizar dos `for` y comparar el primer número con todos los demás. Este algoritmo se denomina Bubble Sort.\n"
   ]
  },
  {
   "cell_type": "code",
   "execution_count": 5,
   "metadata": {},
   "outputs": [
    {
     "name": "stdout",
     "output_type": "stream",
     "text": [
      "[1, 2, 3, 4, 5, 6, 6, 7, 8, 9, 9, 23, 25, 45, 87, 100]\n"
     ]
    }
   ],
   "source": [
    "lista = [2,3,4,5,6,1,9,100,23,45,25,6,7,8,9,87]\n",
    "def BubbleSort(listat):\n",
    "    for i in range(len(lista)):\n",
    "        for j in range(i+1,len(lista)):\n",
    "            if(lista[j]<lista[i]):\n",
    "                temporal = lista[j]\n",
    "                lista[j] = lista[i]\n",
    "                lista[i] = temporal\n",
    "    return lista\n",
    "print(BubbleSort(lista))"
   ]
  },
  {
   "cell_type": "markdown",
   "metadata": {},
   "source": [
    "Sin embargo, existe una forma más eficiente de ordenar una lista. Merge Sort consiste en dividir la lista de números a la mitad, y luego esas mitad se dividen nuevamente a la mitad. De tal forma que las comparaciones se reduzcan al mínimo.\n",
    "* lista = [100,23,45]\n",
    "* lista1 = [100,23], lista2 = [45]\n",
    "* lista1-1 = [100], lista1-2 = [23], lista2 = [45]  "
   ]
  },
  {
   "cell_type": "markdown",
   "metadata": {},
   "source": [
    "Se compara el 100 con el 23, luego tienes una lista de dos elementos: [23,100] y creas una nueva lista comparandola con el 45: [23,45,100].  \n",
    "Para notar la diferencia debemos pensar en una lista de 1000 elementos. Bubble sort compara el primer elemento con 999, el segundo elemento con 998, el tercero con 997. Esto consume mucho tiempo de procesamiento:  $O(n2)$.  \n",
    "Merge Sort sólo realiza la comparación del primer elemento contra el segundo, luego contra el tercero y el cuarto, luego contra los siguientes cuatro. Es verdad que el número de comparaciones crece, pero sigue siendo inferior a Bubble Sort: $O(n \\times{log (n)})$."
   ]
  },
  {
   "cell_type": "code",
   "execution_count": 14,
   "metadata": {},
   "outputs": [
    {
     "name": "stdout",
     "output_type": "stream",
     "text": [
      "[1, 2, 3, 4, 5, 6, 6, 7, 8, 9, 9, 23, 25, 45, 87, 100]\n"
     ]
    }
   ],
   "source": [
    "lista = [2,3,4,5,6,1,9,100,23,45,25,6,7,8,9,87]\n",
    "def MergeSort(lista):\n",
    "    if(len(lista)==1):\n",
    "        return lista\n",
    "    else:\n",
    "        centro = len(lista)//2\n",
    "        lista1 = MergeSort(lista[:centro])\n",
    "        lista2 = MergeSort(lista[centro:])\n",
    "        i,j = 0,0\n",
    "        fi,fj = len(lista1),len(lista2)\n",
    "        nueva_lista=[]\n",
    "        while(True):\n",
    "            if(i==fi and j ==fj):\n",
    "                break\n",
    "            if(i==fi):\n",
    "                nueva_lista.append(lista2[j])\n",
    "                j+=1\n",
    "                continue\n",
    "            if(j==fj):\n",
    "                nueva_lista.append(lista1[i])\n",
    "                i+=1\n",
    "                continue\n",
    "            if(lista1[i]<lista2[j]):\n",
    "                nueva_lista.append(lista1[i])\n",
    "                i+=1\n",
    "            else:\n",
    "                nueva_lista.append(lista2[j])\n",
    "                j+=1\n",
    "        return nueva_lista\n",
    "print(MergeSort(lista))\n",
    "            \n",
    "        \n",
    "        \n",
    "        "
   ]
  },
  {
   "cell_type": "markdown",
   "metadata": {},
   "source": [
    "## Prueba de velocidad"
   ]
  },
  {
   "cell_type": "code",
   "execution_count": 62,
   "metadata": {},
   "outputs": [
    {
     "name": "stdout",
     "output_type": "stream",
     "text": [
      "[151 549 319 771 665 757 631 477  86 465]\n"
     ]
    }
   ],
   "source": [
    "import numpy as np\n",
    "lista = np.random.randint(0,1000,10000) # lista de 10000 enteros aleatorios\n",
    "print(lista[:10])"
   ]
  },
  {
   "cell_type": "code",
   "execution_count": 73,
   "metadata": {},
   "outputs": [
    {
     "name": "stdout",
     "output_type": "stream",
     "text": [
      "Tiempo de ejecución: 19.119133949279785\n",
      "[ 9 10 10 10 10 10 11 11 11 11 11 11 11 11 11 12 12 12 12 12]\n"
     ]
    }
   ],
   "source": [
    "import time\n",
    "start = time.time()\n",
    "new_lista = BubbleSort(lista)\n",
    "end = time.time()\n",
    "print(\"Tiempo de ejecución:\",end - start)\n",
    "print(new_lista[100:120])"
   ]
  },
  {
   "cell_type": "code",
   "execution_count": 74,
   "metadata": {},
   "outputs": [
    {
     "name": "stdout",
     "output_type": "stream",
     "text": [
      "Tiempo de ejecución: 0.09985041618347168\n",
      "[9, 10, 10, 10, 10, 10, 11, 11, 11, 11, 11, 11, 11, 11, 11, 12, 12, 12, 12, 12]\n"
     ]
    }
   ],
   "source": [
    "start = time.time()\n",
    "new_lista = MergeSort(lista)\n",
    "end = time.time()\n",
    "print(\"Tiempo de ejecución:\",end - start)\n",
    "print(new_lista[100:120])"
   ]
  },
  {
   "cell_type": "markdown",
   "metadata": {},
   "source": [
    "Si quieren pueden ejecutar ambos algoritmos, la diferencia de tiempo es clara. MergeSort no se demora nada en comparación, menos de un segundo."
   ]
  },
  {
   "cell_type": "markdown",
   "metadata": {},
   "source": [
    "## Usar Sorted de Python"
   ]
  },
  {
   "cell_type": "markdown",
   "metadata": {},
   "source": [
    "Cuando descrubrí este algoritmo yo competía en Java, así que resultó útil. Sin embargo, python ya tiene una función para ordenar elementos de una lista de forma eficiente:"
   ]
  },
  {
   "cell_type": "code",
   "execution_count": 75,
   "metadata": {},
   "outputs": [
    {
     "name": "stdout",
     "output_type": "stream",
     "text": [
      "Tiempo de ejecución: 0.0\n",
      "[9, 10, 10, 10, 10, 10, 11, 11, 11, 11, 11, 11, 11, 11, 11, 12, 12, 12, 12, 12]\n"
     ]
    }
   ],
   "source": [
    "start = time.time()\n",
    "new_lista = sorted(lista)\n",
    "end = time.time()\n",
    "print(\"Tiempo de ejecución:\",end - start)\n",
    "print(new_lista[100:120])"
   ]
  },
  {
   "cell_type": "markdown",
   "metadata": {},
   "source": [
    "Es más eficiente que una implementación propia, así que lo mejor será usar la función propia de python. Lo importante era saber el funcionamiento de este método, si quieren trabajar con microcontroladores, por ejemplo, necesitarán métodos eficientes."
   ]
  },
  {
   "cell_type": "markdown",
   "metadata": {},
   "source": [
    "## Primer problema que se resuelve más fácilmente ordenando una lista"
   ]
  },
  {
   "cell_type": "markdown",
   "metadata": {},
   "source": [
    "Imagina que, dada una lista de números, quieres saber si los elementos son únicos.  \n",
    "Aquí puedes usar una algoritmo similar a BubbleSort y comparar el primer elemento con todos los siguientes, luego el segundo con los elementos restantes y así, un algoritmo muy lento. Lo mejor es utilizar una lista ordenada para reducir la complejidad. Lo único que debes hacer, en una lista ordenada, es comparar cada elemento con el siguiente y nignún otro más."
   ]
  },
  {
   "cell_type": "code",
   "execution_count": 93,
   "metadata": {},
   "outputs": [
    {
     "name": "stdout",
     "output_type": "stream",
     "text": [
      "La lista tiene elementos reptidos\n",
      "La lista no tiene elementos reptidos\n",
      "La lista no tiene elementos reptidos\n",
      "La lista tiene elementos reptidos\n",
      "La lista no tiene elementos reptidos\n",
      "La lista no tiene elementos reptidos\n",
      "La lista no tiene elementos reptidos\n",
      "La lista no tiene elementos reptidos\n",
      "La lista no tiene elementos reptidos\n",
      "La lista tiene elementos reptidos\n"
     ]
    }
   ],
   "source": [
    "for t in range(10):\n",
    "    lista = np.random.randint(0,100,10) #lista de diez elementos aleatorios\n",
    "    lista = sorted(lista)\n",
    "    repetido=False\n",
    "    for i in range(len(lista)-1):\n",
    "        if(lista[i]==lista[i+1]):\n",
    "            repetido=True\n",
    "            break\n",
    "    if(repetido):\n",
    "        print(\"La lista tiene elementos reptidos\")\n",
    "    else:\n",
    "        print(\"La lista no tiene elementos reptidos\")"
   ]
  },
  {
   "cell_type": "markdown",
   "metadata": {},
   "source": [
    "En este problema tenemos complejidad $O(N)$ por el `for` y $O(n \\times{log (n)})$ gracias a Sorted."
   ]
  },
  {
   "cell_type": "code",
   "execution_count": null,
   "metadata": {},
   "outputs": [],
   "source": []
  }
 ],
 "metadata": {
  "kernelspec": {
   "display_name": "Python 3",
   "language": "python",
   "name": "python3"
  },
  "language_info": {
   "codemirror_mode": {
    "name": "ipython",
    "version": 3
   },
   "file_extension": ".py",
   "mimetype": "text/x-python",
   "name": "python",
   "nbconvert_exporter": "python",
   "pygments_lexer": "ipython3",
   "version": "3.6.5"
  }
 },
 "nbformat": 4,
 "nbformat_minor": 2
}
