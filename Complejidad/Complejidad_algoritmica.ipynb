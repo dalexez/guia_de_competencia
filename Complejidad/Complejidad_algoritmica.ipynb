{
 "cells": [
  {
   "cell_type": "markdown",
   "metadata": {},
   "source": [
    "# Complejidad Algorítmica"
   ]
  },
  {
   "cell_type": "markdown",
   "metadata": {},
   "source": [
    "Es curioso que un elemento tan importante no haya sido enseñado en clase. Este concepto forma parte de Computer Science más que de Ingeniería en Sistemas, pero es un concepto fundamental, no sólo para competir, sino también para el desarrollo de programas eficientes.\n"
   ]
  },
  {
   "cell_type": "markdown",
   "metadata": {},
   "source": [
    "La complejidad de un algoritmo se mide de acuerdo a la cantidad de ciclos que ejecuta. Entendiendo un ciclo como el código que se colocaría dentro de una sentencia **For**.  \n"
   ]
  },
  {
   "cell_type": "markdown",
   "metadata": {},
   "source": [
    "La complejidad se representa con la letra $O$\n",
    "Veamos algunos ejemplos:\n",
    "* Un algoritmo que no contenga ciclos `For`, sería de complejidad uno: $O(1)$.\n",
    "* Un algoritmo con un único ciclo `For` sería de complejidad N: $O(N)$. N representa el número máximo de la secuencia.\n",
    "\n"
   ]
  },
  {
   "cell_type": "markdown",
   "metadata": {},
   "source": [
    "Este algoritmo sería de complejidad $O(100)$:"
   ]
  },
  {
   "cell_type": "code",
   "execution_count": 1,
   "metadata": {},
   "outputs": [
    {
     "name": "stdout",
     "output_type": "stream",
     "text": [
      "Me estoy ejecutando...\n",
      "Terminó la ejecución\n"
     ]
    }
   ],
   "source": [
    "for i in range(100):\n",
    "    if(i==1):\n",
    "        print('Me estoy ejecutando...')\n",
    "        \n",
    "print('Terminó la ejecución')"
   ]
  },
  {
   "cell_type": "markdown",
   "metadata": {},
   "source": [
    "* Un algoritmo con un `For` anidado, un `For` dentro de otro `For`, sería de complejidad $N \\times{ M}$, con un máximo de $N^{2}$ si $M = N → O(N ^ 2)$.\n"
   ]
  },
  {
   "cell_type": "markdown",
   "metadata": {},
   "source": [
    "Este algoritmo sería de complejidad $O(10 \\times 10) = O(100)$."
   ]
  },
  {
   "cell_type": "code",
   "execution_count": 8,
   "metadata": {},
   "outputs": [
    {
     "name": "stdout",
     "output_type": "stream",
     "text": [
      "Ejecutando primer for\n",
      "Ejecutando segundo for\n",
      "Ejecutando segundo for\n",
      "Ejecutando segundo for\n",
      "Ejecutando segundo for\n",
      "Ejecutando segundo for\n",
      "Ejecutando segundo for\n",
      "Ejecutando segundo for\n",
      "Ejecutando segundo for\n",
      "Ejecutando segundo for\n",
      "Ejecutando segundo for\n",
      "programa terminado\n"
     ]
    }
   ],
   "source": [
    "for i in range(10):\n",
    "    if(i==1):\n",
    "        print('Ejecutando primer for')\n",
    "    for j in range(10):\n",
    "        if(i==1):\n",
    "            print('Ejecutando segundo for')\n",
    "print('programa terminado')\n",
    "\n"
   ]
  },
  {
   "cell_type": "markdown",
   "metadata": {},
   "source": [
    "Si agregan más ciclos For anidados todo es cuestión de seguir multiplicando.\n",
    "Este algoritmo sería de complejidad $O(5 \\times 10 \\times 15) = O(750)$.\n",
    "\n"
   ]
  },
  {
   "cell_type": "code",
   "execution_count": 12,
   "metadata": {},
   "outputs": [],
   "source": [
    "for i in range(5):\n",
    "    for j in range(10):\n",
    "        for k in range(15):\n",
    "            if(False):\n",
    "                print('Demasiado complejo = demasiado lento')"
   ]
  },
  {
   "cell_type": "markdown",
   "metadata": {},
   "source": [
    "Ahora que ya hemos visto, someramente, de qué va la complejidad de un algoritmo, hablemos de su utilidad en las competencias de programación.\n",
    "\n"
   ]
  },
  {
   "cell_type": "markdown",
   "metadata": {},
   "source": [
    "## Utilidad en competnecias de programación"
   ]
  },
  {
   "cell_type": "markdown",
   "metadata": {},
   "source": [
    "El error más frustrante al que me he enfrentado, en las competencias de programación, es el de Time Limit Exceeded. Conocer la complejidad de tu algorimo será crucial para evitar este error.\n"
   ]
  },
  {
   "cell_type": "markdown",
   "metadata": {},
   "source": [
    "### El tiempo de ejecución máxima: \n",
    "En la mayoría de casos, el tiempo de ejecución máxima será de menos de un segundo. Aunque esto depende del lenguaje de programación que utilices. El lenguaje de programción más óptimo es C++, para aquel al que le interese.  \n",
    "Este límite de tiempo estándar permite una complejidad máxima de $10^{8}$.  \n",
    "Tomen esto en cuenta, si tienen un ciclo `For` que va desde $0$ hasta $10^{10}$, recibirán un error de tiempo límite.  \n",
    "```python\n",
    "#Error de tiempo excedido\n",
    "for i in range(10000000000):\n",
    "```"
   ]
  },
  {
   "cell_type": "markdown",
   "metadata": {},
   "source": [
    "Muy pocos algoritmos permiten más de 10 segundos, pero yo he luchado contra problemas que incluso me daban un límite máximo de 30 segundos. Así que presten atención al límite de tiempo."
   ]
  },
  {
   "cell_type": "markdown",
   "metadata": {},
   "source": [
    "### Valores máximos del problema: \n",
    "Muchas veces, los valores de entrada se traducen a un cilco `For`. Por ejemplo, el problema del factorial.\n",
    "\n"
   ]
  },
  {
   "cell_type": "code",
   "execution_count": 21,
   "metadata": {},
   "outputs": [
    {
     "name": "stdout",
     "output_type": "stream",
     "text": [
      "ciclo  1\n",
      "ciclo  2\n",
      "ciclo  3\n",
      "6\n"
     ]
    }
   ],
   "source": [
    "#Aquí estoy obteniendo el factorial de 3.\n",
    "factorial = 1\n",
    "for i in range(1,4):\n",
    "    print('ciclo ',i)\n",
    "    factorial = i * factorial\n",
    "print(factorial)\n"
   ]
  },
  {
   "cell_type": "code",
   "execution_count": 23,
   "metadata": {},
   "outputs": [
    {
     "name": "stdout",
     "output_type": "stream",
     "text": [
      "ciclo  1\n",
      "ciclo  2\n",
      "ciclo  3\n",
      "ciclo  4\n",
      "ciclo  5\n",
      "ciclo  6\n",
      "ciclo  7\n",
      "ciclo  8\n",
      "ciclo  9\n",
      "ciclo  10\n",
      "3628800\n"
     ]
    }
   ],
   "source": [
    "#Aquí estoy obteniendo el factorial de 10.\n",
    "factorial = 1\n",
    "for i in range(1,11):\n",
    "    print('ciclo ',i)\n",
    "    factorial = i * factorial\n",
    "print(factorial)"
   ]
  },
  {
   "cell_type": "markdown",
   "metadata": {},
   "source": [
    "La entrada es el número cuyo factorial desconozco y, para resolverlo, realizo tantos ciclos como el número de entrada."
   ]
  },
  {
   "cell_type": "markdown",
   "metadata": {},
   "source": [
    "*    Si te dan valores demasiado elevados deberías considerar un algoritmo que no utilice ciclos `For`. A veces todo se traduce a una fórmula matemática.\n"
   ]
  },
  {
   "cell_type": "markdown",
   "metadata": {},
   "source": [
    "Si haces un cálculo aproximado de complejidad y te das cuenta de que, a pesar de tener una complejidad elevada, no supera $10^{8}$, entonces lánzate por ese esa solución.  \n",
    "En las competencias, más vale resolver los problemas rápidamente porque sólo dispones de algunas horas para resolver tantos problemas como sea posible."
   ]
  },
  {
   "cell_type": "code",
   "execution_count": null,
   "metadata": {},
   "outputs": [],
   "source": []
  }
 ],
 "metadata": {
  "kernelspec": {
   "display_name": "Python 3",
   "language": "python",
   "name": "python3"
  },
  "language_info": {
   "codemirror_mode": {
    "name": "ipython",
    "version": 3
   },
   "file_extension": ".py",
   "mimetype": "text/x-python",
   "name": "python",
   "nbconvert_exporter": "python",
   "pygments_lexer": "ipython3",
   "version": "3.6.5"
  }
 },
 "nbformat": 4,
 "nbformat_minor": 2
}
