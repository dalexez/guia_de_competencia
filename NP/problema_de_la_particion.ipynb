{
 "metadata": {
  "language_info": {
   "codemirror_mode": {
    "name": "ipython",
    "version": 3
   },
   "file_extension": ".py",
   "mimetype": "text/x-python",
   "name": "python",
   "nbconvert_exporter": "python",
   "pygments_lexer": "ipython3",
   "version": "3.7.6-final"
  },
  "orig_nbformat": 2,
  "kernelspec": {
   "name": "python3",
   "display_name": "Python 3",
   "language": "python"
  }
 },
 "nbformat": 4,
 "nbformat_minor": 2,
 "cells": [
  {
   "source": [
    "# Problema de la partición\n",
    "## Introducción\n",
    "El problema de la partición consiste en separar una lista de números dados en dos subconjuntos de tal manera que los dos subconjuntos sean lo más balanceados posible."
   ],
   "cell_type": "markdown",
   "metadata": {}
  },
  {
   "source": [
    "## Ejemplo 1\n",
    "Dada la lista de números: $\\{3,2,4,1,2,3,7,4,6\\}$\n",
    "\n",
    "### Encontrar dos listas tal que la diferencia de la suma de cada lista sea menor.\n",
    "\n",
    "Esta lista se puede dividir de varias maneras. Por ejemplo:\n",
    "* $l1=\\{3,2,4,1,2\\}$ y $l2 = \\{6,4,7,3\\}$\n",
    "* $l1=\\{7,4,3,2\\}$ y $l2 = \\{6,4,3,1,2\\}$"
   ],
   "cell_type": "markdown",
   "metadata": {}
  },
  {
   "cell_type": "code",
   "execution_count": 24,
   "metadata": {},
   "outputs": [
    {
     "output_type": "stream",
     "name": "stdout",
     "text": [
      "La diferencia entre l1: [3, 2, 4, 1, 2] y l2: [6, 4, 7, 3] es 8\nLa diferencia entre l1: [7, 4, 3, 2] y l2: [6, 4, 3, 1, 2] es 0\n"
     ]
    }
   ],
   "source": [
    "## tentativas de solución\n",
    "# opción 1\n",
    "l1 = [3,2,4,1,2]\n",
    "l2 = [6,4,7,3]\n",
    "dif = abs(sum(l1) - sum(l2))\n",
    "print('La diferencia entre l1:',l1, 'y l2:',l2, 'es', dif)\n",
    "\n",
    "# opción 2\n",
    "l1 = [7,4,3,2]\n",
    "l2 = [6,4,3,1,2]\n",
    "dif = abs(sum(l1) - sum(l2))\n",
    "print('La diferencia entre l1:',l1, 'y l2:',l2, 'es', dif)"
   ]
  },
  {
   "source": [
    "En este ejemplo, la opción 2 tiene un balance perfecto (i.e. ambas listas tiene la misma suma). Como se puede notar, puede existir más de 1 solución óptima."
   ],
   "cell_type": "markdown",
   "metadata": {}
  },
  {
   "source": [
    "## Ejemplo 2\n",
    "Separe en dos listas los números:$\\{5,6,8,4,7\\}$\n",
    "\n",
    "\n",
    "## Ejemplo 3\n",
    "Separe en dos listas los números: $\\{25,30,35,20,90,110,45,70,80,12,30,35,85\\}$\n",
    "\n",
    "Empezaremos planteando un algoritmo para una solución aproximada (i.e. Algoritmo Karmarkar-Karp) y de ahí procederemos a un algoritmo de solución exacta (i.e. Algoritmo Karmarkar-Karp completo)."
   ],
   "cell_type": "markdown",
   "metadata": {}
  },
  {
   "source": [
    "# Algoritmo de Karmarkar-Karp\n",
    "Este algoritmo provee una buena aproximación para el problema de la partición. Se debe seguir los siguientes pasos:\n",
    "* Ordenar la lista.\n",
    "* Reemplazar los dos mayores números por su diferencia (i.e. poner los números mayores en listas diferentes, se deja pendiente por decidir a qué sublista va cada número).\n",
    "\n",
    "La diferencia final es el único valor sobrante.\n",
    "\n",
    "## Solución del ejemplo 2 con KK\n",
    "<img src=\"KK.jpg\">\n",
    "\n",
    "Siguiendo el proceso de reducción llegamos a una diferencia de 2."
   ],
   "cell_type": "markdown",
   "metadata": {}
  },
  {
   "cell_type": "code",
   "execution_count": 27,
   "metadata": {},
   "outputs": [],
   "source": [
    "## Implementación de KK\n",
    "def Karmarkar_Karp(nums=[]):\n",
    "    ''' Retorna la diferencia mínima. Algoritmo iterativo \n",
    "    ############################################### '''\n",
    "    nums.sort()\n",
    "    \n",
    "    while True:\n",
    "        if len(nums) > 1:\n",
    "            n0 = nums.pop()# num mayor\n",
    "            n1 = nums.pop() # segundo número mayor\n",
    "\n",
    "            nums.append(n0 - n1)\n",
    "            nums.sort()\n",
    "        \n",
    "        elif len(nums) == 1:\n",
    "            return nums[0]            \n",
    "        else:\n",
    "            return 0"
   ]
  },
  {
   "cell_type": "code",
   "execution_count": 30,
   "metadata": {},
   "outputs": [
    {
     "output_type": "stream",
     "name": "stdout",
     "text": [
      "Diferencia es 2\n"
     ]
    }
   ],
   "source": [
    "# Resolviendo ejemplo 2\n",
    "valores = [4, 8, 7, 6, 5]\n",
    "resp = Karmarkar_Karp(valores)\n",
    "print('Diferencia es', resp)"
   ]
  },
  {
   "source": [
    "# Resolviendo ejemplo 3\n",
    "valores = [25,30,35,20,90,110,45,70,80,12,30,35,85]\n",
    "resp = Karmarkar_Karp(valores)\n",
    "print('Diferencia es', resp)"
   ],
   "cell_type": "code",
   "metadata": {},
   "execution_count": 31,
   "outputs": [
    {
     "output_type": "stream",
     "name": "stdout",
     "text": [
      "Diferencia es 7\n"
     ]
    }
   ]
  },
  {
   "source": [
    "## Inconveniente del algoritmo Karmarkar-Karp\n",
    "Utilizar el algoritmo KK no nos asegura la mejor solución. Solo es solución aproximada ya que *asume* que los dos números mayores van en diferentes listas. Para obtener una respuesta exacta se debe utilizar el algoritmo Karmarkar-Karp Completo."
   ],
   "cell_type": "markdown",
   "metadata": {}
  },
  {
   "source": [
    "# Karmarkar-Karp Completo\n",
    "Este algoritmo provee una solución exacta para el problema de la partición. Este algoritmo es una extensión del algoritmo KK donde se crea un árbol binario. Se debe seguir los siguientes pasos:\n",
    "* Ordenar la lista.\n",
    "* Reemplazar los dos mayores números por su diferencia en el árbol de la izquierda (vértice en azul).\n",
    "* Reemplazar los dos mayores números por su suma en el árbol de la derecha (vértice en rojo).\n",
    "\n",
    "El resultado es la menor diferencia final.\n",
    "\n",
    "## Solución del ejemplo 2 con KKC\n",
    "En azul se muestra los nodos donde se reemplazó los dos números mayores por su diferencia, y en rojo, cuando se reemplazó por su suma.\n",
    "<img src=\"KKC.jpg\">\n",
    "\n",
    "Siguiendo el proceso de reducción llegamos a una diferencia de 0. Vemos que este valor (0) es menor al obtenido con el algoritmo KK (2)."
   ],
   "cell_type": "markdown",
   "metadata": {}
  },
  {
   "cell_type": "code",
   "execution_count": 8,
   "metadata": {},
   "outputs": [],
   "source": [
    "## Implementación de KKC\n",
    "from copy import deepcopy\n",
    "from bisect import insort\n",
    "def KK_completo(nums=[]):\n",
    "    ''' retorna la diferencia mínima usando el algoritmo Karmarkar-Karp completo.\n",
    "    Asume que la lista de números nums está ordenada en orden ascendente.\n",
    "    Funciona recursivamente.\n",
    "    ############################################### '''\n",
    "    if len(nums) == 1:\n",
    "        # cuando la lista tiene 1 solo elemento se retorna ese mismo elemento\n",
    "        return nums[0]\n",
    "    elif len(nums) == 0:\n",
    "        # si la lista está vacía se retorna cero\n",
    "        return 0\n",
    "\n",
    "    # else more than 1 element\n",
    "    # is assumed the array is sorted\n",
    "    # nums.sort()\n",
    "    Bigger = nums.pop()\n",
    "    secondBiger = nums.pop()\n",
    "\n",
    "    # en la lista de la derecha incluyo la suma de los dos elementos\n",
    "    lRight = deepcopy(nums)\n",
    "    lRight.append(Bigger + secondBiger)\n",
    "\n",
    "    # en la lista de la izquierda incluyo la diferencia\n",
    "    lLeft = deepcopy(nums)\n",
    "    # uso insort para añadir el nuevo valor y que siga ordenada la lista\n",
    "    insort(lLeft, Bigger - secondBiger)\n",
    "\n",
    "    resp = min(KK_completo(lLeft), KK_completo(lRight))\n",
    "\n",
    "    return resp"
   ]
  },
  {
   "source": [
    "## Resolviendo el ejemplo 2\n",
    "valores = [4, 8, 7, 6, 5]\n",
    "valores.sort()\n",
    "resp = KK_completo(valores)\n",
    "print('Diferencia mínima en el conjunto', valores, 'es', resp)"
   ],
   "cell_type": "code",
   "metadata": {},
   "execution_count": 12,
   "outputs": [
    {
     "output_type": "stream",
     "name": "stdout",
     "text": [
      "Diferencia mínima en el conjunto [4, 5, 6] es 0\n"
     ]
    }
   ]
  },
  {
   "cell_type": "code",
   "execution_count": 14,
   "metadata": {},
   "outputs": [
    {
     "output_type": "stream",
     "name": "stdout",
     "text": [
      "Diferencia mínima en el conjunto [12, 20, 25, 30, 30, 35, 35, 45, 70, 80, 85] es 3\n"
     ]
    }
   ],
   "source": [
    "## Resolviendo el ejemplo 3\n",
    "valores = [25,30,35,20,90,110,45,70,80,12,30,35,85]\n",
    "valores.sort()\n",
    "resp = KK_completo(valores)\n",
    "print('Diferencia mínima en el conjunto', valores, 'es', resp)"
   ]
  },
  {
   "source": [
    "Para cada ejemplo, los subconjuntos de respuesta pueden ser fácilmente encontrados modificando la función en la llamada recursiva.\n",
    "\n",
    "## Más información sobre el problema de la partición\n",
    "El problema de la partición es un problema de complejidad _NP-Hard_. Esto significa que no se conoce ningún algoritmo óptimo computacionalmente (i.e. que se resuelva en tiempo polinomial).\n",
    "\n",
    "* El algoritmo Karmarkar-Karp KK (sol. approximada) tiene complejidad $O(n \\times log(n))$.\n",
    "* La versión completa del algoritmo Karmarkar-Karp CKK (sol. exacta) para el peor escenario posible tiene complejidad $O(2^n)$. "
   ],
   "cell_type": "markdown",
   "metadata": {}
  },
  {
   "source": [
    "## Enlaces de interés\n",
    "Literatura sobre el algoritmo Karmarkar-Karp:\n",
    "\n",
    "https://core.ac.uk/download/pdf/82710454.pdf"
   ],
   "cell_type": "markdown",
   "metadata": {}
  }
 ]
}