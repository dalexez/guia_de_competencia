{
 "cells": [
  {
   "cell_type": "markdown",
   "metadata": {},
   "source": [
    "# ¿Quieres trabajar en google?\n",
    "El siguiente ejemplo de problema lo encontré en la pagína Challenge Rocket. Al parecer es una pregunta similar a las que se realizan en entrevistas de trabajo de Google. Es normal, después de todo quieren teneer a los mejores programadores. Espero poder explicar la solución de manera clara, porque es un tanto complicada."
   ]
  },
  {
   "cell_type": "markdown",
   "metadata": {},
   "source": [
    "## ¿De cuántas formas se puede subir una escalera?\n",
    "El problecma consiste en encontrar de cuántas formas se puede subir una escalera o un graderío. La restricción consiste en que una persona puede subir esta escalera de N escalones subieno 1 o 2 escalones en un paso."
   ]
  },
  {
   "cell_type": "markdown",
   "metadata": {},
   "source": [
    "Si pensamos en una escalera de 3 escalones, la respuesta sería 3:\n",
    "1. 1-1-1\n",
    "2. 1-2\n",
    "2. 2-1"
   ]
  },
  {
   "cell_type": "markdown",
   "metadata": {},
   "source": [
    "En el caso de 4 escalones, tenemos 5 posibilidades:\n",
    "1. 1-1-1-1\n",
    "2. 2-2\n",
    "3. 1-1-2\n",
    "4. 2-1-1\n",
    "5. 1-2-1"
   ]
  },
  {
   "cell_type": "markdown",
   "metadata": {},
   "source": [
    "Entonces, ¿cómo podemos resolver este problema?"
   ]
  },
  {
   "cell_type": "markdown",
   "metadata": {},
   "source": [
    "## Solución de GeeksforGeeks\n",
    "La solución que voy a presentar originalmente se encuentra en [esta página](https://www.geeksforgeeks.org/count-ways-reach-nth-stair/)"
   ]
  },
  {
   "cell_type": "markdown",
   "metadata": {},
   "source": [
    "Debo admitirlo, me enfrenté al problema durante varios minutos y me rendí fácilmente. No sé si hubiera llegado a la conclusión yo solo, pero lo dudo, me costó entender esta solución, aunque no demasiado. Creo que si no tienes determinadas herramientas básicas, te será imposible llegar a la solución por mucho que lo pienses. "
   ]
  },
  {
   "cell_type": "code",
   "execution_count": 3,
   "metadata": {},
   "outputs": [],
   "source": [
    "def solve(n):\n",
    "    suma_1_2 = 0\n",
    "    lista_soluciones = [1]\n",
    "    pasos = 2\n",
    "\n",
    "    for i in range(1,n+1):\n",
    "        n_1 = i-1\n",
    "        n_3 = i-1-pasos\n",
    "        if(n_3>=0):\n",
    "            suma_1_2 -=lista_soluciones[n_3]\n",
    "        \n",
    "        suma_1_2 += lista_soluciones[n_1]\n",
    "        \n",
    "        lista_soluciones.append(suma_1_2)\n",
    "\n",
    "    return lista_soluciones[n]"
   ]
  },
  {
   "cell_type": "code",
   "execution_count": 5,
   "metadata": {},
   "outputs": [
    {
     "name": "stdout",
     "output_type": "stream",
     "text": [
      "1\n",
      "1\n",
      "2\n",
      "3\n",
      "5\n",
      "8\n",
      "13\n",
      "21\n",
      "34\n",
      "55\n"
     ]
    }
   ],
   "source": [
    "for i in range(10):\n",
    "    print(solve(i))"
   ]
  },
  {
   "cell_type": "markdown",
   "metadata": {},
   "source": [
    "## Análisis mental"
   ]
  },
  {
   "cell_type": "markdown",
   "metadata": {},
   "source": [
    "La solución del problema requiere el siguiente análisis mental. Aunque no sé cómo llegar a esa conclusión, sí que puedo explicar su funcionamiento."
   ]
  },
  {
   "cell_type": "markdown",
   "metadata": {},
   "source": [
    "El número de formas de subir $n$ escalones es igual a $n-1$ escalones más $n-2$ escalones.  \n",
    "$f(n) = f(n-1) + f(n-2)$"
   ]
  },
  {
   "cell_type": "markdown",
   "metadata": {},
   "source": [
    "¿Por qué? Porque si sabes cuántas formas existen de subir $n-1$ escalones ya tienes gran parte del trabajo hecho. Pensemos en el probema con N = 4.  \n",
    "$f(4) = f(3) + f(2)$"
   ]
  },
  {
   "cell_type": "markdown",
   "metadata": {},
   "source": [
    "Para $f(3)$ tenemos los siguientes caminos:\n",
    "1. 1-1-1\n",
    "2. 1-2\n",
    "3. 2-1  "
   ]
  },
  {
   "cell_type": "markdown",
   "metadata": {},
   "source": [
    "Entonces, si hablamos de $f(4)$, sólo debemos agregar un escalón a estas soluciones que ya tenemos:\n",
    "1. 1-1-1-1\n",
    "2. 1-2-1\n",
    "3. 2-1-1  \n"
   ]
  },
  {
   "cell_type": "markdown",
   "metadata": {},
   "source": [
    "¿Qué nos hace falta? Si se fijan, el último escalón se mantiene libre. Entonces nos faltan aquellas posibilidades donde subimos los dos últimos escalones de golpe. Por eso recurrimos a $f(2)$:\n",
    "1. 1-1\n",
    "2. 2  \n"
   ]
  },
  {
   "cell_type": "markdown",
   "metadata": {},
   "source": [
    "Si a estas posibilidades le agregamos los dos últimos escalones que estamos subiendo de golpe tendríamos:\n",
    "1. 1-1-2\n",
    "2. 2-2  \n"
   ]
  },
  {
   "cell_type": "markdown",
   "metadata": {},
   "source": [
    "Y gracias a ello, hemos conseguido todas las posibles formas de subir 4 escalones, $f(4)$:\n",
    "1. 1-1-1-1\n",
    "2. 1-2-1\n",
    "3. 2-1-1\n",
    "1. 1-1-2\n",
    "2. 2-2"
   ]
  },
  {
   "cell_type": "markdown",
   "metadata": {},
   "source": [
    "Sabiendo esto, lo que tenemos que hacer es almacenar las soluciones de $f(n-1)$ y $f(n-2)$ para sumarlas constantemente."
   ]
  },
  {
   "cell_type": "markdown",
   "metadata": {},
   "source": [
    "## Código comentado"
   ]
  },
  {
   "cell_type": "markdown",
   "metadata": {},
   "source": [
    "Con el análisis de la idea que ya he presentado, espero que puedan entender el código más facilmente. He agregado algunos comentarios para hacerlo más entendible."
   ]
  },
  {
   "cell_type": "code",
   "execution_count": 3,
   "metadata": {},
   "outputs": [],
   "source": [
    "#esta función retorna el número de formas que existen de subir las escaleras\n",
    "def solve(n):\n",
    "    #esta variable siempre tendrá la suma de f(n-1) + f(n-2)\n",
    "    suma_1_2 = 0 \n",
    "    #esta lista almacenará todas las soluciones anteriores a N\n",
    "    lista_soluciones = [1] \n",
    "    #esta constante hace referencia a cuantas escaleras podemos subir en un \n",
    "    #solo paso, en este problema podemos subir 2 escaleras en un paso\n",
    "    pasos = 2\n",
    "\n",
    "    #Declaro un for para todas las soluciones hasta N\n",
    "    #gracias a ello tenemos una complejidad O(N)\n",
    "    for i in range(1,n+1):\n",
    "        #estos índices sirven para llevar el control de las soluciones anteriores\n",
    "        n_1 = i-1\n",
    "        n_3 = i-1-pasos\n",
    "        #n_3 controla la solución f(n-3) \n",
    "        if(n_3>=0):\n",
    "            #se necesita restar la solución f(n-3)\n",
    "            #para obtener f(n-2)\n",
    "            suma_1_2 -=lista_soluciones[n_3]\n",
    "        #se suma f(n-1)\n",
    "        suma_1_2 += lista_soluciones[n_1]\n",
    "        #se agrega una nueva respuesta a la lista\n",
    "        lista_soluciones.append(suma_1_2)\n",
    "\n",
    "    return lista_soluciones[n]"
   ]
  },
  {
   "cell_type": "markdown",
   "metadata": {},
   "source": [
    "Quizá necesiten una explicación extra para entender por qué quiero restar $f(n-3)$. Si nos fijamos, tengo una variable `suma_1_2` donde siempre estoy sumando $f(n-1)$. Entonces, en determinado momento, la variable `suma_1_2` va a ser la suma de $f(n-1)+f(n-2)+f(n-3)$. Por eso, cuando lleguemos a ese punto, empiezo a restar $f(n-3)$ y de esa forma mantengo la respuesta como tiene que ser."
   ]
  },
  {
   "cell_type": "markdown",
   "metadata": {},
   "source": [
    "Espero que esta explicación les haya sido de utilidad. Espero que puedan encontrarse problemas para aplicar estos conocimientos y nos encontraremos en otra oportunidad."
   ]
  },
  {
   "cell_type": "code",
   "execution_count": null,
   "metadata": {},
   "outputs": [],
   "source": []
  }
 ],
 "metadata": {
  "kernelspec": {
   "display_name": "Python 3",
   "language": "python",
   "name": "python3"
  },
  "language_info": {
   "codemirror_mode": {
    "name": "ipython",
    "version": 3
   },
   "file_extension": ".py",
   "mimetype": "text/x-python",
   "name": "python",
   "nbconvert_exporter": "python",
   "pygments_lexer": "ipython3",
   "version": "3.6.5"
  }
 },
 "nbformat": 4,
 "nbformat_minor": 2
}
