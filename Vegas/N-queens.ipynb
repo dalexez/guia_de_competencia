{
 "cells": [
  {
   "cell_type": "markdown",
   "metadata": {},
   "source": [
    "# Las vegas contra backtracking"
   ]
  },
  {
   "cell_type": "markdown",
   "metadata": {},
   "source": [
    "Hace poco leí un paper que analizaba el problema de las N reinas y llegué a una sección donde se discutían distintas formas de resolver el problema de encontrar una solución a colocar N reinas en un tablero $N\\times{N}$."
   ]
  },
  {
   "cell_type": "markdown",
   "metadata": {},
   "source": [
    "## Backtracking"
   ]
  },
  {
   "cell_type": "markdown",
   "metadata": {},
   "source": [
    "Primero voy a probar los tiempos de la solución de backtracking, esta solución es una pequeña modificación del código que escribí en el tema 1."
   ]
  },
  {
   "cell_type": "code",
   "execution_count": 12,
   "metadata": {},
   "outputs": [
    {
     "name": "stdout",
     "output_type": "stream",
     "text": [
      "1\n"
     ]
    }
   ],
   "source": [
    "#variable global, útil para competencias\n",
    "#no recomendado para desarrollo\n",
    "n=8\n",
    "contador = 0\n",
    "columna = [False]*n\n",
    "diagonal_izquierda = [False]*(n*2)\n",
    "diagonal_derecha = [False]*(n*2)\n",
    "solucion = []\n",
    "\n",
    "#función recursiva\n",
    "def backtrack(y,n,contador):\n",
    "    if(y==n):\n",
    "        #retorna\n",
    "        return contador + 1\n",
    "    \n",
    "    for x in range(n):\n",
    "        \n",
    "        global columna\n",
    "        global diagonal_izquierda\n",
    "        global diagonal_derecha\n",
    "        \n",
    "        if(columna[x] or diagonal_izquierda[x+y] or diagonal_derecha[x-y+n-1]): \n",
    "            continue\n",
    "        #colocamos una reina\n",
    "        columna[x] = diagonal_izquierda[x+y] = diagonal_derecha[x-y+n-1] = True\n",
    "        solucion.append((x,y))\n",
    "                \n",
    "        #enviamos la fila siguiente\n",
    "        contador = backtrack(y+1,n,contador)        \n",
    "        \n",
    "        if(contador!=0):\n",
    "            return contador\n",
    "        \n",
    "        #quitamos la reina para probar otras posibilidades\n",
    "        columna[x] = diagonal_izquierda[x+y] = diagonal_derecha[x-y+n-1] = False\n",
    "        solucion.pop(-1)\n",
    "        \n",
    "    return contador\n",
    "        \n",
    "        \n",
    "        \n",
    "            \n",
    "print(backtrack(0,n,contador))"
   ]
  },
  {
   "cell_type": "code",
   "execution_count": 14,
   "metadata": {},
   "outputs": [
    {
     "data": {
      "text/plain": [
       "[(0, 0), (4, 1), (7, 2), (5, 3), (2, 4), (6, 5), (1, 6), (3, 7)]"
      ]
     },
     "execution_count": 14,
     "metadata": {},
     "output_type": "execute_result"
    }
   ],
   "source": [
    "solucion"
   ]
  },
  {
   "cell_type": "markdown",
   "metadata": {},
   "source": [
    "$$\\begin{bmatrix}\n",
    "Q&x&x&x&x&x&x&x \\\\\n",
    "x&x&x&x&x&x&Q&x \\\\\n",
    "x&x&x&x&Q&x&x&x \\\\\n",
    "x&x&x&x&x&x&x&Q \\\\\n",
    "x&Q&x&x&x&x&x&x \\\\\n",
    "x&x&x&Q&x&x&x&x \\\\\n",
    "x&x&x&x&x&Q&x&x \\\\\n",
    "x&x&Q&x&x&x&x&x \\\\\n",
    "\\end{bmatrix}$$"
   ]
  },
  {
   "cell_type": "code",
   "execution_count": 17,
   "metadata": {},
   "outputs": [
    {
     "name": "stdout",
     "output_type": "stream",
     "text": [
      "1\n"
     ]
    }
   ],
   "source": [
    "#variable global, útil para competencias\n",
    "#no recomendado para desarrollo\n",
    "n=4\n",
    "contador = 0\n",
    "columna = [False]*n\n",
    "diagonal_izquierda = [False]*(n*2)\n",
    "diagonal_derecha = [False]*(n*2)\n",
    "solucion = []\n",
    "\n",
    "#función recursiva\n",
    "def backtrack(y,n,contador):\n",
    "    if(y==n):\n",
    "        #retorna\n",
    "        return contador + 1\n",
    "    \n",
    "    for x in range(n):\n",
    "        \n",
    "        global columna\n",
    "        global diagonal_izquierda\n",
    "        global diagonal_derecha\n",
    "        \n",
    "        if(columna[x] or diagonal_izquierda[x+y] or diagonal_derecha[x-y+n-1]): \n",
    "            continue\n",
    "        #colocamos una reina\n",
    "        columna[x] = diagonal_izquierda[x+y] = diagonal_derecha[x-y+n-1] = True\n",
    "        solucion.append((x,y))\n",
    "                \n",
    "        #enviamos la fila siguiente\n",
    "        contador = backtrack(y+1,n,contador)        \n",
    "        \n",
    "        if(contador!=0):\n",
    "            return contador\n",
    "        \n",
    "        #quitamos la reina para probar otras posibilidades\n",
    "        columna[x] = diagonal_izquierda[x+y] = diagonal_derecha[x-y+n-1] = False\n",
    "        solucion.pop(-1)\n",
    "        \n",
    "    return contador\n",
    "            \n",
    "print(backtrack(0,n,contador))"
   ]
  },
  {
   "cell_type": "code",
   "execution_count": 18,
   "metadata": {},
   "outputs": [
    {
     "data": {
      "text/plain": [
       "[(1, 0), (3, 1), (0, 2), (2, 3)]"
      ]
     },
     "execution_count": 18,
     "metadata": {},
     "output_type": "execute_result"
    }
   ],
   "source": [
    "solucion"
   ]
  },
  {
   "cell_type": "markdown",
   "metadata": {},
   "source": [
    "$$\\begin{bmatrix}\n",
    "x&x&Q&x \\\\\n",
    "Q&x&x&x \\\\\n",
    "x&x&x&Q \\\\\n",
    "x&Q&x&x \\\\\n",
    "\\end{bmatrix}$$"
   ]
  },
  {
   "cell_type": "markdown",
   "metadata": {},
   "source": [
    "Ahora, el algoritmo que encuentra todas las soluciones jamás resolvería un problema de un tablero $16\\times{16}$ en un tiempo decente."
   ]
  },
  {
   "cell_type": "code",
   "execution_count": 13,
   "metadata": {},
   "outputs": [
    {
     "name": "stdout",
     "output_type": "stream",
     "text": [
      "1\n"
     ]
    }
   ],
   "source": [
    "#variable global, útil para competencias\n",
    "#no recomendado para desarrollo\n",
    "n=16\n",
    "contador = 0\n",
    "columna = [False]*n\n",
    "diagonal_izquierda = [False]*(n*2)\n",
    "diagonal_derecha = [False]*(n*2)\n",
    "solucion = []\n",
    "\n",
    "#función recursiva\n",
    "def backtrack(y,n,contador):\n",
    "    if(y==n):\n",
    "        #retorna\n",
    "        return contador + 1\n",
    "    \n",
    "    for x in range(n):\n",
    "        \n",
    "        global columna\n",
    "        global diagonal_izquierda\n",
    "        global diagonal_derecha\n",
    "        \n",
    "        if(columna[x] or diagonal_izquierda[x+y] or diagonal_derecha[x-y+n-1]): \n",
    "            continue\n",
    "        #colocamos una reina\n",
    "        columna[x] = diagonal_izquierda[x+y] = diagonal_derecha[x-y+n-1] = True\n",
    "        solucion.append((x,y))\n",
    "                \n",
    "        #enviamos la fila siguiente\n",
    "        contador = backtrack(y+1,n,contador)        \n",
    "        \n",
    "        if(contador!=0):\n",
    "            return contador\n",
    "        \n",
    "        #quitamos la reina para probar otras posibilidades\n",
    "        columna[x] = diagonal_izquierda[x+y] = diagonal_derecha[x-y+n-1] = False\n",
    "        solucion.pop(-1)\n",
    "        \n",
    "    return contador\n",
    "            \n",
    "print(backtrack(0,n,contador))"
   ]
  },
  {
   "cell_type": "code",
   "execution_count": 14,
   "metadata": {},
   "outputs": [
    {
     "data": {
      "text/plain": [
       "[(0, 0),\n",
       " (2, 1),\n",
       " (4, 2),\n",
       " (1, 3),\n",
       " (12, 4),\n",
       " (8, 5),\n",
       " (13, 6),\n",
       " (11, 7),\n",
       " (14, 8),\n",
       " (5, 9),\n",
       " (15, 10),\n",
       " (6, 11),\n",
       " (3, 12),\n",
       " (10, 13),\n",
       " (7, 14),\n",
       " (9, 15)]"
      ]
     },
     "execution_count": 14,
     "metadata": {},
     "output_type": "execute_result"
    }
   ],
   "source": [
    "solucion"
   ]
  },
  {
   "cell_type": "markdown",
   "metadata": {},
   "source": [
    "Ya que sólo encontramos una solución, es posible ejecutar este algoritmo y funcionará relativamente bien. Acabo de probarle con un tablero $30\\times{30}$ y el tiempo que tardó fue demasiado."
   ]
  },
  {
   "cell_type": "markdown",
   "metadata": {},
   "source": [
    "## Las vegas"
   ]
  },
  {
   "cell_type": "markdown",
   "metadata": {},
   "source": [
    "Veamos qué tal lo hace un algoritmo aleatorio."
   ]
  },
  {
   "cell_type": "markdown",
   "metadata": {},
   "source": [
    "El secreto del algoritmo las vegas es que se colocan reinas en el tablero de forma aleatoria de acuerdo con las columnas disponibles. Si todas las columnas están atacadas, se vuelve a empezar desde la primera reina"
   ]
  },
  {
   "cell_type": "code",
   "execution_count": 1,
   "metadata": {},
   "outputs": [],
   "source": [
    "import random"
   ]
  },
  {
   "cell_type": "markdown",
   "metadata": {},
   "source": [
    "En competencias hay que tener cuidado con las bibliotecas que se importan, por ahora voy a usar random porque es una mera explicación."
   ]
  },
  {
   "cell_type": "code",
   "execution_count": 2,
   "metadata": {},
   "outputs": [
    {
     "data": {
      "text/plain": [
       "3"
      ]
     },
     "execution_count": 2,
     "metadata": {},
     "output_type": "execute_result"
    }
   ],
   "source": [
    "random.choice([1,2,3])"
   ]
  },
  {
   "cell_type": "markdown",
   "metadata": {},
   "source": [
    "Voy a usar `random.choice` para seleccionar la columna al azar de acuerdo a las columnas disponibles."
   ]
  },
  {
   "cell_type": "code",
   "execution_count": 4,
   "metadata": {},
   "outputs": [],
   "source": [
    "def disponibles(y,n):\n",
    "    columnas_disponibles = []\n",
    "    for x in range(n):\n",
    "        if(columna[x] or diagonal_izquierda[x+y] or diagonal_derecha[x-y+n-1]): \n",
    "            #si la reina es atacada se debe volver a empezar\n",
    "            continue\n",
    "        columnas_disponibles.append(x)\n",
    "    return columnas_disponibles\n",
    "        "
   ]
  },
  {
   "cell_type": "code",
   "execution_count": 6,
   "metadata": {},
   "outputs": [
    {
     "name": "stdout",
     "output_type": "stream",
     "text": [
      "n\n"
     ]
    }
   ],
   "source": [
    "if([]):\n",
    "    print(\"y\")\n",
    "else:\n",
    "    print(\"n\")"
   ]
  },
  {
   "cell_type": "code",
   "execution_count": 11,
   "metadata": {},
   "outputs": [
    {
     "name": "stdout",
     "output_type": "stream",
     "text": [
      "[(6, 0), (2, 1), (7, 2), (1, 3), (4, 4), (0, 5), (5, 6), (3, 7)]\n"
     ]
    }
   ],
   "source": [
    "n = 8\n",
    "solucion = []\n",
    "\n",
    "columna = [False]*n\n",
    "diagonal_izquierda = [False]*(n*2)\n",
    "diagonal_derecha = [False]*(n*2)\n",
    "\n",
    "while(len(solucion)!=n and n>3):\n",
    "#for i in range(10):\n",
    "    solucion = []\n",
    "    columna = [False]*n\n",
    "    diagonal_izquierda = [False]*(n*2)\n",
    "    diagonal_derecha = [False]*(n*2)\n",
    "    \n",
    "    for y in range(n):\n",
    "        #colocar la reina en una columna aleatoria\n",
    "        columnas_d = disponibles(y,n)\n",
    "        #sólo si hay columnas no atacadas\n",
    "        if(columnas_d):\n",
    "            x = random.choice(columnas_d)\n",
    "        else:\n",
    "            break\n",
    "        \n",
    "        columna[x] = diagonal_izquierda[x+y] = diagonal_derecha[x-y+n-1] = True\n",
    "        solucion.append((x,y))\n",
    "        \n",
    "print(solucion)"
   ]
  },
  {
   "cell_type": "markdown",
   "metadata": {},
   "source": [
    "$$\\begin{bmatrix}\n",
    "x&x&x&x&x&Q&x&x \\\\\n",
    "x&x&x&Q&x&x&x&x \\\\\n",
    "x&Q&x&x&x&x&x&x \\\\\n",
    "x&x&x&x&x&x&x&Q \\\\\n",
    "x&x&x&x&Q&x&x&x \\\\\n",
    "x&x&x&x&x&x&Q&x \\\\\n",
    "Q&x&x&x&x&x&x&x \\\\\n",
    "x&x&Q&x&x&x&x&x \\\\\n",
    "\\end{bmatrix}$$"
   ]
  },
  {
   "cell_type": "markdown",
   "metadata": {},
   "source": [
    "Al momento de encontrar 8 reinas el algoritmo de las vegas tardó casi nada, así que lo importante será comparar ambos algorimos con números más grandes."
   ]
  },
  {
   "cell_type": "markdown",
   "metadata": {},
   "source": [
    "Este algoritmo es toda una apuesta. Puede tardarse muy poco, al igual que mucho tiempo en encontrar una respuesta. Por eso tiene el nombre de las vegas. En el artículo que leí, este algoritmo al parecer pudo superar los tiempos de un juez en una competencia, así que usemos time para averiguar su rendimiento."
   ]
  },
  {
   "cell_type": "code",
   "execution_count": 14,
   "metadata": {},
   "outputs": [
    {
     "name": "stdout",
     "output_type": "stream",
     "text": [
      "Tiempo de ejecución: 0.0\n"
     ]
    }
   ],
   "source": [
    "import time\n",
    "start = time.time()\n",
    "end = time.time()\n",
    "print(\"Tiempo de ejecución:\",end - start)"
   ]
  },
  {
   "cell_type": "code",
   "execution_count": 21,
   "metadata": {},
   "outputs": [
    {
     "name": "stdout",
     "output_type": "stream",
     "text": [
      "[(6, 0), (2, 1), (12, 2), (10, 3), (0, 4), (4, 5), (9, 6), (15, 7), (3, 8), (14, 9), (8, 10), (13, 11), (5, 12), (7, 13), (11, 14), (1, 15)]\n"
     ]
    }
   ],
   "source": [
    "n = 16\n",
    "solucion = []\n",
    "\n",
    "columna = [False]*n\n",
    "diagonal_izquierda = [False]*(n*2)\n",
    "diagonal_derecha = [False]*(n*2)\n",
    "\n",
    "while(len(solucion)!=n and n>3):\n",
    "#for i in range(10):\n",
    "    solucion = []\n",
    "    columna = [False]*n\n",
    "    diagonal_izquierda = [False]*(n*2)\n",
    "    diagonal_derecha = [False]*(n*2)\n",
    "    \n",
    "    for y in range(n):\n",
    "        #colocar la reina en una columna aleatoria\n",
    "        columnas_d = disponibles(y,n)\n",
    "        #sólo si hay columnas no atacadas\n",
    "        if(columnas_d):\n",
    "            x = random.choice(columnas_d)\n",
    "        else:\n",
    "            break\n",
    "        \n",
    "        columna[x] = diagonal_izquierda[x+y] = diagonal_derecha[x-y+n-1] = True\n",
    "        solucion.append((x,y))\n",
    "        \n",
    "print(solucion)"
   ]
  },
  {
   "cell_type": "code",
   "execution_count": 34,
   "metadata": {},
   "outputs": [
    {
     "name": "stdout",
     "output_type": "stream",
     "text": [
      "Tiempo de ejecución (aleatorio): 0.0029921531677246094\n",
      "Tiempo de ejecución (aleatorio): 0.0009965896606445312\n",
      "Tiempo de ejecución (aleatorio): 0.001993894577026367\n",
      "Tiempo de ejecución (aleatorio): 0.005984306335449219\n",
      "Tiempo de ejecución (aleatorio): 0.000997781753540039\n",
      "Tiempo de ejecución (aleatorio): 0.0019941329956054688\n",
      "Tiempo de ejecución (aleatorio): 0.0059850215911865234\n",
      "Tiempo de ejecución (aleatorio): 0.0\n",
      "Tiempo de ejecución (aleatorio): 0.0\n",
      "Tiempo de ejecución (aleatorio): 0.0\n"
     ]
    }
   ],
   "source": [
    "for i in range(10):\n",
    "    start = time.time()\n",
    "\n",
    "    n = 20\n",
    "    solucion = []\n",
    "\n",
    "    columna = [False]*n\n",
    "    diagonal_izquierda = [False]*(n*2)\n",
    "    diagonal_derecha = [False]*(n*2)\n",
    "\n",
    "    while(len(solucion)!=n and n>3):\n",
    "    #for i in range(10):\n",
    "        solucion = []\n",
    "        columna = [False]*n\n",
    "        diagonal_izquierda = [False]*(n*2)\n",
    "        diagonal_derecha = [False]*(n*2)\n",
    "\n",
    "        for y in range(n):\n",
    "            #colocar la reina en una columna aleatoria\n",
    "            columnas_d = disponibles(y,n)\n",
    "            #sólo si hay columnas no atacadas\n",
    "            if(columnas_d):\n",
    "                x = random.choice(columnas_d)\n",
    "            else:\n",
    "                break\n",
    "\n",
    "            columna[x] = diagonal_izquierda[x+y] = diagonal_derecha[x-y+n-1] = True\n",
    "            solucion.append((x,y))\n",
    "    end = time.time()\n",
    "    print(\"Tiempo de ejecución (aleatorio):\",end - start)\n",
    "    #print(solucion)"
   ]
  },
  {
   "cell_type": "code",
   "execution_count": 32,
   "metadata": {},
   "outputs": [
    {
     "name": "stdout",
     "output_type": "stream",
     "text": [
      "[(0, 0), (2, 1), (4, 2), (1, 3), (3, 4), (12, 5), (14, 6), (11, 7), (17, 8), (19, 9), (16, 10), (8, 11), (15, 12), (18, 13), (7, 14), (9, 15), (6, 16), (13, 17), (5, 18), (10, 19)]\n"
     ]
    }
   ],
   "source": [
    "#variable global, útil para competencias\n",
    "#no recomendado para desarrollo\n",
    "n=20\n",
    "contador = 0\n",
    "columna = [False]*n\n",
    "diagonal_izquierda = [False]*(n*2)\n",
    "diagonal_derecha = [False]*(n*2)\n",
    "solucion = []\n",
    "\n",
    "#función recursiva\n",
    "def backtrack(y,n,contador):\n",
    "    if(y==n):\n",
    "        #retorna\n",
    "        return contador + 1\n",
    "    \n",
    "    for x in range(n):\n",
    "        \n",
    "        global columna\n",
    "        global diagonal_izquierda\n",
    "        global diagonal_derecha\n",
    "        \n",
    "        if(columna[x] or diagonal_izquierda[x+y] or diagonal_derecha[x-y+n-1]): \n",
    "            continue\n",
    "        #colocamos una reina\n",
    "        columna[x] = diagonal_izquierda[x+y] = diagonal_derecha[x-y+n-1] = True\n",
    "        solucion.append((x,y))\n",
    "                \n",
    "        #enviamos la fila siguiente\n",
    "        contador = backtrack(y+1,n,contador)        \n",
    "        \n",
    "        if(contador!=0):\n",
    "            return contador\n",
    "        \n",
    "        #quitamos la reina para probar otras posibilidades\n",
    "        columna[x] = diagonal_izquierda[x+y] = diagonal_derecha[x-y+n-1] = False\n",
    "        solucion.pop(-1)\n",
    "        \n",
    "    return contador\n",
    "            \n",
    "backtrack(0,n,contador)    \n",
    "print(solucion)"
   ]
  },
  {
   "cell_type": "code",
   "execution_count": 33,
   "metadata": {},
   "outputs": [
    {
     "name": "stdout",
     "output_type": "stream",
     "text": [
      "Tiempo de ejecución (backtrack): 0.3829667568206787\n",
      "Tiempo de ejecución (backtrack): 0.36434388160705566\n",
      "Tiempo de ejecución (backtrack): 0.3683900833129883\n",
      "Tiempo de ejecución (backtrack): 0.36414289474487305\n",
      "Tiempo de ejecución (backtrack): 0.3615684509277344\n",
      "Tiempo de ejecución (backtrack): 0.38326478004455566\n",
      "Tiempo de ejecución (backtrack): 0.38796210289001465\n",
      "Tiempo de ejecución (backtrack): 0.37649965286254883\n",
      "Tiempo de ejecución (backtrack): 0.37899160385131836\n",
      "Tiempo de ejecución (backtrack): 0.38181257247924805\n"
     ]
    }
   ],
   "source": [
    "for i in range(10):\n",
    "    start = time.time()\n",
    "#variable global, útil para competencias\n",
    "    #no recomendado para desarrollo\n",
    "    n=20\n",
    "    contador = 0\n",
    "    columna = [False]*n\n",
    "    diagonal_izquierda = [False]*(n*2)\n",
    "    diagonal_derecha = [False]*(n*2)\n",
    "    solucion = []\n",
    "\n",
    "    #función recursiva\n",
    "    def backtrack(y,n,contador):\n",
    "        if(y==n):\n",
    "            #retorna\n",
    "            return contador + 1\n",
    "\n",
    "        for x in range(n):\n",
    "\n",
    "            global columna\n",
    "            global diagonal_izquierda\n",
    "            global diagonal_derecha\n",
    "\n",
    "            if(columna[x] or diagonal_izquierda[x+y] or diagonal_derecha[x-y+n-1]): \n",
    "                continue\n",
    "            #colocamos una reina\n",
    "            columna[x] = diagonal_izquierda[x+y] = diagonal_derecha[x-y+n-1] = True\n",
    "            solucion.append((x,y))\n",
    "\n",
    "            #enviamos la fila siguiente\n",
    "            contador = backtrack(y+1,n,contador)        \n",
    "\n",
    "            if(contador!=0):\n",
    "                return contador\n",
    "\n",
    "            #quitamos la reina para probar otras posibilidades\n",
    "            columna[x] = diagonal_izquierda[x+y] = diagonal_derecha[x-y+n-1] = False\n",
    "            solucion.pop(-1)\n",
    "\n",
    "        return contador\n",
    "\n",
    "    backtrack(0,n,contador)    \n",
    "    #print(solucion)\n",
    "    \n",
    "    end = time.time()\n",
    "    print(\"Tiempo de ejecución (backtrack):\",end - start)    "
   ]
  },
  {
   "cell_type": "markdown",
   "metadata": {},
   "source": [
    "A la hora de encontrar la respuesta para un tablero $20\\times{20}$ las vegas lo hicieron muy bien, pero podemos suponer que fue la suerte."
   ]
  },
  {
   "cell_type": "code",
   "execution_count": 40,
   "metadata": {},
   "outputs": [
    {
     "name": "stdout",
     "output_type": "stream",
     "text": [
      "Tiempo de ejecución (aleatorio): 0.013962984085083008\n",
      "Tiempo de ejecución (aleatorio): 0.0019953250885009766\n",
      "Tiempo de ejecución (aleatorio): 0.001993894577026367\n",
      "Tiempo de ejecución (aleatorio): 0.016464948654174805\n",
      "Tiempo de ejecución (aleatorio): 0.03743171691894531\n",
      "Tiempo de ejecución (aleatorio): 0.021941184997558594\n",
      "Tiempo de ejecución (aleatorio): 0.0009975433349609375\n",
      "Tiempo de ejecución (aleatorio): 0.005983829498291016\n",
      "Tiempo de ejecución (aleatorio): 0.0060732364654541016\n",
      "Tiempo de ejecución (aleatorio): 0.0029027462005615234\n"
     ]
    }
   ],
   "source": [
    "for i in range(10):\n",
    "    start = time.time()\n",
    "\n",
    "    n = 30\n",
    "    solucion = []\n",
    "\n",
    "    columna = [False]*n\n",
    "    diagonal_izquierda = [False]*(n*2)\n",
    "    diagonal_derecha = [False]*(n*2)\n",
    "\n",
    "    while(len(solucion)!=n and n>3):\n",
    "    #for i in range(10):\n",
    "        solucion = []\n",
    "        columna = [False]*n\n",
    "        diagonal_izquierda = [False]*(n*2)\n",
    "        diagonal_derecha = [False]*(n*2)\n",
    "\n",
    "        for y in range(n):\n",
    "            #colocar la reina en una columna aleatoria\n",
    "            columnas_d = disponibles(y,n)\n",
    "            #sólo si hay columnas no atacadas\n",
    "            if(columnas_d):\n",
    "                x = random.choice(columnas_d)\n",
    "            else:\n",
    "                break\n",
    "\n",
    "            columna[x] = diagonal_izquierda[x+y] = diagonal_derecha[x-y+n-1] = True\n",
    "            solucion.append((x,y))\n",
    "    end = time.time()\n",
    "    print(\"Tiempo de ejecución (aleatorio):\",end - start)\n",
    "    #print(solucion)"
   ]
  },
  {
   "cell_type": "markdown",
   "metadata": {},
   "source": [
    "Este algoritmo es increíblemente bueno. Pudo encontrar la respuesta a $N=30$ en menos de un segundo diez veces. El algoritmo de backtrack tarda demasiado en resolverlo una sola vez."
   ]
  },
  {
   "cell_type": "code",
   "execution_count": 42,
   "metadata": {},
   "outputs": [
    {
     "name": "stdout",
     "output_type": "stream",
     "text": [
      "Tiempo de ejecución (aleatorio): 0.18651151657104492\n",
      "Tiempo de ejecución (aleatorio): 0.27492666244506836\n",
      "Tiempo de ejecución (aleatorio): 0.3820195198059082\n",
      "Tiempo de ejecución (aleatorio): 0.3101520538330078\n",
      "Tiempo de ejecución (aleatorio): 0.48504018783569336\n",
      "Tiempo de ejecución (aleatorio): 0.15653347969055176\n",
      "Tiempo de ejecución (aleatorio): 1.4269564151763916\n",
      "Tiempo de ejecución (aleatorio): 0.03889632225036621\n",
      "Tiempo de ejecución (aleatorio): 0.34108757972717285\n",
      "Tiempo de ejecución (aleatorio): 1.6980838775634766\n"
     ]
    }
   ],
   "source": [
    "for i in range(10):\n",
    "    start = time.time()\n",
    "\n",
    "    n = 100\n",
    "    solucion = []\n",
    "\n",
    "    columna = [False]*n\n",
    "    diagonal_izquierda = [False]*(n*2)\n",
    "    diagonal_derecha = [False]*(n*2)\n",
    "\n",
    "    while(len(solucion)!=n and n>3):\n",
    "    #for i in range(10):\n",
    "        solucion = []\n",
    "        columna = [False]*n\n",
    "        diagonal_izquierda = [False]*(n*2)\n",
    "        diagonal_derecha = [False]*(n*2)\n",
    "\n",
    "        for y in range(n):\n",
    "            #colocar la reina en una columna aleatoria\n",
    "            columnas_d = disponibles(y,n)\n",
    "            #sólo si hay columnas no atacadas\n",
    "            if(columnas_d):\n",
    "                x = random.choice(columnas_d)\n",
    "            else:\n",
    "                break\n",
    "\n",
    "            columna[x] = diagonal_izquierda[x+y] = diagonal_derecha[x-y+n-1] = True\n",
    "            solucion.append((x,y))\n",
    "    end = time.time()\n",
    "    print(\"Tiempo de ejecución (aleatorio):\",end - start)\n",
    "    #print(solucion)"
   ]
  },
  {
   "cell_type": "markdown",
   "metadata": {},
   "source": [
    "A partir de 100 reinas podemos ver cierta latencia, algunas veces tarda más de un segundo. Pero sigue siendo un rendimiento muy bueno en comparación a backtrack, qué buen algoritmo."
   ]
  },
  {
   "cell_type": "code",
   "execution_count": null,
   "metadata": {},
   "outputs": [],
   "source": []
  }
 ],
 "metadata": {
  "kernelspec": {
   "display_name": "Python 3",
   "language": "python",
   "name": "python3"
  },
  "language_info": {
   "codemirror_mode": {
    "name": "ipython",
    "version": 3
   },
   "file_extension": ".py",
   "mimetype": "text/x-python",
   "name": "python",
   "nbconvert_exporter": "python",
   "pygments_lexer": "ipython3",
   "version": "3.8.5"
  }
 },
 "nbformat": 4,
 "nbformat_minor": 4
}
