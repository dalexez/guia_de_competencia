{
 "cells": [
  {
   "cell_type": "markdown",
   "metadata": {},
   "source": [
    "# Tareas y fechas de entrega\n",
    "Este problema me pareció muy curioso porque puede resultar útil para el día a día. Imagina que tienes varias tareas que cumplir este mes y que cada tarea tiene su día de entrega. Entonces, para obtener un calendario óptimo utilizas esta fórmula para premiar cada tarea cumplida:  \n",
    "$puntos = L - d $\n",
    "* L: día límite de entrega\n",
    "* d: día en el que completas la tarea\n"
   ]
  },
  {
   "cell_type": "markdown",
   "metadata": {},
   "source": [
    "Mientras más rápido completes una tarea, más puntos recibirás, ya que d sería más pequeño."
   ]
  },
  {
   "cell_type": "markdown",
   "metadata": {},
   "source": [
    "### Entrada\n",
    "* N: número de tareas para este mes\n",
    "* Las siguientes N líneas contendrán una letra para identificar la tarea y dos números, indicando el día límite de entrega y la duración (cuánto tiempo te tomará realizarla)\n"
   ]
  },
  {
   "cell_type": "markdown",
   "metadata": {},
   "source": [
    "### Salida\n",
    "En una línea imprime la mejor forma de organizar la lista de tareas y el puntaje que se obtiene.\n"
   ]
  },
  {
   "cell_type": "markdown",
   "metadata": {},
   "source": [
    "### Ejemplo:\n",
    "Entrada:  \n",
    "\n",
    "3  \n",
    "a 10 5  \n",
    "b 15 3  \n",
    "c 7 10  \n",
    "  \n",
    "Salida:  \n",
    "b a c 3  \n",
    "  \n",
    "Explicación:  \n",
    "1-2-3(b)-4-5-6-**7**-8(a)-9-**10**-11-12-13-14-**15**-16-17-18(c)  \n",
    "  \n",
    "  \n",
    "a: 10 - 8 = 2  \n",
    "\n",
    "b: 15 - 3 = 12  \n",
    "\n",
    "c: 7 - 18 = -11  \n",
    "\n",
    "puntos = $12-11+2 = 3$\n",
    "\n"
   ]
  },
  {
   "cell_type": "markdown",
   "metadata": {},
   "source": [
    "## Análisis\n",
    "Al parecer el día límite no importa, lo único que importa es la duración de la tarea. Tiene sentido ya que si haces el máximo número de tareas posible antes de una fecha de entrega es mejor que hacer una única tarea y entregar el resto atrasadas."
   ]
  },
  {
   "cell_type": "markdown",
   "metadata": {},
   "source": [
    "Imagina que todas las tareas deben realizarse hasta el día 7. Lo mejor sería hacer dos tareas que te toman 3 días y entregar una tarea atrasada que te toma 7. Que entregar una tarea larga que te toma 7 días y entregar dos tareas atrasadas. \n",
    "* puntos = $3L-d_{1}-d_{2}-d_{3}$\n",
    "* ($3L$ porque las tres tareas comparten el mísmo día límite y cada $d_{n}$ es el día en el que se termina la tarea)\n",
    "* puntos caso 1 = $3\\times{7} - 3 - 6 - 13 = -1$\n",
    "* puntos caso 2 = $3\\times{7} - 7 - 10 - 13 = -9$"
   ]
  },
  {
   "cell_type": "markdown",
   "metadata": {},
   "source": [
    "El caso 1 es mejor porque completaste dos tareas antes del día 7"
   ]
  },
  {
   "cell_type": "markdown",
   "metadata": {},
   "source": [
    "## Código"
   ]
  },
  {
   "cell_type": "code",
   "execution_count": 42,
   "metadata": {},
   "outputs": [
    {
     "name": "stdout",
     "output_type": "stream",
     "text": [
      "3\n",
      "['a', '10', 5]\n",
      "['b', '15', 3]\n",
      "['c', '7', 10]\n",
      "b a c 3\n"
     ]
    }
   ],
   "source": [
    "#Recibo el número de tareas\n",
    "N = int(input())\n",
    "print(N) #para ayudar al entendimiento\n",
    "tareas = []\n",
    "for i in range(N):\n",
    "    tarea = input().split()\n",
    "    #a diferencia del ejercicio anterior\n",
    "    #que tenía horas entre 10 y 22\n",
    "    #para resolver este ejercicio sí debo convertir este valor a entero\n",
    "    tarea[2] = int(tarea[2]) \n",
    "    tareas.append(tarea)\n",
    "    print(tarea) #ya que las entradas no se guardan en el notebook\n",
    "\n",
    "#Ordeno la lista de acuerdo a la duración de menor a mayor\n",
    "tareas_ordenadas = sorted(tareas,key = lambda x:x[2])\n",
    "\n",
    "#Calculo el puntaje de la respuesta\n",
    "suma = 0\n",
    "dia = 0\n",
    "for tarea in tareas_ordenadas:\n",
    "    dia += int(tarea[2]) #sumo la duración para avanzar en el calendario\n",
    "    #puntos = L - d\n",
    "    suma += int(tarea[1]) - dia\n",
    "    print(tarea[0],end=' ')\n",
    "print(suma)\n",
    "\n"
   ]
  },
  {
   "cell_type": "code",
   "execution_count": 43,
   "metadata": {},
   "outputs": [
    {
     "data": {
      "text/plain": [
       "[['b', '15', 3], ['a', '10', 5], ['c', '7', 10]]"
      ]
     },
     "execution_count": 43,
     "metadata": {},
     "output_type": "execute_result"
    }
   ],
   "source": [
    "tareas_ordenadas"
   ]
  },
  {
   "cell_type": "code",
   "execution_count": null,
   "metadata": {},
   "outputs": [],
   "source": []
  }
 ],
 "metadata": {
  "kernelspec": {
   "display_name": "Python 3",
   "language": "python",
   "name": "python3"
  },
  "language_info": {
   "codemirror_mode": {
    "name": "ipython",
    "version": 3
   },
   "file_extension": ".py",
   "mimetype": "text/x-python",
   "name": "python",
   "nbconvert_exporter": "python",
   "pygments_lexer": "ipython3",
   "version": "3.6.5"
  }
 },
 "nbformat": 4,
 "nbformat_minor": 2
}
