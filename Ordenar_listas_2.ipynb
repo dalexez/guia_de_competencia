{
 "cells": [
  {
   "cell_type": "markdown",
   "metadata": {},
   "source": [
    "# Resolviendo más problemas ordenando listas"
   ]
  },
  {
   "cell_type": "markdown",
   "metadata": {},
   "source": [
    "## Clientes en un restaurante"
   ]
  },
  {
   "cell_type": "markdown",
   "metadata": {},
   "source": [
    "El libro nos da un ejemplo de problema, hablando acerca de un restaurante, pero no deja claro cuál es la entrada y la salida. Así que elaboré la entrada y la salida de acuerdo con mi experiencia en competencias."
   ]
  },
  {
   "cell_type": "markdown",
   "metadata": {},
   "source": [
    "### Descripción\n",
    "Un restaurante abre todos los días desde las 12 hasta las 22 horas. Tiene un registro de la hora de ingreso y salida de sus clientes. Tu trabajo es averiguar cuál fue la cantidad máxima de clientes que el restaurante atendió simultaneamente."
   ]
  },
  {
   "cell_type": "markdown",
   "metadata": {},
   "source": [
    "### Entrada\n",
    "* La primera línea de entrada contiene un número T que indica el número de pruebas.  \n",
    "* Cada caso de prueba contiene dos líneas, la primera línea tendrá el número C $(0<C<1000)$ de clientes que ingresaron al restaruante ese día. \n",
    "* La segunda línea contiene C pares de números i s $(12=<i,s<=22)$ $( i<s )$ que representan la hora de ingreso y salida de cada cliente.\n"
   ]
  },
  {
   "cell_type": "markdown",
   "metadata": {},
   "source": [
    "### Salida\n",
    "La salida consiste en un único número que indique la cantidad máxima de clientes que fueron atendidos al mismo tiempo."
   ]
  },
  {
   "cell_type": "markdown",
   "metadata": {},
   "source": [
    "### Solución analítica\n",
    "Lo único que tenemos que hacer es ordenar los números de hora de entrada y salida y llevar un contador que sume cuando un cliente entra y reste cuando un cliente salga. En otra variable consercamos el contador máximo y la respuesta se obtiene de forma sencilla."
   ]
  },
  {
   "cell_type": "markdown",
   "metadata": {},
   "source": [
    "## Soluciones ordenando listas\n",
    "Hay dos formas de solucionar este problema, voy a mostrar ambas y aprovecharé este notebook para explicar como funciona CountingSort."
   ]
  },
  {
   "cell_type": "markdown",
   "metadata": {},
   "source": [
    "### Counting Sort\n",
    "Consiste en relacionar el número que ingresa el usuario con el índice de una lista de control. Esta lista de control almacena el número de veces que aparece un número ingresado por el usuario, entonces, no hay necesidad de ordenar nada. Cuando el usuario ingresa un número, éste se registra en el contador de nuestra lista de control, tomando su lugar correspondiente.  \n",
    "La complejidad de este algoritmo es de $O(N)$ lo cual lo hace más eficiente que MergeSort. El problema con esta solución es que una lista puede tener números demasiado grandes, mira esta lista de ejemplo: [100000,200000000,30000000]. Esto implicaría que nuestra lista de control sería de longitud 200000000. Eso sería un desperdicio de recursos, tomando en cuenta que la lista sólo tiene 3 elementos.  \n",
    "Entonces, hay que estar atento para saber cuándo usar CountingSort. "
   ]
  },
  {
   "cell_type": "markdown",
   "metadata": {},
   "source": [
    "Ya que, en este problema, los números de la lista van entre 12 y 22, no hay problema en usar este algoritmo."
   ]
  },
  {
   "cell_type": "code",
   "execution_count": 14,
   "metadata": {},
   "outputs": [],
   "source": [
    "def counting_sort(lista):\n",
    "    #creo una lista que vaya hasta el índice máximo\n",
    "    #muy importante que me guío por las restricciones del problema\n",
    "    lista_de_control = [0]*22 \n",
    "    for num in lista:\n",
    "        #llevo un conteo del número ingresado\n",
    "        #resto num-1 ya que mis ínidices empiezan en cero y terminan en 21\n",
    "        lista_de_control[num-1] += 1 \n",
    "    return lista_de_control"
   ]
  },
  {
   "cell_type": "code",
   "execution_count": 3,
   "metadata": {},
   "outputs": [
    {
     "name": "stdout",
     "output_type": "stream",
     "text": [
      "[0, 0, 0, 0, 0, 0, 0, 0, 0, 0, 0, 2, 1, 1, 1, 0, 0, 0, 0, 1, 0, 1]\n"
     ]
    }
   ],
   "source": [
    "#prueba de la función\n",
    "l = [12,14,22,13,12,15,20]\n",
    "control_l = counting_sort(l)\n",
    "print(control_l)"
   ]
  },
  {
   "cell_type": "code",
   "execution_count": 8,
   "metadata": {},
   "outputs": [
    {
     "name": "stdout",
     "output_type": "stream",
     "text": [
      "[12, 14, 22, 13, 12, 15, 20]\n",
      "[12, 12, 13, 14, 15, 20, 22]\n"
     ]
    }
   ],
   "source": [
    "#si quieren ver la lista ordenada\n",
    "l_ordenada = []\n",
    "for i in range(len(control_l)):\n",
    "    for j in range(control_l[i]):\n",
    "        l_ordenada.append(i+1)\n",
    "print(l)\n",
    "print(l_ordenada)"
   ]
  },
  {
   "cell_type": "markdown",
   "metadata": {},
   "source": [
    "Ahora, resolvamos el problema."
   ]
  },
  {
   "cell_type": "code",
   "execution_count": 25,
   "metadata": {},
   "outputs": [
    {
     "name": "stdout",
     "output_type": "stream",
     "text": [
      "Salida 1\n",
      "1\n",
      "Salida 2\n",
      "3\n",
      "Salida 3\n",
      "4\n",
      "Salida 4\n",
      "2\n"
     ]
    }
   ],
   "source": [
    "#Entrada\n",
    "T = int(input())\n",
    "for i in range(T):\n",
    "    C = int(input())\n",
    "    l = input().split()\n",
    "    \n",
    "    #Separo el ingreso de clientes de su salida\n",
    "    #Recuerda que la entrada consiste en pares de números\n",
    "    ingresos = []\n",
    "    salidas = []\n",
    "    \n",
    "    for j in range(0,C*2,2):\n",
    "        ingresos.append(int(l[j]))\n",
    "    for j in range(1,C*2,2):\n",
    "        salidas.append(int(l[j]))\n",
    "        \n",
    "    ingresos_ordenados = counting_sort(ingresos)\n",
    "    salidas_ordenadas = counting_sort(salidas)\n",
    "\n",
    "    \n",
    "    #resolviendo el problema\n",
    "    contador = 0\n",
    "    maximo = 0\n",
    "    for j in range(len(ingresos_ordenados)):\n",
    "        \n",
    "        #sé cuántos clientes ingresaron a esa hora\n",
    "        contador += ingresos_ordenados[j]\n",
    "        #sé cuántos clientes salieron a esa hora\n",
    "        contador -= salidas_ordenadas[j]\n",
    "        if(contador > maximo):\n",
    "            maximo = contador\n",
    "    \n",
    "    #Output\n",
    "    print(\"Salida\",i+1) #esto lo hago para ayudar al entendimiento\n",
    "    print(maximo)\n",
    "        \n",
    "        \n",
    "    "
   ]
  },
  {
   "cell_type": "markdown",
   "metadata": {},
   "source": [
    "Ahora usaré sólo un caso de uso para que sea más fácil de leer"
   ]
  },
  {
   "cell_type": "code",
   "execution_count": 27,
   "metadata": {},
   "outputs": [
    {
     "name": "stdout",
     "output_type": "stream",
     "text": [
      "Salida 1\n",
      "3\n"
     ]
    }
   ],
   "source": [
    "#Entrada\n",
    "T = int(input())\n",
    "for i in range(T):\n",
    "    C = int(input())\n",
    "    l = input().split()\n",
    "    \n",
    "    #Separo el ingreso de clientes de su salida\n",
    "    #Recuerda que la entrada consiste en pares de números\n",
    "    ingresos = []\n",
    "    salidas = []\n",
    "    \n",
    "    for j in range(0,C*2,2):\n",
    "        ingresos.append(int(l[j]))\n",
    "    for j in range(1,C*2,2):\n",
    "        salidas.append(int(l[j]))\n",
    "        \n",
    "    ingresos_ordenados = counting_sort(ingresos)\n",
    "    salidas_ordenadas = counting_sort(salidas)\n",
    "\n",
    "    \n",
    "    #resolviendo el problema\n",
    "    contador = 0\n",
    "    maximo = 0\n",
    "    for j in range(len(ingresos_ordenados)):\n",
    "        \n",
    "        #sé cuántos clientes ingresaron a esa hora\n",
    "        contador += ingresos_ordenados[j]\n",
    "        #sé cuántos clientes salieron a esa hora\n",
    "        contador -= salidas_ordenadas[j]\n",
    "        if(contador > maximo):\n",
    "            maximo = contador\n",
    "    \n",
    "    #Output\n",
    "    print(\"Salida\",i+1) #esto lo hago para ayudar al entendimiento\n",
    "    print(maximo)"
   ]
  },
  {
   "cell_type": "markdown",
   "metadata": {},
   "source": [
    "Un cliente entra a las 12 y sale a las 20, el siguiene cliente entra a las 13 y sale a las 15, el tercer cliente entra a las 14 y sale a las 16, el último cliente entra a las 15 y sale a las 17."
   ]
  },
  {
   "cell_type": "code",
   "execution_count": 28,
   "metadata": {},
   "outputs": [],
   "source": [
    "#12--13--14--15--16--17--18--19--20\n",
    "    #13--14--15\n",
    "        #14--15--16\n",
    "            #15--16--17\n"
   ]
  },
  {
   "cell_type": "markdown",
   "metadata": {},
   "source": [
    "El gráfico de arriba permite dar un seguimiento al número de clientes que el restaurante atiende de forma simultánea. Si trazas una línea vertical entre cada hora, debes contar cuántas líneas horizontales cortas y obtienes la respuesta. Entre las 14 y 15 horas hay 3 clientes en el restaurante. Cuando el segundo cliente abandona el restaurante, entra el último cliente.  Por lo tanto, entre las 15 y 16 horas también hay 3 clientes en el restaurante. Por eso, la respuesta del algoritmo fue 3."
   ]
  },
  {
   "cell_type": "markdown",
   "metadata": {},
   "source": [
    "### Usando Sorted\n",
    "Ahora usemos la función incorporada en python para resolver el problema."
   ]
  },
  {
   "cell_type": "code",
   "execution_count": null,
   "metadata": {},
   "outputs": [],
   "source": []
  }
 ],
 "metadata": {
  "kernelspec": {
   "display_name": "Python 3",
   "language": "python",
   "name": "python3"
  },
  "language_info": {
   "codemirror_mode": {
    "name": "ipython",
    "version": 3
   },
   "file_extension": ".py",
   "mimetype": "text/x-python",
   "name": "python",
   "nbconvert_exporter": "python",
   "pygments_lexer": "ipython3",
   "version": "3.6.5"
  }
 },
 "nbformat": 4,
 "nbformat_minor": 2
}
