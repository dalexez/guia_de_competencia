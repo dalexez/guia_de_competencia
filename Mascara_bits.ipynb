{
 "cells": [
  {
   "cell_type": "markdown",
   "metadata": {},
   "source": [
    "# Máscara de bits"
   ]
  },
  {
   "cell_type": "markdown",
   "metadata": {},
   "source": [
    "Esta técnica nos permite utilizar una representación binaria para un conjunto de datos."
   ]
  },
  {
   "cell_type": "markdown",
   "metadata": {},
   "source": [
    "## Manipulación de bits"
   ]
  },
  {
   "cell_type": "markdown",
   "metadata": {},
   "source": [
    "Antes de ver la técnica de manejo de conjuntos, creo que vale la pena ver un poco de manipulación de bits en python."
   ]
  },
  {
   "cell_type": "code",
   "execution_count": 20,
   "metadata": {},
   "outputs": [
    {
     "name": "stdout",
     "output_type": "stream",
     "text": [
      "0b100\n"
     ]
    }
   ],
   "source": [
    "#Convertir un número en binario\n",
    "y = bin(4)\n",
    "print(y)"
   ]
  },
  {
   "cell_type": "markdown",
   "metadata": {},
   "source": [
    "Es importante darse cuenta de que esta transformación da como resultado un objeto de tipo string."
   ]
  },
  {
   "cell_type": "code",
   "execution_count": 22,
   "metadata": {},
   "outputs": [
    {
     "data": {
      "text/plain": [
       "str"
      ]
     },
     "execution_count": 22,
     "metadata": {},
     "output_type": "execute_result"
    }
   ],
   "source": [
    "type(y)"
   ]
  },
  {
   "cell_type": "markdown",
   "metadata": {},
   "source": [
    "### Operaciones básicas"
   ]
  },
  {
   "cell_type": "code",
   "execution_count": 25,
   "metadata": {},
   "outputs": [
    {
     "name": "stdout",
     "output_type": "stream",
     "text": [
      "4\n"
     ]
    }
   ],
   "source": [
    "#Declarar un número binario\n",
    "x = 1<<2 #100\n",
    "print(x)"
   ]
  },
  {
   "cell_type": "code",
   "execution_count": 26,
   "metadata": {},
   "outputs": [
    {
     "name": "stdout",
     "output_type": "stream",
     "text": [
      "6\n"
     ]
    }
   ],
   "source": [
    "#Colocar en 1 bits de un número ya declarado\n",
    "x |= 1<<1 #110\n",
    "print(x)"
   ]
  },
  {
   "cell_type": "code",
   "execution_count": 29,
   "metadata": {},
   "outputs": [
    {
     "name": "stdout",
     "output_type": "stream",
     "text": [
      "2\n"
     ]
    }
   ],
   "source": [
    "#Colocar en 0 bits de un número ya declarado\n",
    "x &= ~(1<<2) #010\n",
    "print(x)"
   ]
  },
  {
   "cell_type": "code",
   "execution_count": 31,
   "metadata": {},
   "outputs": [
    {
     "name": "stdout",
     "output_type": "stream",
     "text": [
      "1\n",
      "0\n",
      "0\n"
     ]
    }
   ],
   "source": [
    "#And en operación binaria\n",
    "#1 y 1 es 1\n",
    "print(1 & 1)\n",
    "#0 y lo que sea es 0\n",
    "print(0 & 0)\n",
    "print(0 & 1)"
   ]
  },
  {
   "cell_type": "code",
   "execution_count": 33,
   "metadata": {},
   "outputs": [
    {
     "name": "stdout",
     "output_type": "stream",
     "text": [
      "0\n",
      "1\n",
      "1\n"
     ]
    }
   ],
   "source": [
    "#Or en operación binaria\n",
    "#0 o 0 es 0\n",
    "print(0 | 0)\n",
    "#1 o cualquier cosa es 1\n",
    "print(1 | 0)\n",
    "print(1 | 1)"
   ]
  },
  {
   "cell_type": "markdown",
   "metadata": {},
   "source": [
    "Contaré una anécdota sobre esta forma de trabajar con bits. Cuando estaba en el curso de microcontroladores, se volvió extremadamente necesario entender esto para poder manejar los puertos de entrada y salida del microcontrolador. Tuvimos que aprender a convertir números en base decimal a binaria en segundos. Fueron días difíciles, ciertamente."
   ]
  },
  {
   "cell_type": "markdown",
   "metadata": {},
   "source": [
    "## Dos conjuntos"
   ]
  },
  {
   "cell_type": "markdown",
   "metadata": {},
   "source": [
    "Ahora pensemos que tenemos dos conjuntos de números y queremos saber qué números se encuentran en ambos conjuntos."
   ]
  },
  {
   "cell_type": "code",
   "execution_count": 34,
   "metadata": {},
   "outputs": [],
   "source": [
    "lista1 = [2,3,4,5,24]\n",
    "lista2 = [2,5,7,1,35]"
   ]
  },
  {
   "cell_type": "markdown",
   "metadata": {},
   "source": [
    "Existen dos formas de hacer esto, veamos la forma básica con python."
   ]
  },
  {
   "cell_type": "code",
   "execution_count": 66,
   "metadata": {},
   "outputs": [
    {
     "name": "stdout",
     "output_type": "stream",
     "text": [
      "2\n",
      "5\n"
     ]
    }
   ],
   "source": [
    "interseccion_clasica = []\n",
    "for num in lista1:\n",
    "    if(num in lista2):\n",
    "        interseccion_clasica.append(num)\n",
    "        print(num)"
   ]
  },
  {
   "cell_type": "markdown",
   "metadata": {},
   "source": [
    "Ahora veamos cómo hacerlo con manipulación de bits."
   ]
  },
  {
   "cell_type": "code",
   "execution_count": 39,
   "metadata": {},
   "outputs": [
    {
     "name": "stdout",
     "output_type": "stream",
     "text": [
      "16777276\n",
      "34359738534\n"
     ]
    }
   ],
   "source": [
    "x = 0\n",
    "for num in lista1:\n",
    "    x |= 1<<num\n",
    "print(x)\n",
    "y = 0\n",
    "for num in lista2:\n",
    "    y |= 1<<num\n",
    "print(y)"
   ]
  },
  {
   "cell_type": "code",
   "execution_count": 51,
   "metadata": {},
   "outputs": [
    {
     "name": "stdout",
     "output_type": "stream",
     "text": [
      "0b100100\n",
      "100100\n"
     ]
    }
   ],
   "source": [
    "print(bin(x & y))\n",
    "print(bin(x & y)[2:]) # Para quitarle el prefijio\n",
    "z = bin(x & y)[2:]"
   ]
  },
  {
   "cell_type": "code",
   "execution_count": 68,
   "metadata": {},
   "outputs": [
    {
     "name": "stdout",
     "output_type": "stream",
     "text": [
      "5\n",
      "2\n"
     ]
    }
   ],
   "source": [
    "#Finalmente imprimimos los elementos en común\n",
    "interseccion_mascara = []\n",
    "j = len(z)-1\n",
    "for bit in z:\n",
    "    if (bit == '1'):\n",
    "        print(j)\n",
    "        interseccion_mascara.append(j)\n",
    "    j-=1"
   ]
  },
  {
   "cell_type": "code",
   "execution_count": 69,
   "metadata": {},
   "outputs": [
    {
     "name": "stdout",
     "output_type": "stream",
     "text": [
      "[2, 5]\n",
      "[5, 2]\n"
     ]
    }
   ],
   "source": [
    "print(interseccion_clasica)\n",
    "print(interseccion_mascara)"
   ]
  },
  {
   "cell_type": "markdown",
   "metadata": {},
   "source": [
    "Seguramente estén pensando que no vale la pena usar manipulación de bits si la técnica básica con python es suficiente. Eso es cierto en este caso. O tal vez yo no sé cómo hacerlo de forma correcta. Pero por ningún motivo quiero que descarten la máscara de bits, es un herramienta útil para resolver otros problemas, aunque este no sea un buen ejemplo. También debemos recordar que cuando esta técnica nació se trabaja con lenguajes menos poderosos, python nos facilita mucho las cosas. "
   ]
  },
  {
   "cell_type": "markdown",
   "metadata": {},
   "source": [
    "Espero que este notebook, por lo menos, les ayude a contemplar nuevas ideas para resolver problemas. Espero en el futuro encontrar mejores ejemplos de la utilización de máscara de bits, pero esto es lo que se nos ofrece en esta ocasión."
   ]
  }
 ],
 "metadata": {
  "kernelspec": {
   "display_name": "Python 3",
   "language": "python",
   "name": "python3"
  },
  "language_info": {
   "codemirror_mode": {
    "name": "ipython",
    "version": 3
   },
   "file_extension": ".py",
   "mimetype": "text/x-python",
   "name": "python",
   "nbconvert_exporter": "python",
   "pygments_lexer": "ipython3",
   "version": "3.6.5"
  }
 },
 "nbformat": 4,
 "nbformat_minor": 2
}
